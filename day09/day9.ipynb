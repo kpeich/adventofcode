{
 "cells": [
  {
   "cell_type": "markdown",
   "metadata": {},
   "source": [
    "# ---Day 9: Sensor Boost---"
   ]
  },
  {
   "cell_type": "markdown",
   "metadata": {},
   "source": [
    "## ---Part One---"
   ]
  },
  {
   "cell_type": "markdown",
   "metadata": {},
   "source": [
    "You've just said goodbye to the rebooted rover and left Mars when you receive a faint distress signal coming from the asteroid belt. It must be the Ceres monitoring station!\n",
    "\n",
    "In order to lock on to the signal, you'll need to boost your sensors. The Elves send up the latest ***BOOST*** program - Basic Operation Of System Test.\n",
    "\n",
    "While BOOST (your puzzle input) is capable of boosting your sensors, for tenuous safety reasons, it refuses to do so until the computer it runs on passes some checks to demonstrate it is a ***complete Intcode computer***.\n",
    "\n",
    "Your existing Intcode computer (day5) is missing one key feature: it needs support for parameters in ***relative mode***.\n",
    "\n",
    "Parameters in mode 2, ***relative mode***, behave very similarly to parameters in ***position mode***: \n",
    "> The parameter is interpreted as a position. Like position mode, parameters in relative mode can be read from or written to.\n",
    "\n",
    "The important difference is that relative mode parameters don't count from address `0`. Instead, they count from a value called the ***relative base***. The ***relative base*** starts at `0`.\n",
    "\n",
    "The address a relative mode parameter refers to is itself ***plus*** the current ***relative base***. When the relative base is `0`, relative mode parameters and position mode parameters with the same value refer to the same address.\n",
    "\n",
    "For example, given a relative base of `50`, a relative mode parameter of `-7` refers to memory address `50 + -7 = 43`.\n",
    "\n",
    "The relative base is modified with the ***relative base offset*** instruction:\n",
    "\n",
    "* Opcode 9 ***adjusts the relative base*** by the value of its only parameter. The relative base increases (or decreases, if the value is negative) by the value of the parameter.\n",
    "\n",
    "**For example, if the relative base is `2000`, then after the instruction `109,19`, the relative base would be `2019`. If the next instruction were `204,-34`, then the value at address `1985` would be output.**\n",
    "\n",
    "Your Intcode computer will also need a few other capabilities:\n",
    "\n",
    "* The computer's available memory should be much larger than the initial program. Memory beyond the initial program starts with the value 0 and can be read or written like any other memory. (It is invalid to try to access memory at a negative address, though.)\n",
    "* The computer should have support for large numbers. Some instructions near the beginning of the BOOST program will verify this capability.\n",
    "\n",
    "Here are some example programs that use these features:\n",
    "\n",
    "* `109,1,204,-1,1001,100,1,100,1008,100,16,101,1006,101,0,99` takes no input and produces a <a src=\"https://en.wikipedia.org/wiki/Quine_(computing)\">copy of itself</a> as output.\n",
    "* `1102,34915192,34915192,7,4,7,99,0` should output a 16-digit number.\n",
    "* `104,1125899906842624,99` should output the large number in the middle.\n",
    "\n",
    "The BOOST program will ask for a single input; run it in test mode by providing it the value 1. It will perform a series of checks on each opcode, output any opcodes (and the associated parameter modes) that seem to be functioning incorrectly, and finally output a BOOST keycode.\n",
    "\n",
    "Once your Intcode computer is fully functional, the BOOST program should report no malfunctioning opcodes when run in test mode; it should only output a single value, the BOOST keycode. \n",
    "\n",
    "**What BOOST keycode does it produce?**"
   ]
  },
  {
   "cell_type": "markdown",
   "metadata": {},
   "source": [
    "### Computer class from day07 with additional day09 requirements\n",
    "\n",
    "**Things to possibly look into:**\n",
    ">* Why do I have to write over the parameters that an instruction writes for opcode 1, 2, 7, and 8\n",
    ">* Deciding on how much memory to add to the program on initialization"
   ]
  },
  {
   "cell_type": "code",
   "execution_count": 1,
   "metadata": {},
   "outputs": [],
   "source": [
    "class Computer:\n",
    "    def __init__(self, program, input_val=1):\n",
    "        self.program = program + [0 for i in range(1000)]\n",
    "        self.input = input_val\n",
    "        self.pointer = 0\n",
    "        self.instruction = 0\n",
    "        self.base = 0\n",
    "        self.out = 0\n",
    "        self.opcode = { 1 : self.add,\n",
    "                       2 : self.multiply,\n",
    "                       3 : self.save,\n",
    "                       4 : self.output,\n",
    "                       5 : self.jump_true,\n",
    "                       6 : self.jump_false,\n",
    "                       7 : self.less_than,\n",
    "                       8 : self.is_equal,\n",
    "                       9 : self.change_base,\n",
    "                       99 : self.halt }\n",
    "    \n",
    "    def set_instruction(self):\n",
    "        self.instruction = self.program[self.pointer]\n",
    "        self.pointer += 1\n",
    "        \n",
    "    def get_opcode(self):\n",
    "        return self.instruction % 100\n",
    "    \n",
    "    def get_modes(self):\n",
    "        return self.instruction // 100\n",
    "\n",
    "    def get_parameters(self, modes, num_parameters=3):\n",
    "        mode = [ (modes // 10**n % 10) for n in range(num_parameters) ]\n",
    "        parameters = []\n",
    "        for i in range(self.pointer, self.pointer+num_parameters):\n",
    "            if mode[i-self.pointer]:\n",
    "                if mode[i-self.pointer] == 2:\n",
    "                    parameters.append(self.program[self.program[i]+self.base])\n",
    "                else:\n",
    "                    parameters.append(self.program[i])\n",
    "            else:\n",
    "                parameters.append(self.program[self.program[i]])\n",
    "        return parameters\n",
    "    \n",
    "    def set_write(self, modes, num_parameters):\n",
    "        relative = [ (modes // 10**n % 10) for n in range(num_parameters) ][-1]\n",
    "        if relative:\n",
    "            return self.program[self.pointer+num_parameters-1]+self.base\n",
    "        return self.program[self.pointer+num_parameters-1]\n",
    "\n",
    "    def add(self, step=3):\n",
    "        values = self.get_parameters(self.get_modes(), step)\n",
    "        # Write over last parameter because it should always be a value indicating the location\n",
    "        values[-1] = self.set_write(self.get_modes(), step)\n",
    "        self.program[values[-1]] = values[0] + values[1]\n",
    "        self.pointer += step\n",
    "        \n",
    "    def multiply(self, step=3):\n",
    "        values = self.get_parameters(self.get_modes(), step)\n",
    "        # Write over last parameter because it should always be a value indicating the location\n",
    "        values[-1] = self.set_write(self.get_modes(), step)\n",
    "        self.program[values[-1]] = values[0] * values[1]\n",
    "        self.pointer += step\n",
    "        \n",
    "    def save(self, step=1):\n",
    "        if self.get_modes():\n",
    "            self.program[self.program[self.pointer]+self.base] = self.input\n",
    "        else:\n",
    "            self.program[self.program[self.pointer]] = self.input\n",
    "        self.pointer += step\n",
    "        \n",
    "    def output(self, step=1):\n",
    "        self.out = self.get_parameters(self.get_modes(), step)[0]\n",
    "        print(f'Output: {self.out}')\n",
    "        self.pointer += step \n",
    "        \n",
    "    def jump_true(self, step=2):\n",
    "        values = self.get_parameters(self.get_modes(), step)\n",
    "        if values[0] != 0:\n",
    "            self.pointer = values[1]\n",
    "        else:\n",
    "            self.pointer += step\n",
    "            \n",
    "    def jump_false(self, step=2):\n",
    "        values = self.get_parameters(self.get_modes(), step)\n",
    "        if values[0] == 0:\n",
    "            self.pointer = values[1]\n",
    "        else:\n",
    "            self.pointer += step\n",
    "            \n",
    "    def less_than(self, step=3):\n",
    "        values = self.get_parameters(self.get_modes(), step)\n",
    "        # Write over last parameter because it should always be a value indicating the location\n",
    "        values[-1] = self.set_write(self.get_modes(), step)\n",
    "        self.program[values[-1]] = int(values[0] < values[1])\n",
    "        self.pointer += step\n",
    "    \n",
    "    def is_equal(self, step=3):\n",
    "        values = self.get_parameters(self.get_modes(), step)\n",
    "        # Write over last parameter because it should always be a value indicating the location\n",
    "        values[-1] = self.set_write(self.get_modes(), step)\n",
    "        self.program[values[-1]] = values[0] * values[1]\n",
    "        self.program[values[-1]] = int(values[0]==values[1])\n",
    "        self.pointer += step\n",
    "    \n",
    "    def change_base(self, step=1):\n",
    "        value = self.get_parameters(self.get_modes(), step)\n",
    "        self.base += value[0]\n",
    "        self.pointer += step\n",
    "        \n",
    "    def halt(self):\n",
    "        print(\"Program Halted.\")\n",
    "        self.instruction = -1\n",
    "    \n",
    "    def run(self):\n",
    "        while self.instruction != -1:\n",
    "            #print(self.program, self.base)\n",
    "            self.set_instruction()\n",
    "            #print(self.pointer, self.instruction) # Used for Testing\n",
    "            self.opcode[self.get_opcode()]()\n",
    "            # print(self.program[:self.pointer+1], self.program[self.pointer:self.pointer+4]) # Used for Testing"
   ]
  },
  {
   "cell_type": "markdown",
   "metadata": {},
   "source": [
    "#### Examples for new functionality"
   ]
  },
  {
   "cell_type": "code",
   "execution_count": 2,
   "metadata": {},
   "outputs": [
    {
     "name": "stdout",
     "output_type": "stream",
     "text": [
      "Output: 42\n",
      "Program Halted.\n"
     ]
    }
   ],
   "source": [
    "ex0 = [109,2019,204,-2014,99,42]\n",
    "ex0_cpu = Computer(ex0)\n",
    "ex0_cpu.run()"
   ]
  },
  {
   "cell_type": "code",
   "execution_count": 3,
   "metadata": {},
   "outputs": [
    {
     "name": "stdout",
     "output_type": "stream",
     "text": [
      "Output: 109\n",
      "Output: 1\n",
      "Output: 204\n",
      "Output: -1\n",
      "Output: 1001\n",
      "Output: 100\n",
      "Output: 1\n",
      "Output: 100\n",
      "Output: 1008\n",
      "Output: 100\n",
      "Output: 16\n",
      "Output: 101\n",
      "Output: 1006\n",
      "Output: 101\n",
      "Output: 0\n",
      "Output: 99\n",
      "Program Halted.\n"
     ]
    }
   ],
   "source": [
    "#takes no input and produces a copy of itself as output\n",
    "ex1 = [109,1,204,-1,1001,100,1,100,1008,100,16,101,1006,101,0,99]\n",
    "ex1_cpu = Computer(ex1)\n",
    "ex1_cpu.run()"
   ]
  },
  {
   "cell_type": "code",
   "execution_count": 4,
   "metadata": {},
   "outputs": [
    {
     "name": "stdout",
     "output_type": "stream",
     "text": [
      "Output: 1219070632396864\n",
      "Program Halted.\n"
     ]
    }
   ],
   "source": [
    "#should output a 16-digit number.\n",
    "ex2 = [1102,34915192,34915192,7,4,7,99,0]\n",
    "ex2_cpu = Computer(ex2)\n",
    "ex2_cpu.run()"
   ]
  },
  {
   "cell_type": "code",
   "execution_count": 5,
   "metadata": {},
   "outputs": [
    {
     "name": "stdout",
     "output_type": "stream",
     "text": [
      "Output: 1125899906842624\n",
      "Program Halted.\n"
     ]
    }
   ],
   "source": [
    "#should output the large number in the middle.\n",
    "ex3 = [104,1125899906842624,99]\n",
    "ex3_cpu = Computer(ex3)\n",
    "ex3_cpu.run()"
   ]
  },
  {
   "cell_type": "code",
   "execution_count": 6,
   "metadata": {},
   "outputs": [
    {
     "name": "stdout",
     "output_type": "stream",
     "text": [
      "Output: 3063082071\n",
      "Program Halted.\n"
     ]
    }
   ],
   "source": [
    "with open('day9.txt') as f:\n",
    "    boost = [ int(i) for i in f.read().split(',') ]\n",
    "    boost_cpu = Computer(boost, 1)\n",
    "    boost_cpu.run()"
   ]
  },
  {
   "cell_type": "markdown",
   "metadata": {},
   "source": [
    "## ---Part Two---"
   ]
  },
  {
   "cell_type": "markdown",
   "metadata": {},
   "source": [
    "***You now have a complete Intcode computer.***\n",
    "\n",
    "Finally, you can lock on to the Ceres distress signal! You just need to boost your sensors using the BOOST program.\n",
    "\n",
    "The program runs in sensor boost mode by providing the input instruction the value 2. Once run, it will boost the sensors automatically, but it might take a few seconds to complete the operation on slower hardware. In sensor boost mode, the program will output a single value: ***the coordinates of the distress signal***.\n",
    "\n",
    "Run the BOOST program in sensor boost mode. **What are the coordinates of the distress signal?**"
   ]
  },
  {
   "cell_type": "code",
   "execution_count": 7,
   "metadata": {},
   "outputs": [
    {
     "name": "stdout",
     "output_type": "stream",
     "text": [
      "Output: 81348\n",
      "Program Halted.\n"
     ]
    }
   ],
   "source": [
    "with open('day9.txt') as f:\n",
    "    sensor_boost = [ int(i) for i in f.read().split(',') ]\n",
    "    sensor_boost_cpu = Computer(boost, 2)\n",
    "    sensor_boost_cpu.run()"
   ]
  }
 ],
 "metadata": {
  "kernelspec": {
   "display_name": "Python 3",
   "language": "python",
   "name": "python3"
  },
  "language_info": {
   "codemirror_mode": {
    "name": "ipython",
    "version": 3
   },
   "file_extension": ".py",
   "mimetype": "text/x-python",
   "name": "python",
   "nbconvert_exporter": "python",
   "pygments_lexer": "ipython3",
   "version": "3.8.1"
  }
 },
 "nbformat": 4,
 "nbformat_minor": 4
}
