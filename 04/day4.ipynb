{
 "cells": [
  {
   "cell_type": "markdown",
   "metadata": {},
   "source": [
    "# --- Day 4:  ---"
   ]
  },
  {
   "cell_type": "markdown",
   "metadata": {},
   "source": [
    "## ---Part One---"
   ]
  },
  {
   "cell_type": "code",
   "execution_count": 163,
   "metadata": {},
   "outputs": [],
   "source": [
    "import numpy as np\n",
    "from itertools import groupby # split list of lists on empty element"
   ]
  },
  {
   "cell_type": "code",
   "execution_count": 164,
   "metadata": {},
   "outputs": [],
   "source": [
    "with open('day04.txt') as f:\n",
    "    data = [line.strip() for line in f]"
   ]
  },
  {
   "cell_type": "code",
   "execution_count": 165,
   "metadata": {},
   "outputs": [],
   "source": [
    "bingo_balls = [int(i) for i in data[0].split(',')]"
   ]
  },
  {
   "cell_type": "code",
   "execution_count": 434,
   "metadata": {},
   "outputs": [],
   "source": [
    "# using itertools.groupby() + list comprehension\n",
    "# divide list to siblist on empty\n",
    "boards = [list(lists) for element, lists in groupby(data[2:], key = bool) if element]"
   ]
  },
  {
   "cell_type": "code",
   "execution_count": 479,
   "metadata": {},
   "outputs": [
    {
     "name": "stdout",
     "output_type": "stream",
     "text": [
      "100\n"
     ]
    }
   ],
   "source": [
    "print(len(bingo_balls))"
   ]
  },
  {
   "cell_type": "code",
   "execution_count": 611,
   "metadata": {},
   "outputs": [],
   "source": [
    "def get_winner(boards, draw_order, last=False):\n",
    "    '''\n",
    "    returns winner row/col,\n",
    "    board number(wrong), \n",
    "    winning row/col, \n",
    "    ball number, \n",
    "    and last drawn ball\n",
    "    '''\n",
    "    num_boards = len(boards)\n",
    "    num_winners = 0\n",
    "    ball_num = 5\n",
    "    drawn_balls = set(draw_order[:5])\n",
    "    \n",
    "    # get the winning row/cols; this is disgusting\n",
    "    boards2 = np.array([[[int(num) for num in row.split()] for row in board] for board in boards])\n",
    "    winners = []\n",
    "    for board in boards2:\n",
    "        for row in board:\n",
    "            winners.append(set(row))\n",
    "        for row in board.transpose():\n",
    "            winners.append(set(row))\n",
    "        \n",
    "    if not last:\n",
    "        while True:\n",
    "            for idx, nums in enumerate(winners):\n",
    "                if drawn_balls.intersection(nums) == nums:\n",
    "                    return(idx, idx//10, nums, ball_num, draw_order[ball_num-1])\n",
    "            drawn_balls.add(draw_order[ball_num])\n",
    "            ball_num += 1\n",
    "    else:\n",
    "        while (num_winners < num_boards) and (ball_num != len(draw_order)):\n",
    "            windx = []\n",
    "            for idx, nums in enumerate(winners):\n",
    "                if drawn_balls.intersection(nums) == nums:\n",
    "                    print(f'{num_winners} found winner {winners[idx]} at {idx} with {ball_num} ball #{draw_order[ball_num-1]}')\n",
    "                    windx.append(idx)\n",
    "            for i in windx[::-1]:\n",
    "                num_winners += 1\n",
    "                if num_winners == num_boards:\n",
    "                    return (winners[:5], nums, ball_num, draw_order[ball_num-1])\n",
    "                else:\n",
    "                    if i - i % 10 == len(winners)-1:\n",
    "                        winners = winners[:len(winners)-11]\n",
    "                    else:\n",
    "                        winners = winners[:i - i%10] + winners[i - i%10 + 10:]\n",
    "            \n",
    "            drawn_balls.add(draw_order[ball_num])\n",
    "            ball_num += 1\n",
    "    return 0\n",
    "    "
   ]
  },
  {
   "cell_type": "code",
   "execution_count": 577,
   "metadata": {},
   "outputs": [
    {
     "data": {
      "text/plain": [
       "(78, 7, {26, 51, 52, 64, 92}, 34, 26)"
      ]
     },
     "execution_count": 577,
     "metadata": {},
     "output_type": "execute_result"
    }
   ],
   "source": [
    "get_winner(boards, bingo_balls)"
   ]
  },
  {
   "cell_type": "code",
   "execution_count": 481,
   "metadata": {},
   "outputs": [
    {
     "name": "stdout",
     "output_type": "stream",
     "text": [
      "[69, 88, 67, 56, 53, 97, 46, 29, 37, 51, 3, 93, 92, 78, 41, 22, 45, 66, 13, 82, 2, 7, 52, 40, 18, 70, 32, 95, 89, 64, 84, 68, 83, 26]\n",
      "{2, 3, 7, 13, 18, 22, 26, 29, 32, 37, 40, 41, 45, 46, 51, 52, 53, 56, 64, 66, 67, 68, 69, 70, 78, 82, 83, 84, 88, 89, 92, 93, 95, 97}\n"
     ]
    }
   ],
   "source": [
    "print(bingo_balls[:34])\n",
    "print(set(bingo_balls[:34]))"
   ]
  },
  {
   "cell_type": "code",
   "execution_count": 426,
   "metadata": {},
   "outputs": [
    {
     "data": {
      "text/plain": [
       "array([[ 2, 16, 50, 26, 84],\n",
       "       [97, 24, 32, 51,  8],\n",
       "       [70,  0,  3, 52,  9],\n",
       "       [ 1, 59, 43, 64, 80],\n",
       "       [22, 23, 17, 92, 88]])"
      ]
     },
     "execution_count": 426,
     "metadata": {},
     "output_type": "execute_result"
    }
   ],
   "source": [
    "winning_board = boards2[7]\n",
    "winning_board"
   ]
  },
  {
   "cell_type": "code",
   "execution_count": 427,
   "metadata": {},
   "outputs": [
    {
     "data": {
      "text/plain": [
       "8580"
      ]
     },
     "execution_count": 427,
     "metadata": {},
     "output_type": "execute_result"
    }
   ],
   "source": [
    "drawn = set(bingo_balls[:34])\n",
    "winning_board_nums = set(i for i in np.reshape(winning_board,25))\n",
    "sum(winning_board_nums.difference(drawn)) * 26"
   ]
  },
  {
   "cell_type": "code",
   "execution_count": 613,
   "metadata": {},
   "outputs": [
    {
     "name": "stdout",
     "output_type": "stream",
     "text": [
      "0 found winner {64, 51, 52, 26, 92} at 78 with 34 ball #26\n",
      "1 found winner {3, 67, 37, 43, 46} at 153 with 35 ball #43\n",
      "2 found winner {0, 45, 52, 93, 95} at 733 with 36 ball #0\n",
      "3 found winner {97, 67, 26, 92, 61} at 137 with 37 ball #61\n",
      "4 found winner {36, 7, 45, 88, 57} at 106 with 39 ball #57\n",
      "4 found winner {32, 70, 45, 18, 57} at 872 with 39 ball #57\n",
      "6 found winner {67, 70, 7, 80, 53} at 532 with 41 ball #80\n",
      "7 found winner {6, 7, 82, 51, 22} at 150 with 43 ball #6\n",
      "7 found winner {70, 6, 78, 83, 57} at 379 with 43 ball #6\n",
      "9 found winner {37, 40, 51, 84, 63} at 36 with 44 ball #63\n",
      "10 found winner {72, 41, 51, 53, 29} at 112 with 45 ball #72\n",
      "10 found winner {67, 72, 46, 82, 92} at 653 with 45 ball #72\n",
      "10 found winner {37, 72, 53, 89, 26} at 687 with 45 ball #72\n",
      "13 found winner {98, 68, 78, 84, 89} at 743 with 46 ball #98\n",
      "14 found winner {3, 68, 46, 82, 21} at 295 with 47 ball #21\n",
      "14 found winner {45, 18, 83, 21, 56} at 564 with 47 ball #21\n",
      "14 found winner {36, 45, 21, 22, 88} at 768 with 47 ball #21\n",
      "17 found winner {32, 98, 3, 51, 54} at 118 with 48 ball #54\n",
      "17 found winner {66, 78, 80, 83, 54} at 723 with 48 ball #54\n",
      "19 found winner {40, 72, 13, 51, 23} at 450 with 49 ball #23\n",
      "20 found winner {97, 46, 82, 89, 28} at 126 with 50 ball #28\n",
      "20 found winner {66, 3, 43, 22, 28} at 484 with 50 ball #28\n",
      "22 found winner {65, 69, 41, 18, 89} at 371 with 51 ball #65\n",
      "23 found winner {32, 34, 43, 16, 57} at 41 with 52 ball #16\n",
      "24 found winner {67, 76, 45, 13, 84} at 27 with 53 ball #76\n",
      "24 found winner {76, 80, 82, 53, 29} at 390 with 53 ball #76\n",
      "24 found winner {76, 13, 89, 26, 93} at 422 with 53 ball #76\n",
      "24 found winner {64, 97, 40, 43, 76} at 490 with 53 ball #76\n",
      "24 found winner {70, 39, 76, 54, 93} at 699 with 53 ball #76\n",
      "29 found winner {32, 36, 39, 11, 78} at 153 with 54 ball #11\n",
      "29 found winner {0, 11, 80, 93, 63} at 415 with 54 ball #11\n",
      "29 found winner {0, 11, 80, 89, 28} at 535 with 54 ball #11\n",
      "32 found winner {66, 70, 39, 46, 20} at 416 with 55 ball #20\n",
      "33 found winner {96, 72, 11, 23, 57} at 366 with 57 ball #96\n",
      "33 found winner {96, 83, 84, 29, 63} at 576 with 57 ball #96\n",
      "35 found winner {66, 4, 7, 43, 78} at 142 with 58 ball #4\n",
      "35 found winner {67, 4, 28, 61, 95} at 151 with 58 ball #4\n",
      "35 found winner {3, 4, 69, 52, 29} at 167 with 58 ball #4\n",
      "35 found winner {4, 39, 45, 18, 54} at 567 with 58 ball #4\n",
      "39 found winner {0, 96, 10, 21, 23} at 129 with 59 ball #10\n",
      "39 found winner {6, 72, 10, 45, 61} at 390 with 59 ball #10\n",
      "39 found winner {65, 66, 10, 29, 95} at 502 with 59 ball #10\n",
      "42 found winner {10, 16, 57, 30, 95} at 31 with 61 ball #30\n",
      "42 found winner {65, 41, 26, 28, 30} at 281 with 61 ball #30\n",
      "42 found winner {11, 45, 16, 28, 30} at 452 with 61 ball #30\n",
      "45 found winner {32, 7, 80, 18, 19} at 104 with 62 ball #19\n",
      "45 found winner {33, 69, 43, 19, 53} at 153 with 62 ball #19\n",
      "45 found winner {64, 3, 39, 11, 19} at 288 with 62 ball #19\n",
      "45 found winner {67, 40, 46, 19, 30} at 319 with 62 ball #19\n",
      "45 found winner {66, 98, 41, 19, 84} at 415 with 62 ball #19\n",
      "50 found winner {33, 7, 18, 21, 90} at 101 with 63 ball #90\n",
      "50 found winner {96, 26, 13, 90, 30} at 183 with 63 ball #90\n",
      "50 found winner {65, 2, 80, 90, 30} at 241 with 63 ball #90\n",
      "50 found winner {32, 67, 36, 46, 90} at 442 with 63 ball #90\n",
      "54 found winner {68, 70, 39, 40, 24} at 154 with 64 ball #24\n",
      "54 found winner {4, 83, 22, 24, 57} at 159 with 64 ball #24\n",
      "56 found winner {96, 98, 68, 10, 55} at 26 with 65 ball #55\n",
      "56 found winner {64, 0, 34, 55, 30} at 199 with 65 ball #55\n",
      "56 found winner {16, 51, 54, 55, 25} at 369 with 65 ball #55\n",
      "56 found winner {66, 36, 18, 55, 30} at 402 with 65 ball #55\n",
      "60 found winner {98, 16, 22, 55, 91} at 41 with 66 ball #91\n",
      "60 found winner {64, 97, 70, 10, 91} at 62 with 66 ball #91\n",
      "60 found winner {98, 40, 13, 52, 91} at 71 with 66 ball #91\n",
      "60 found winner {40, 43, 20, 91, 29} at 117 with 66 ball #91\n",
      "60 found winner {45, 78, 26, 91, 30} at 150 with 66 ball #91\n",
      "60 found winner {40, 11, 82, 90, 91} at 205 with 66 ball #91\n",
      "66 found winner {69, 43, 46, 15, 92} at 61 with 67 ball #15\n",
      "66 found winner {2, 10, 15, 83, 21} at 154 with 67 ball #15\n",
      "66 found winner {64, 98, 45, 15, 57} at 289 with 67 ball #15\n",
      "66 found winner {64, 32, 13, 15, 63} at 303 with 67 ball #15\n",
      "70 found winner {64, 33, 8, 40, 28} at 74 with 68 ball #8\n",
      "70 found winner {32, 97, 8, 56, 61} at 114 with 68 ball #8\n",
      "70 found winner {69, 8, 11, 51, 61} at 141 with 68 ball #8\n",
      "70 found winner {37, 7, 8, 23, 91} at 234 with 68 ball #8\n",
      "70 found winner {8, 11, 51, 20, 30} at 239 with 68 ball #8\n",
      "75 found winner {97, 34, 71, 43, 23} at 50 with 69 ball #71\n",
      "75 found winner {71, 41, 18, 22, 63} at 60 with 69 ball #71\n",
      "75 found winner {33, 71, 82, 84, 24} at 90 with 69 ball #71\n",
      "75 found winner {32, 71, 41, 28, 95} at 96 with 69 ball #71\n",
      "75 found winner {69, 39, 40, 71, 19} at 220 with 69 ball #71\n",
      "75 found winner {68, 71, 13, 19, 84} at 243 with 69 ball #71\n",
      "81 found winner {0, 34, 99, 70, 82} at 7 with 70 ball #99\n",
      "81 found winner {97, 99, 51, 83, 28} at 123 with 70 ball #99\n",
      "83 found winner {39, 10, 45, 58, 91} at 1 with 71 ball #58\n",
      "83 found winner {66, 71, 41, 16, 58} at 127 with 71 ball #58\n",
      "83 found winner {32, 97, 88, 58, 61} at 164 with 71 ball #58\n",
      "86 found winner {69, 10, 82, 52, 60} at 53 with 73 ball #60\n",
      "86 found winner {69, 10, 88, 25, 60} at 97 with 73 ball #60\n",
      "88 found winner {37, 41, 48, 26, 93} at 36 with 74 ball #48\n",
      "88 found winner {15, 16, 48, 18, 26} at 83 with 74 ball #48\n",
      "88 found winner {37, 7, 48, 84, 61} at 87 with 74 ball #48\n",
      "91 found winner {99, 68, 44, 20, 28} at 82 with 75 ball #44\n",
      "92 found winner {66, 43, 17, 22, 61} at 76 with 76 ball #17\n",
      "93 found winner {65, 47, 93, 85, 29} at 53 with 78 ball #85\n",
      "94 found winner {74, 47, 19, 84, 57} at 12 with 79 ball #74\n",
      "94 found winner {65, 67, 36, 74, 13} at 17 with 79 ball #74\n",
      "94 found winner {40, 74, 14, 47, 58} at 28 with 79 ball #74\n",
      "97 found winner {98, 80, 84, 27, 60} at 5 with 82 ball #27\n",
      "97 found winner {98, 43, 18, 23, 27} at 15 with 82 ball #27\n",
      "99 found winner {34, 7, 42, 91, 61} at 4 with 83 ball #42\n",
      "[{39, 75, 76, 58, 30}, {97, 70, 53, 59, 62}, {54, 89, 27, 29, 31}, {32, 1, 37, 86, 90}, {34, 7, 42, 91, 61}]\n",
      " {97, 1, 76, 89, 91}\n",
      " 83\n",
      " 42\n",
      "\n"
     ]
    }
   ],
   "source": [
    "last, winners, ball, ball_num = get_winner(boards, bingo_balls, last=True)\n",
    "print(f'{last}\\n {winners}\\n {ball}\\n {ball_num}\\n')"
   ]
  },
  {
   "cell_type": "code",
   "execution_count": 618,
   "metadata": {},
   "outputs": [
    {
     "name": "stdout",
     "output_type": "stream",
     "text": [
      "[69, 88, 67, 56, 53, 97, 46, 29, 37, 51, 3, 93, 92, 78, 41, 22, 45, 66, 13, 82, 2, 7, 52, 40, 18, 70, 32, 95, 89, 64, 84, 68, 83, 26, 43, 0, 61, 36, 57, 34, 80, 39, 6, 63, 72, 98, 21, 54, 23, 28, 65, 16, 76, 11, 20, 33, 96, 4, 10, 25, 30, 19, 90, 24, 55, 91, 15, 8, 71, 99, 58, 14, 60, 48, 44, 17, 47, 85, 74, 87, 86, 27, 42]\n"
     ]
    }
   ],
   "source": [
    "print(bingo_balls[:ball])"
   ]
  },
  {
   "cell_type": "code",
   "execution_count": 615,
   "metadata": {},
   "outputs": [
    {
     "data": {
      "text/plain": [
       "array([[30, 39, 58, 75, 76],\n",
       "       [62, 53, 59, 70, 97],\n",
       "       [29, 31, 54, 27, 89],\n",
       "       [90, 32, 37, 86,  1],\n",
       "       [ 7, 34, 42, 61, 91]])"
      ]
     },
     "execution_count": 615,
     "metadata": {},
     "output_type": "execute_result"
    }
   ],
   "source": [
    "last_board = boards2[68] # visual inspection\n",
    "last_board"
   ]
  },
  {
   "cell_type": "code",
   "execution_count": 620,
   "metadata": {},
   "outputs": [
    {
     "name": "stdout",
     "output_type": "stream",
     "text": [
      "{1, 75, 59, 62, 31}\n"
     ]
    },
    {
     "data": {
      "text/plain": [
       "9576"
      ]
     },
     "execution_count": 620,
     "metadata": {},
     "output_type": "execute_result"
    }
   ],
   "source": [
    "drawn = set(bingo_balls[:ball])\n",
    "last_board_nums = set(i for i in np.reshape(last_board,25))\n",
    "print(last_board_nums.difference(drawn))\n",
    "sum(last_board_nums.difference(drawn)) * ball_num"
   ]
  },
  {
   "cell_type": "code",
   "execution_count": 544,
   "metadata": {},
   "outputs": [],
   "source": [
    "test = '''7,4,9,5,11,17,23,2,0,14,21,24,10,16,13,6,15,25,12,22,18,20,8,19,3,26,1\n",
    "\n",
    "22 13 17 11  0\n",
    " 8  2 23  4 24\n",
    "21  9 14 16  7\n",
    " 6 10  3 18  5\n",
    " 1 12 20 15 19\n",
    "\n",
    " 3 15  0  2 22\n",
    " 9 18 13 17  5\n",
    "19  8  7 25 23\n",
    "20 11 10 24  4\n",
    "14 21 16 12  6\n",
    "\n",
    "14 21 17 24  4\n",
    "10 16 15  9 19\n",
    "18  8 23 26 20\n",
    "22 11 13  6  5\n",
    " 2  0 12  3  7'''"
   ]
  },
  {
   "cell_type": "code",
   "execution_count": 545,
   "metadata": {},
   "outputs": [],
   "source": [
    "test2 = test.split('\\n')\n",
    "test_balls = [int(i) for i in test2[0].split(',')]\n",
    "test_boards = [list(lists) for element, lists in groupby(test2[2:], key = bool) if element]"
   ]
  },
  {
   "cell_type": "code",
   "execution_count": 612,
   "metadata": {},
   "outputs": [
    {
     "name": "stdout",
     "output_type": "stream",
     "text": [
      "0 found winner {4, 14, 17, 21, 24} at 20 with 12 ball #24\n",
      "1 found winner {7, 9, 14, 16, 21} at 2 with 14 ball #16\n",
      "2 found winner {0, 7, 10, 13, 16} at 7 with 15 ball #13\n"
     ]
    },
    {
     "data": {
      "text/plain": [
       "([{0, 2, 3, 15, 22},\n",
       "  {5, 9, 13, 17, 18},\n",
       "  {7, 8, 19, 23, 25},\n",
       "  {4, 10, 11, 20, 24},\n",
       "  {6, 12, 14, 16, 21}],\n",
       " {4, 5, 6, 22, 23},\n",
       " 15,\n",
       " 13)"
      ]
     },
     "execution_count": 612,
     "metadata": {},
     "output_type": "execute_result"
    }
   ],
   "source": [
    "get_winner(test_boards, test_balls, last=True)"
   ]
  },
  {
   "cell_type": "code",
   "execution_count": 562,
   "metadata": {},
   "outputs": [
    {
     "data": {
      "text/plain": [
       "23400"
      ]
     },
     "execution_count": 562,
     "metadata": {},
     "output_type": "execute_result"
    }
   ],
   "source": [
    "drawn = set(test_balls[:22])\n",
    "winning_board_nums = set(i for i in np.reshape(winning_board,25))\n",
    "sum(winning_board_nums.difference(drawn)) * 26"
   ]
  },
  {
   "cell_type": "code",
   "execution_count": null,
   "metadata": {},
   "outputs": [],
   "source": []
  }
 ],
 "metadata": {
  "kernelspec": {
   "display_name": "Python 3",
   "language": "python",
   "name": "python3"
  },
  "language_info": {
   "codemirror_mode": {
    "name": "ipython",
    "version": 3
   },
   "file_extension": ".py",
   "mimetype": "text/x-python",
   "name": "python",
   "nbconvert_exporter": "python",
   "pygments_lexer": "ipython3",
   "version": "3.8.1"
  }
 },
 "nbformat": 4,
 "nbformat_minor": 4
}
