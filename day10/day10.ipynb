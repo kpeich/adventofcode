{
 "cells": [
  {
   "cell_type": "markdown",
   "metadata": {},
   "source": [
    "# ---Day 10: Monitoring Station---"
   ]
  },
  {
   "cell_type": "markdown",
   "metadata": {},
   "source": [
    "## --Part One---"
   ]
  },
  {
   "cell_type": "markdown",
   "metadata": {},
   "source": [
    "You fly into the asteroid belt and reach the Ceres monitoring station. The Elves here have an emergency: they're having trouble tracking all of the asteroids and can't be sure they're safe.\n",
    "\n",
    "The Elves would like to build a new monitoring station in a nearby area of space; they hand you a map of all of the asteroids in that region (your puzzle input).\n",
    "\n",
    "The map indicates whether each position is empty (`.`) or contains an asteroid (`#`). The asteroids are much smaller than they appear on the map, and every asteroid is exactly in the center of its marked position. The asteroids can be described with `X,Y` coordinates where `X` is the distance from the left edge and `Y` is the distance from the top edge (so the top-left corner is `0,0` and the position immediately to its right is `1,0`).\n",
    "\n",
    "Your job is to figure out which asteroid would be the best place to build a ***new monitoring station***. A monitoring station can ***detect*** any asteroid to which it has ***direct line of sight*** - that is, there cannot be another asteroid ***exactly*** between them. This line of sight can be at any angle, not just lines aligned to the grid or diagonally. The ***best*** location is the asteroid that can ***detect*** the largest number of other asteroids.\n",
    "\n",
    "For example, consider the following map:\n",
    "```\n",
    ".#..#\n",
    ".....\n",
    "#####\n",
    "....#\n",
    "...##\n",
    "```\n",
    "The best location for a new monitoring station on this map is the highlighted asteroid at `3,4` because it can detect `8` asteroids, more than any other location. (The only asteroid it cannot detect is the one at `1,0`; its view of this asteroid is blocked by the asteroid at `2,2`.) All other asteroids are worse locations; they can detect `7` or fewer other asteroids. Here is the number of other asteroids a monitoring station on each asteroid could detect:\n",
    "```\n",
    ".7..7\n",
    ".....\n",
    "67775\n",
    "....7\n",
    "...87\n",
    "```\n",
    "Here is an asteroid (`#`) and some examples of the ways its line of sight might be blocked. If there were another asteroid at the location of a capital letter, the locations marked with the corresponding lowercase letter would be blocked and could not be detected:\n",
    "```\n",
    "#.........\n",
    "...A......\n",
    "...B..a...\n",
    ".EDCG....a\n",
    "..F.c.b...\n",
    ".....c....\n",
    "..efd.c.gb\n",
    ".......c..\n",
    "....f...c.\n",
    "...e..d..c\n",
    "```\n",
    "**Here are some larger examples:**\n",
    "\n",
    "Best is `5,8` with `33` other asteroids detected:\n",
    "```\n",
    "......#.#.\n",
    "#..#.#....\n",
    "..#######.\n",
    ".#.#.###..\n",
    ".#..#.....\n",
    "..#....#.#\n",
    "#..#....#.\n",
    ".##.#..###\n",
    "##...#..#.\n",
    ".#....####\n",
    "```\n",
    "Best is `1,2` with `35` other asteroids detected:\n",
    "```\n",
    "#.#...#.#.\n",
    ".###....#.\n",
    ".#....#...\n",
    "##.#.#.#.#\n",
    "....#.#.#.\n",
    ".##..###.#\n",
    "..#...##..\n",
    "..##....##\n",
    "......#...\n",
    ".####.###.\n",
    "```\n",
    "Best is `6,3` with `41` other asteroids detected:\n",
    "```\n",
    ".#..#..###\n",
    "####.###.#\n",
    "....###.#.\n",
    "..###.##.#\n",
    "##.##.#.#.\n",
    "....###..#\n",
    "..#.#..#.#\n",
    "#..#.#.###\n",
    ".##...##.#\n",
    ".....#.#..\n",
    "```\n",
    "Best is `11,13` with `210` other asteroids detected:\n",
    "```\n",
    ".#..##.###...#######\n",
    "##.############..##.\n",
    ".#.######.########.#\n",
    ".###.#######.####.#.\n",
    "#####.##.#.##.###.##\n",
    "..#####..#.#########\n",
    "####################\n",
    "#.####....###.#.#.##\n",
    "##.#################\n",
    "#####.##.###..####..\n",
    "..######..##.#######\n",
    "####.##.####...##..#\n",
    ".#####..#.######.###\n",
    "##...#.##########...\n",
    "#.##########.#######\n",
    ".####.#.###.###.#.##\n",
    "....##.##.###..#####\n",
    ".#.#.###########.###\n",
    "#.#.#.#####.####.###\n",
    "###.##.####.##.#..##\n",
    "```\n",
    "\n",
    "**Find the best location for a new monitoring station. How many other asteroids can be detected from that location?**"
   ]
  },
  {
   "cell_type": "code",
   "execution_count": 1,
   "metadata": {},
   "outputs": [],
   "source": [
    "def get_asteroids(data):\n",
    "    return [ (x,y) for y in data for x,loc in enumerate(data[y]) if loc == '#']\n",
    "\n",
    "def get_slope(location, asteroid):\n",
    "    if location == asteroid:\n",
    "        return\n",
    "    try:\n",
    "        return -(asteroid[1] - location[1]) / (asteroid[0] - location[0])\n",
    "    except:\n",
    "        return float('inf')\n",
    "\n",
    "def get_sightlines(loc, grid, count=False):\n",
    "    \"\"\"\n",
    "    Returns dictionary of sightlines with relative quadrent information stored in the key\n",
    "    ##|{slope}\n",
    "    00 - NE Quadrent including +x, +y axis\n",
    "    01 - NW Quadrent including -x axis\n",
    "    10 - SE Quadrent including -y axis\n",
    "    11 - SW Quadrent\n",
    "    \"\"\"\n",
    "    sight = {}\n",
    "    for asteroid in grid:\n",
    "        if asteroid != loc:\n",
    "            sight.setdefault(f'{int(loc[1]<asteroid[1])}{int(loc[0]>asteroid[0])}|{get_slope(loc,asteroid)}',[]).append(asteroid)\n",
    "    if count:\n",
    "        return len(sight)\n",
    "    return sight\n",
    "    \n",
    "def get_best_loc(asteroids):\n",
    "    bases = { asteroid : get_sightlines(asteroid, asteroids, count=True) for asteroid in asteroids }\n",
    "    best = max(bases, key=bases.get)\n",
    "    \n",
    "    return best, bases[best]"
   ]
  },
  {
   "cell_type": "code",
   "execution_count": 2,
   "metadata": {},
   "outputs": [
    {
     "name": "stdout",
     "output_type": "stream",
     "text": [
      "00|0.0 [(4, 2)]\n",
      "00|1.0 [(4, 0)]\n",
      "00|inf [(2, 0)]\n",
      "01|-0.0 [(0, 2)]\n",
      "01|-1.0 [(0, 0)]\n",
      "10|-1.0 [(4, 4)]\n",
      "10|inf [(2, 4)]\n",
      "11|1.0 [(0, 4)]\n"
     ]
    }
   ],
   "source": [
    "#Best is 3,4 with 8 other asteroids detected\n",
    "ex0 = {0 : '#.#.#', \\\n",
    "       1 : '.....', \\\n",
    "       2 : '#.#.#', \\\n",
    "       3 : '.....', \\\n",
    "       4 : '#.#.#'}\n",
    "asteroids = get_asteroids(ex0)\n",
    "sight = get_sightlines((2,2), asteroids)\n",
    "for i in sorted(sight): print(i, sight[i])"
   ]
  },
  {
   "cell_type": "code",
   "execution_count": 3,
   "metadata": {},
   "outputs": [
    {
     "data": {
      "text/plain": [
       "((3, 4), 8)"
      ]
     },
     "execution_count": 3,
     "metadata": {},
     "output_type": "execute_result"
    }
   ],
   "source": [
    "#Best is 3,4 with 8 other asteroids detected\n",
    "ex1 = {0 : '.#..#', \\\n",
    "       1 : '.....', \\\n",
    "       2 : '#####', \\\n",
    "       3 : '....#', \\\n",
    "       4 : '...##'}\n",
    "asteroids1 = get_asteroids(ex1)\n",
    "slopes = [ get_slope(asteroids1[0],i) for i in asteroids1[1:] ]\n",
    "sight = get_sightlines((2,2), asteroids1)\n",
    "get_best_loc(asteroids1)\n"
   ]
  },
  {
   "cell_type": "code",
   "execution_count": 4,
   "metadata": {},
   "outputs": [
    {
     "data": {
      "text/plain": [
       "((5, 8), 33)"
      ]
     },
     "execution_count": 4,
     "metadata": {},
     "output_type": "execute_result"
    }
   ],
   "source": [
    "#Best is 5,8 with 33 other asteroids detected\n",
    "ex2 = {0 : '......#.#.', \\\n",
    "       1 : '#..#.#....', \\\n",
    "       2 : '..#######.', \\\n",
    "       3 : '.#.#.###..', \\\n",
    "       4 : '.#..#.....', \\\n",
    "       5 : '..#....#.#', \\\n",
    "       6 : '#..#....#.', \\\n",
    "       7 : '.##.#..###', \\\n",
    "       8 : '##...#..#.', \\\n",
    "       9 : '.#....####' }\n",
    "asteroids2 = get_asteroids(ex2)\n",
    "get_best_loc(asteroids2)"
   ]
  },
  {
   "cell_type": "code",
   "execution_count": 5,
   "metadata": {},
   "outputs": [
    {
     "data": {
      "text/plain": [
       "((1, 2), 35)"
      ]
     },
     "execution_count": 5,
     "metadata": {},
     "output_type": "execute_result"
    }
   ],
   "source": [
    "#Best is 1,2 with 35 other asteroids detected\n",
    "ex3 = {0 : '#.#...#.#.', \\\n",
    "       1 : '.###....#.', \\\n",
    "       2 : '.#....#...', \\\n",
    "       3 : '##.#.#.#.#', \\\n",
    "       4 : '....#.#.#.', \\\n",
    "       5 : '.##..###.#', \\\n",
    "       6 : '..#...##..', \\\n",
    "       7 : '..##....##', \\\n",
    "       8 : '......#...', \\\n",
    "       9 : '.####.###.' }\n",
    "asteroids3 = get_asteroids(ex3)\n",
    "get_best_loc(asteroids3)"
   ]
  },
  {
   "cell_type": "code",
   "execution_count": 6,
   "metadata": {},
   "outputs": [
    {
     "data": {
      "text/plain": [
       "((6, 3), 41)"
      ]
     },
     "execution_count": 6,
     "metadata": {},
     "output_type": "execute_result"
    }
   ],
   "source": [
    "#Best is 6,3 with 41 other asteroids detected:\n",
    "ex4 = {0 : '.#..#..###', \\\n",
    "       1 : '####.###.#', \\\n",
    "       2 : '....###.#.', \\\n",
    "       3 : '..###.##.#', \\\n",
    "       4 : '##.##.#.#.', \\\n",
    "       5 : '....###..#', \\\n",
    "       6 : '..#.#..#.#', \\\n",
    "       7 : '#..#.#.###', \\\n",
    "       8 : '.##...##.#', \\\n",
    "       9 : '.....#.#..' }\n",
    "asteroids4 = get_asteroids(ex4)\n",
    "get_best_loc(asteroids4)"
   ]
  },
  {
   "cell_type": "code",
   "execution_count": 7,
   "metadata": {},
   "outputs": [
    {
     "data": {
      "text/plain": [
       "((11, 13), 210)"
      ]
     },
     "execution_count": 7,
     "metadata": {},
     "output_type": "execute_result"
    }
   ],
   "source": [
    "#Best is 11,13 with 210 other asteroids detected\n",
    "ex5 = {0 : '.#..##.###...#######', \\\n",
    "       1 : '##.############..##.', \\\n",
    "       2 : '.#.######.########.#', \\\n",
    "       3 : '.###.#######.####.#.', \\\n",
    "       4 : '#####.##.#.##.###.##', \\\n",
    "       5 : '..#####..#.#########', \\\n",
    "       6 : '####################', \\\n",
    "       7 : '#.####....###.#.#.##', \\\n",
    "       8 : '##.#################', \\\n",
    "       9 : '#####.##.###..####..', \\\n",
    "       10: '..######..##.#######', \\\n",
    "       11: '####.##.####...##..#', \\\n",
    "       12: '.#####..#.######.###', \\\n",
    "       13: '##...#.##########...', \\\n",
    "       14: '#.##########.#######', \\\n",
    "       15: '.####.#.###.###.#.##', \\\n",
    "       16: '....##.##.###..#####', \\\n",
    "       17: '.#.#.###########.###', \\\n",
    "       18: '#.#.#.#####.####.###', \\\n",
    "       19: '###.##.####.##.#..##' }\n",
    "asteroids5 = get_asteroids(ex5)\n",
    "get_best_loc(asteroids5)"
   ]
  },
  {
   "cell_type": "code",
   "execution_count": 8,
   "metadata": {},
   "outputs": [
    {
     "name": "stdout",
     "output_type": "stream",
     "text": [
      "Best Location: (19, 11);  Detects 230 asteroids\n"
     ]
    }
   ],
   "source": [
    "with open('day10.txt') as f:\n",
    "    asteroid_map = { i:row for i,row in enumerate(f.read().split('\\n')) }\n",
    "    asteroids = get_asteroids(asteroid_map)\n",
    "    loc, detected = get_best_loc(asteroids)\n",
    "    print(f'Best Location: {loc};  Detects {detected} asteroids')"
   ]
  },
  {
   "cell_type": "markdown",
   "metadata": {},
   "source": [
    "## ---Part Two---"
   ]
  },
  {
   "cell_type": "markdown",
   "metadata": {},
   "source": [
    "Once you give them the coordinates, the Elves quickly deploy an Instant Monitoring Station to the location and discover the worst: there are simply too many asteroids.\n",
    "\n",
    "The only solution is complete ***vaporization by giant laser***.\n",
    "\n",
    "Fortunately, in addition to an asteroid scanner, the new monitoring station also comes equipped with a giant rotating laser perfect for vaporizing asteroids. The laser starts by pointing up and always rotates clockwise, vaporizing any asteroid it hits.\n",
    "\n",
    "If multiple asteroids are ***exactly*** in line with the station, the laser only has enough power to vaporize ***one*** of them before continuing its rotation. In other words, the same asteroids that can be ***detected*** can be vaporized, but if vaporizing one asteroid makes another one detectable, the newly-detected asteroid won't be vaporized until the laser has returned to the same position by rotating a full 360 degrees.\n",
    "\n",
    "For example, consider the following map, where the asteroid with the new monitoring station (and laser) is marked X:\n",
    "```\n",
    ".#....#####...#..\n",
    "##...##.#####..##\n",
    "##...#...#.#####.\n",
    "..#.....X...###..\n",
    "..#.#.....#....##\n",
    "```\n",
    "The first nine asteroids to get vaporized, in order, would be:\n",
    "```\n",
    ".#....###24...#..\n",
    "##...##.13#67..9#\n",
    "##...#...5.8####.\n",
    "..#.....X...###..\n",
    "..#.#.....#....##\n",
    "```\n",
    "Note that some asteroids (the ones behind the asteroids marked 1, 5, and 7) won't have a chance to be vaporized until the next full rotation. The laser continues rotating; the next nine to be vaporized are:\n",
    "```\n",
    ".#....###.....#..\n",
    "##...##...#.....#\n",
    "##...#......1234.\n",
    "..#.....X...5##..\n",
    "..#.9.....8....76\n",
    "```\n",
    "The next nine to be vaporized are then:\n",
    "```\n",
    ".8....###.....#..\n",
    "56...9#...#.....#\n",
    "34...7...........\n",
    "..2.....X....##..\n",
    "..1..............\n",
    "```\n",
    "Finally, the laser completes its first full rotation (`1` through `3`), a second rotation (`4` through `8`), and vaporizes the last asteroid (`9`) partway through its third rotation:\n",
    "```\n",
    "......234.....6..\n",
    "......1...5.....7\n",
    ".................\n",
    "........X....89..\n",
    ".................\n",
    "```\n",
    "In the large example above (the one with the best monitoring station location at `11,13`):\n",
    "\n",
    "* The 1st asteroid to be vaporized is at `11,12`.\n",
    "* The 2nd asteroid to be vaporized is at `12,1`.\n",
    "* The 3rd asteroid to be vaporized is at `12,2`.\n",
    "* The 10th asteroid to be vaporized is at `12,8`.\n",
    "* The 20th asteroid to be vaporized is at `16,0`.\n",
    "* The 50th asteroid to be vaporized is at `16,9`.\n",
    "* The 100th asteroid to be vaporized is at `10,16`.\n",
    "* The 199th asteroid to be vaporized is at `9,6`.\n",
    "* The 200th asteroid to be vaporized is at `8,2`.\n",
    "* The 201st asteroid to be vaporized is at `10,9`.\n",
    "* The 299th and final asteroid to be vaporized is at `11,1`.\n",
    "\n",
    "The Elves are placing bets on which will be the ***200th*** asteroid to be vaporized. Win the bet by determining which asteroid that will be; **what do you get if you multiply its X coordinate by 100 and then add its Y coordinate?** (For example, 8,2 becomes 802.)"
   ]
  },
  {
   "cell_type": "code",
   "execution_count": 9,
   "metadata": {},
   "outputs": [],
   "source": [
    "def get_quadrents(sightlines):\n",
    "    \"\"\"\n",
    "    00 - NE Quadrent including +x, +y axis\n",
    "    01 - NW Quadrent including -x axis\n",
    "    10 - SE Quadrent including -y axis\n",
    "    11 - SW Quadrent\n",
    "    \"\"\"\n",
    "    quadrents = { '00' : {}, '01' : {}, '10' : {}, '11' : {} }\n",
    "    for key in sightlines:\n",
    "        quadrents[key[:2]][float(key[3:])] = sightlines[key]\n",
    "    # replace +inf with -inf for values on -y axis\n",
    "    quadrents['10'][float('-inf')] = quadrents['10'].pop(float('inf'))\n",
    "    return quadrents\n",
    "\n",
    "def vaporize(asteroids):\n",
    "    loc = get_best_loc(asteroids)[0]\n",
    "    sightlines = get_sightlines(loc, asteroids)\n",
    "    quadrents = get_quadrents(sightlines)\n",
    "    order = []\n",
    "    clockwise = ('00', '10', '11', '01')\n",
    "    while len(order) != len(asteroids)-1:\n",
    "        for quad in clockwise:\n",
    "            for i in sorted(quadrents[quad], reverse=True):\n",
    "                try:\n",
    "                    order += [ quadrents[quad][i].pop() ]\n",
    "                except: \n",
    "                    continue\n",
    "    return order"
   ]
  },
  {
   "cell_type": "code",
   "execution_count": 10,
   "metadata": {},
   "outputs": [],
   "source": [
    "#Best is 11,13 with 210 other asteroids detected\n",
    "ex5 = {0 : '.#..##.###...#######', \\\n",
    "       1 : '##.############..##.', \\\n",
    "       2 : '.#.######.########.#', \\\n",
    "       3 : '.###.#######.####.#.', \\\n",
    "       4 : '#####.##.#.##.###.##', \\\n",
    "       5 : '..#####..#.#########', \\\n",
    "       6 : '####################', \\\n",
    "       7 : '#.####....###.#.#.##', \\\n",
    "       8 : '##.#################', \\\n",
    "       9 : '#####.##.###..####..', \\\n",
    "       10: '..######..##.#######', \\\n",
    "       11: '####.##.####...##..#', \\\n",
    "       12: '.#####..#.######.###', \\\n",
    "       13: '##...#.##########...', \\\n",
    "       14: '#.##########.#######', \\\n",
    "       15: '.####.#.###.###.#.##', \\\n",
    "       16: '....##.##.###..#####', \\\n",
    "       17: '.#.#.###########.###', \\\n",
    "       18: '#.#.#.#####.####.###', \\\n",
    "       19: '###.##.####.##.#..##' }\n",
    "asteroids5 = get_asteroids(ex5)\n",
    "order = vaporize(asteroids5)"
   ]
  },
  {
   "cell_type": "code",
   "execution_count": 11,
   "metadata": {},
   "outputs": [
    {
     "name": "stdout",
     "output_type": "stream",
     "text": [
      "True\n",
      "True\n",
      "True\n",
      "True\n",
      "True\n",
      "True\n",
      "False (9, 19) 230\n",
      "True\n",
      "True\n",
      "True\n",
      "True\n"
     ]
    }
   ],
   "source": [
    "print(order[0] == (11,12))\n",
    "print(order[1] == (12,1))\n",
    "print(order[2] == (12,2))\n",
    "print(order[9] == (12,8))\n",
    "print(order[19] == (16,0))\n",
    "print(order[49] == (16,9))\n",
    "print(order[99] == (10,16), order[99], order.index((10,16))) #???\n",
    "print(order[198] == (9,6))\n",
    "print(order[199] == (8,2))\n",
    "print(order[200] == (10,9))\n",
    "print(order[-1] == (11,1))"
   ]
  },
  {
   "cell_type": "code",
   "execution_count": 12,
   "metadata": {},
   "outputs": [
    {
     "name": "stdout",
     "output_type": "stream",
     "text": [
      "The 200th asteroid vaporized is : (12, 5)\n",
      "Puzzle Solution is: 1205\n"
     ]
    }
   ],
   "source": [
    "with open('day10.txt') as f:\n",
    "    asteroid_map = { i:row for i,row in enumerate(f.read().split('\\n')) }\n",
    "    asteroids = get_asteroids(asteroid_map)\n",
    "    order = vaporize(asteroids)\n",
    "    print(f'The 200th asteroid vaporized is : {order[199]}')\n",
    "    print(f'Puzzle Solution is: {order[199][0]*100 + order[199][1]}')"
   ]
  }
 ],
 "metadata": {
  "kernelspec": {
   "display_name": "Python 3",
   "language": "python",
   "name": "python3"
  },
  "language_info": {
   "codemirror_mode": {
    "name": "ipython",
    "version": 3
   },
   "file_extension": ".py",
   "mimetype": "text/x-python",
   "name": "python",
   "nbconvert_exporter": "python",
   "pygments_lexer": "ipython3",
   "version": "3.8.1"
  }
 },
 "nbformat": 4,
 "nbformat_minor": 4
}
