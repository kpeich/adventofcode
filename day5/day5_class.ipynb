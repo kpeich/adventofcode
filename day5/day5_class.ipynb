{
 "cells": [
  {
   "cell_type": "markdown",
   "metadata": {},
   "source": [
    "# WIP\n",
    "#### While making the initial solution I thought it probably makes more sense to do a class so I thought I'd make a secondary solution doing that."
   ]
  },
  {
   "cell_type": "code",
   "execution_count": 1,
   "metadata": {},
   "outputs": [],
   "source": [
    "class Intcode:\n",
    "    def __init__(self, program):\n",
    "        self.program = program\n",
    "        self.pointer = 0\n",
    "        \n",
    "    def get_instructions(self, instruction):\n",
    "        optcode = instruction % 100\n",
    "        parameters = instruction // 100\n",
    "        return optcode, parameters\n",
    "    \n",
    "    def mode_0(self):\n",
    "        pass\n",
    "    \n",
    "    def mode_1():\n",
    "        pass\n",
    "    \n",
    "    def optcode_1(self):\n",
    "        pass\n",
    "        \n",
    "    def optcode_2(self):\n",
    "        pass\n",
    "    \n",
    "    def optcode_3(self):\n",
    "        pass\n",
    "        \n",
    "    def optcode_4(self):\n",
    "        pass\n",
    "    \n",
    "    def optcode_5(self):\n",
    "        pass\n",
    "    \n",
    "    def optcode_6(self):\n",
    "        pass\n",
    "    \n",
    "    def optcode_7(self):\n",
    "        pass\n",
    "    \n",
    "    def optcode_8(self):\n",
    "        pass\n",
    "    \n",
    "    def optcode_99(self):\n",
    "        pass\n",
    "    \n",
    "    def run_program(self):\n",
    "        pass\n",
    "            "
   ]
  },
  {
   "cell_type": "code",
   "execution_count": null,
   "metadata": {},
   "outputs": [],
   "source": []
  }
 ],
 "metadata": {
  "kernelspec": {
   "display_name": "Python 3",
   "language": "python",
   "name": "python3"
  },
  "language_info": {
   "codemirror_mode": {
    "name": "ipython",
    "version": 3
   },
   "file_extension": ".py",
   "mimetype": "text/x-python",
   "name": "python",
   "nbconvert_exporter": "python",
   "pygments_lexer": "ipython3",
   "version": "3.8.1"
  }
 },
 "nbformat": 4,
 "nbformat_minor": 4
}
