{
 "cells": [
  {
   "cell_type": "markdown",
   "metadata": {},
   "source": [
    "# ---Alternate Day 5 Solution Using Class---"
   ]
  },
  {
   "cell_type": "markdown",
   "metadata": {},
   "source": [
    "## While making the initial solution I thought it probably makes more sense to do a class so I thought I'd make a secondary solution doing that."
   ]
  },
  {
   "cell_type": "markdown",
   "metadata": {},
   "source": [
    "I wanted to generalize the class more than I did in my original solution so I would be able to extend many of the functions in case the user wanted to run operations on any number of parameters. The most difficult part of this for me was figuring out a good way to determine what mode the parameter is in. I liked the dictionary I used in my original solution but didn't feel like it translated well to the class"
   ]
  },
  {
   "cell_type": "code",
   "execution_count": 1,
   "metadata": {},
   "outputs": [],
   "source": [
    "class Intcode:\n",
    "    def __init__(self, program):\n",
    "        self.program = program\n",
    "        self.pointer = 0\n",
    "        self.instruction = 0\n",
    "        self.opcode = { 1 : self.add,\n",
    "                 2 : self.multiply,\n",
    "                 3 : self.save,\n",
    "                 4 : self.output,\n",
    "                 5 : self.jump_true,\n",
    "                 6 : self.jump_false,\n",
    "                 7 : self.less_than,\n",
    "                 8 : self.is_equal,\n",
    "                 99 : self.halt }\n",
    "        \n",
    "    def get_opcode(self):\n",
    "        return self.instruction % 100\n",
    "    \n",
    "    def get_modes(self):\n",
    "        return self.instruction // 100\n",
    "    \n",
    "    def set_instruction(self):\n",
    "        self.instruction = self.program[self.pointer]\n",
    "        self.pointer += 1\n",
    "\n",
    "    def parameters(self, modes, num_parameters=3):\n",
    "        mode = [ (modes // 10**n % 10) for n in range(num_parameters) ]\n",
    "        parameters = [  self.program[i] if mode[i-self.pointer] else self.program[self.program[i]] \\\n",
    "                      for i in range(self.pointer, self.pointer+num_parameters) ]\n",
    "        # Write over last parameter because it should always be an value indicating the location\n",
    "        parameters[num_parameters-1] = self.program[self.pointer+num_parameters-1]\n",
    "        \n",
    "        return parameters\n",
    "\n",
    "    def add(self, step=3):\n",
    "        values = self.parameters(self.get_modes())\n",
    "        self.program[values[2]] = values[0] + values[1]\n",
    "        self.pointer += step\n",
    "        \n",
    "    def multiply(self, step=3):\n",
    "        values = self.parameters(self.get_modes())\n",
    "        self.program[values[2]] = values[0] * values[1]\n",
    "        self.pointer += step\n",
    "        \n",
    "    def save(self, step=1):\n",
    "        new = input(\"Input : \")\n",
    "        self.program[self.program[self.pointer]] = int(new)\n",
    "        self.pointer += step\n",
    "        \n",
    "    def output(self, step=1):\n",
    "        mode = self.get_modes()\n",
    "        print( f'Output: {(self.program[self.program[self.pointer]], self.program[self.pointer])[mode]}' )\n",
    "        self.pointer += step\n",
    "        \n",
    "    def jump_true(self, step=2):\n",
    "        values = self.parameters(self.get_modes(), 2)\n",
    "        if values[0] != 0:\n",
    "            self.pointer = values[1]\n",
    "        else:\n",
    "            self.pointer += step\n",
    "            \n",
    "    def jump_false(self, step=2):\n",
    "        values = self.parameters(self.get_modes(), 2)\n",
    "        if values[0] == 0:\n",
    "            self.pointer = values[1]\n",
    "        else:\n",
    "            self.pointer += step\n",
    "            \n",
    "    def less_than(self, step=3):\n",
    "        values = self.parameters(self.get_modes())\n",
    "        self.program[values[2]] = int(values[0] < values[1])\n",
    "        \n",
    "        self.pointer += step\n",
    "    \n",
    "    def is_equal(self):\n",
    "        values = self.parameters(self.get_modes())\n",
    "        self.program[values[2]] = int(values[0]==values[1])\n",
    "        \n",
    "        self.pointer += step\n",
    "        \n",
    "    def halt(self):\n",
    "        print(\"Program Halted.\")\n",
    "        self.instruction = -1\n",
    "    \n",
    "    def run(self):\n",
    "        while self.instruction != -1:\n",
    "            self.set_instruction()\n",
    "            # print(self.pointer, self.instruction) # Used for Testing\n",
    "            self.opcode[self.get_opcode()]()\n",
    "            # print(self.program[:self.pointer+1], self.program[self.pointer:self.pointer+4]) # Used for Testing"
   ]
  },
  {
   "cell_type": "code",
   "execution_count": 2,
   "metadata": {},
   "outputs": [
    {
     "name": "stdout",
     "output_type": "stream",
     "text": [
      "Program Halted.\n",
      "Program Halted.\n",
      "Program Halted.\n"
     ]
    }
   ],
   "source": [
    "t1 = Intcode([1002, 4, 3, 4, 33])\n",
    "t2 = Intcode([1001, 4, 3, 4, 96])\n",
    "t3 = Intcode([1001,8,3,9,1002,8,3,8,33,0])\n",
    "t1.run()\n",
    "t2.run()\n",
    "t3.run()"
   ]
  },
  {
   "cell_type": "code",
   "execution_count": 3,
   "metadata": {},
   "outputs": [
    {
     "name": "stdout",
     "output_type": "stream",
     "text": [
      "Input : 1\n",
      "Output: 0\n",
      "Output: 0\n",
      "Output: 0\n",
      "Output: 0\n",
      "Output: 0\n",
      "Output: 0\n",
      "Output: 0\n",
      "Output: 0\n",
      "Output: 0\n",
      "Output: 12428642\n",
      "Program Halted.\n"
     ]
    }
   ],
   "source": [
    "with open('day5.txt') as f:\n",
    "    program = [int(i) for i in f.read().split(',')]\n",
    "    ac_unit = Intcode(program)\n",
    "    ac_unit.run()"
   ]
  },
  {
   "cell_type": "code",
   "execution_count": null,
   "metadata": {},
   "outputs": [],
   "source": []
  }
 ],
 "metadata": {
  "kernelspec": {
   "display_name": "Python 3",
   "language": "python",
   "name": "python3"
  },
  "language_info": {
   "codemirror_mode": {
    "name": "ipython",
    "version": 3
   },
   "file_extension": ".py",
   "mimetype": "text/x-python",
   "name": "python",
   "nbconvert_exporter": "python",
   "pygments_lexer": "ipython3",
   "version": "3.8.1"
  }
 },
 "nbformat": 4,
 "nbformat_minor": 4
}
