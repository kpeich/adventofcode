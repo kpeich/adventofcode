{
 "cells": [
  {
   "cell_type": "markdown",
   "metadata": {},
   "source": [
    "# ---Day 12: The N-Body Problem---"
   ]
  },
  {
   "cell_type": "markdown",
   "metadata": {},
   "source": [
    "## ---Part One---"
   ]
  },
  {
   "cell_type": "markdown",
   "metadata": {},
   "source": [
    "The space near Jupiter is not a very safe place; you need to be careful of a <a src=\"https://en.wikipedia.org/wiki/Great_Red_Spot\">big distracting red spot</a>, extreme <a src=\"https://en.wikipedia.org/wiki/Magnetosphere_of_Jupiter\">radiation</a>, and a <a src=\"https://en.wikipedia.org/wiki/Moons_of_Jupiter#List\">whole lot of moons</a> swirling around. You decide to start by tracking the four largest moons: ***Io***, ***Europa***, ***Ganymede***, and ***Callisto***.\n",
    "\n",
    "After a brief scan, you calculate the ***position of each moon*** (your puzzle input). You just need to ***simulate their motion*** so you can avoid them.\n",
    "\n",
    "Each moon has a 3-dimensional position (`x`, `y`, and `z`) and a 3-dimensional velocity. The position of each moon is given in your scan; the `x`, `y`, and `z` velocity of each moon starts at `0`.\n",
    "\n",
    "Simulate the motion of the moons in ***time steps***. Within each time step, first update the velocity of every moon by applying ***gravity***. Then, once all moons' velocities have been updated, update the position of every moon by applying ***velocity***. Time progresses by one step once all of the positions are updated.\n",
    "\n",
    "To apply ***gravity***, consider every ***pair*** of moons. On each axis (`x`, `y`, and `z`), the velocity of each moon changes by ***exactly +1 or -1*** to pull the moons together. For example, if Ganymede has an `x` position of `3`, and Callisto has a `x` position of `5`, then Ganymede's `x` velocity ***changes by +1*** (because `5 > 3`) and Callisto's `x` velocity ***changes by -1*** (because `3 < 5`). However, if the positions on a given axis are the same, the velocity on that axis ***does not change*** for that pair of moons.\n",
    "\n",
    "Once all gravity has been applied, apply ***velocity***: simply add the velocity of each moon to its own position. For example, if Europa has a position of `x=1, y=2, z=3` and a velocity of `x=-2, y=0,z=3`, then its new position would be `x=-1, y=2, z=6`. This process does not modify the velocity of any moon.\n",
    "\n",
    "For example, suppose your scan reveals the following positions:\n",
    "```\n",
    "<x=-1, y=0, z=2>\n",
    "<x=2, y=-10, z=-7>\n",
    "<x=4, y=-8, z=8>\n",
    "<x=3, y=5, z=-1>\n",
    "```\n",
    "Simulating the motion of these moons would produce the following:\n",
    "```\n",
    "After 0 steps:\n",
    "pos=<x=-1, y=  0, z= 2>, vel=<x= 0, y= 0, z= 0>\n",
    "pos=<x= 2, y=-10, z=-7>, vel=<x= 0, y= 0, z= 0>\n",
    "pos=<x= 4, y= -8, z= 8>, vel=<x= 0, y= 0, z= 0>\n",
    "pos=<x= 3, y=  5, z=-1>, vel=<x= 0, y= 0, z= 0>\n",
    "\n",
    "After 1 step:\n",
    "pos=<x= 2, y=-1, z= 1>, vel=<x= 3, y=-1, z=-1>\n",
    "pos=<x= 3, y=-7, z=-4>, vel=<x= 1, y= 3, z= 3>\n",
    "pos=<x= 1, y=-7, z= 5>, vel=<x=-3, y= 1, z=-3>\n",
    "pos=<x= 2, y= 2, z= 0>, vel=<x=-1, y=-3, z= 1>\n",
    "\n",
    "After 2 steps:\n",
    "pos=<x= 5, y=-3, z=-1>, vel=<x= 3, y=-2, z=-2>\n",
    "pos=<x= 1, y=-2, z= 2>, vel=<x=-2, y= 5, z= 6>\n",
    "pos=<x= 1, y=-4, z=-1>, vel=<x= 0, y= 3, z=-6>\n",
    "pos=<x= 1, y=-4, z= 2>, vel=<x=-1, y=-6, z= 2>\n",
    "\n",
    "After 3 steps:\n",
    "pos=<x= 5, y=-6, z=-1>, vel=<x= 0, y=-3, z= 0>\n",
    "pos=<x= 0, y= 0, z= 6>, vel=<x=-1, y= 2, z= 4>\n",
    "pos=<x= 2, y= 1, z=-5>, vel=<x= 1, y= 5, z=-4>\n",
    "pos=<x= 1, y=-8, z= 2>, vel=<x= 0, y=-4, z= 0>\n",
    "\n",
    "After 4 steps:\n",
    "pos=<x= 2, y=-8, z= 0>, vel=<x=-3, y=-2, z= 1>\n",
    "pos=<x= 2, y= 1, z= 7>, vel=<x= 2, y= 1, z= 1>\n",
    "pos=<x= 2, y= 3, z=-6>, vel=<x= 0, y= 2, z=-1>\n",
    "pos=<x= 2, y=-9, z= 1>, vel=<x= 1, y=-1, z=-1>\n",
    "\n",
    "After 5 steps:\n",
    "pos=<x=-1, y=-9, z= 2>, vel=<x=-3, y=-1, z= 2>\n",
    "pos=<x= 4, y= 1, z= 5>, vel=<x= 2, y= 0, z=-2>\n",
    "pos=<x= 2, y= 2, z=-4>, vel=<x= 0, y=-1, z= 2>\n",
    "pos=<x= 3, y=-7, z=-1>, vel=<x= 1, y= 2, z=-2>\n",
    "\n",
    "After 6 steps:\n",
    "pos=<x=-1, y=-7, z= 3>, vel=<x= 0, y= 2, z= 1>\n",
    "pos=<x= 3, y= 0, z= 0>, vel=<x=-1, y=-1, z=-5>\n",
    "pos=<x= 3, y=-2, z= 1>, vel=<x= 1, y=-4, z= 5>\n",
    "pos=<x= 3, y=-4, z=-2>, vel=<x= 0, y= 3, z=-1>\n",
    "\n",
    "After 7 steps:\n",
    "pos=<x= 2, y=-2, z= 1>, vel=<x= 3, y= 5, z=-2>\n",
    "pos=<x= 1, y=-4, z=-4>, vel=<x=-2, y=-4, z=-4>\n",
    "pos=<x= 3, y=-7, z= 5>, vel=<x= 0, y=-5, z= 4>\n",
    "pos=<x= 2, y= 0, z= 0>, vel=<x=-1, y= 4, z= 2>\n",
    "\n",
    "After 8 steps:\n",
    "pos=<x= 5, y= 2, z=-2>, vel=<x= 3, y= 4, z=-3>\n",
    "pos=<x= 2, y=-7, z=-5>, vel=<x= 1, y=-3, z=-1>\n",
    "pos=<x= 0, y=-9, z= 6>, vel=<x=-3, y=-2, z= 1>\n",
    "pos=<x= 1, y= 1, z= 3>, vel=<x=-1, y= 1, z= 3>\n",
    "\n",
    "After 9 steps:\n",
    "pos=<x= 5, y= 3, z=-4>, vel=<x= 0, y= 1, z=-2>\n",
    "pos=<x= 2, y=-9, z=-3>, vel=<x= 0, y=-2, z= 2>\n",
    "pos=<x= 0, y=-8, z= 4>, vel=<x= 0, y= 1, z=-2>\n",
    "pos=<x= 1, y= 1, z= 5>, vel=<x= 0, y= 0, z= 2>\n",
    "\n",
    "After 10 steps:\n",
    "pos=<x= 2, y= 1, z=-3>, vel=<x=-3, y=-2, z= 1>\n",
    "pos=<x= 1, y=-8, z= 0>, vel=<x=-1, y= 1, z= 3>\n",
    "pos=<x= 3, y=-6, z= 1>, vel=<x= 3, y= 2, z=-3>\n",
    "pos=<x= 2, y= 0, z= 4>, vel=<x= 1, y=-1, z=-1>\n",
    "```\n",
    "Then, it might help to calculate the ***total energy in the system***. The total energy for a single moon is its ***potential energy*** multiplied by its ***kinetic energy***. A moon's ***potential energy*** is the sum of the <a src=\"https://en.wikipedia.org/wiki/Absolute_value\">absolute values</a> of its `x`, `y`, and `z` position coordinates. A moon's ***kinetic energy*** is the sum of the absolute values of its velocity coordinates. Below, each line shows the calculations for a moon's potential energy (`pot`), kinetic energy (`kin`), and total energy:\n",
    "```\n",
    "Energy after 10 steps:\n",
    "pot: 2 + 1 + 3 =  6;   kin: 3 + 2 + 1 = 6;   total:  6 * 6 = 36\n",
    "pot: 1 + 8 + 0 =  9;   kin: 1 + 1 + 3 = 5;   total:  9 * 5 = 45\n",
    "pot: 3 + 6 + 1 = 10;   kin: 3 + 2 + 3 = 8;   total: 10 * 8 = 80\n",
    "pot: 2 + 0 + 4 =  6;   kin: 1 + 1 + 1 = 3;   total:  6 * 3 = 18\n",
    "Sum of total energy: 36 + 45 + 80 + 18 = 179\n",
    "```\n",
    "In the above example, adding together the total energy for all moons after 10 steps produces the total energy in the system, ***`179`***.\n",
    "\n",
    "Here's a second example:\n",
    "```\n",
    "<x=-8, y=-10, z=0>\n",
    "<x=5, y=5, z=10>\n",
    "<x=2, y=-7, z=3>\n",
    "<x=9, y=-8, z=-3>\n",
    "```\n",
    "Every ten steps of simulation for 100 steps produces:\n",
    "```\n",
    "After 0 steps:\n",
    "pos=<x= -8, y=-10, z=  0>, vel=<x=  0, y=  0, z=  0>\n",
    "pos=<x=  5, y=  5, z= 10>, vel=<x=  0, y=  0, z=  0>\n",
    "pos=<x=  2, y= -7, z=  3>, vel=<x=  0, y=  0, z=  0>\n",
    "pos=<x=  9, y= -8, z= -3>, vel=<x=  0, y=  0, z=  0>\n",
    "\n",
    "After 10 steps:\n",
    "pos=<x= -9, y=-10, z=  1>, vel=<x= -2, y= -2, z= -1>\n",
    "pos=<x=  4, y= 10, z=  9>, vel=<x= -3, y=  7, z= -2>\n",
    "pos=<x=  8, y=-10, z= -3>, vel=<x=  5, y= -1, z= -2>\n",
    "pos=<x=  5, y=-10, z=  3>, vel=<x=  0, y= -4, z=  5>\n",
    "\n",
    "After 20 steps:\n",
    "pos=<x=-10, y=  3, z= -4>, vel=<x= -5, y=  2, z=  0>\n",
    "pos=<x=  5, y=-25, z=  6>, vel=<x=  1, y=  1, z= -4>\n",
    "pos=<x= 13, y=  1, z=  1>, vel=<x=  5, y= -2, z=  2>\n",
    "pos=<x=  0, y=  1, z=  7>, vel=<x= -1, y= -1, z=  2>\n",
    "\n",
    "After 30 steps:\n",
    "pos=<x= 15, y= -6, z= -9>, vel=<x= -5, y=  4, z=  0>\n",
    "pos=<x= -4, y=-11, z=  3>, vel=<x= -3, y=-10, z=  0>\n",
    "pos=<x=  0, y= -1, z= 11>, vel=<x=  7, y=  4, z=  3>\n",
    "pos=<x= -3, y= -2, z=  5>, vel=<x=  1, y=  2, z= -3>\n",
    "\n",
    "After 40 steps:\n",
    "pos=<x= 14, y=-12, z= -4>, vel=<x= 11, y=  3, z=  0>\n",
    "pos=<x= -1, y= 18, z=  8>, vel=<x= -5, y=  2, z=  3>\n",
    "pos=<x= -5, y=-14, z=  8>, vel=<x=  1, y= -2, z=  0>\n",
    "pos=<x=  0, y=-12, z= -2>, vel=<x= -7, y= -3, z= -3>\n",
    "\n",
    "After 50 steps:\n",
    "pos=<x=-23, y=  4, z=  1>, vel=<x= -7, y= -1, z=  2>\n",
    "pos=<x= 20, y=-31, z= 13>, vel=<x=  5, y=  3, z=  4>\n",
    "pos=<x= -4, y=  6, z=  1>, vel=<x= -1, y=  1, z= -3>\n",
    "pos=<x= 15, y=  1, z= -5>, vel=<x=  3, y= -3, z= -3>\n",
    "\n",
    "After 60 steps:\n",
    "pos=<x= 36, y=-10, z=  6>, vel=<x=  5, y=  0, z=  3>\n",
    "pos=<x=-18, y= 10, z=  9>, vel=<x= -3, y= -7, z=  5>\n",
    "pos=<x=  8, y=-12, z= -3>, vel=<x= -2, y=  1, z= -7>\n",
    "pos=<x=-18, y= -8, z= -2>, vel=<x=  0, y=  6, z= -1>\n",
    "\n",
    "After 70 steps:\n",
    "pos=<x=-33, y= -6, z=  5>, vel=<x= -5, y= -4, z=  7>\n",
    "pos=<x= 13, y= -9, z=  2>, vel=<x= -2, y= 11, z=  3>\n",
    "pos=<x= 11, y= -8, z=  2>, vel=<x=  8, y= -6, z= -7>\n",
    "pos=<x= 17, y=  3, z=  1>, vel=<x= -1, y= -1, z= -3>\n",
    "\n",
    "After 80 steps:\n",
    "pos=<x= 30, y= -8, z=  3>, vel=<x=  3, y=  3, z=  0>\n",
    "pos=<x= -2, y= -4, z=  0>, vel=<x=  4, y=-13, z=  2>\n",
    "pos=<x=-18, y= -7, z= 15>, vel=<x= -8, y=  2, z= -2>\n",
    "pos=<x= -2, y= -1, z= -8>, vel=<x=  1, y=  8, z=  0>\n",
    "\n",
    "After 90 steps:\n",
    "pos=<x=-25, y= -1, z=  4>, vel=<x=  1, y= -3, z=  4>\n",
    "pos=<x=  2, y= -9, z=  0>, vel=<x= -3, y= 13, z= -1>\n",
    "pos=<x= 32, y= -8, z= 14>, vel=<x=  5, y= -4, z=  6>\n",
    "pos=<x= -1, y= -2, z= -8>, vel=<x= -3, y= -6, z= -9>\n",
    "\n",
    "After 100 steps:\n",
    "pos=<x=  8, y=-12, z= -9>, vel=<x= -7, y=  3, z=  0>\n",
    "pos=<x= 13, y= 16, z= -3>, vel=<x=  3, y=-11, z= -5>\n",
    "pos=<x=-29, y=-11, z= -1>, vel=<x= -3, y=  7, z=  4>\n",
    "pos=<x= 16, y=-13, z= 23>, vel=<x=  7, y=  1, z=  1>\n",
    "\n",
    "Energy after 100 steps:\n",
    "pot:  8 + 12 +  9 = 29;   kin: 7 +  3 + 0 = 10;   total: 29 * 10 = 290\n",
    "pot: 13 + 16 +  3 = 32;   kin: 3 + 11 + 5 = 19;   total: 32 * 19 = 608\n",
    "pot: 29 + 11 +  1 = 41;   kin: 3 +  7 + 4 = 14;   total: 41 * 14 = 574\n",
    "pot: 16 + 13 + 23 = 52;   kin: 7 +  1 + 1 =  9;   total: 52 *  9 = 468\n",
    "Sum of total energy: 290 + 608 + 574 + 468 = 1940\n",
    "```\n",
    "\n",
    "**What is the total energy in the system after simulating the moons given in your scan for `1000` steps?***"
   ]
  },
  {
   "cell_type": "code",
   "execution_count": 1,
   "metadata": {},
   "outputs": [],
   "source": [
    "import time"
   ]
  },
  {
   "cell_type": "code",
   "execution_count": 2,
   "metadata": {},
   "outputs": [],
   "source": [
    "class System:\n",
    "    def __init__(self, bodies):\n",
    "        self.bodies = bodies\n",
    "        self.energy = sum([ body.energy for body in bodies ])\n",
    "        self.time = 0\n",
    "        \n",
    "    def apply_gravity(self):\n",
    "        for i in range(len(self.bodies)):\n",
    "            for j in range(i+1, len(self.bodies)):\n",
    "                for dim in range(3):\n",
    "                    if bodies[i].pos[dim] < bodies[j].pos[dim]:\n",
    "                        bodies[i].vel[dim] += 1\n",
    "                        bodies[j].vel[dim] -= 1\n",
    "                    elif bodies[i].pos[dim] > bodies[j].pos[dim]:\n",
    "                        bodies[i].vel[dim] -= 1\n",
    "                        bodies[j].vel[dim] += 1\n",
    "                        \n",
    "    def move(self):\n",
    "        for body in bodies:\n",
    "            body.move()\n",
    "            \n",
    "    def calc_energy(self):\n",
    "        for body in bodies:\n",
    "            body.calc_energy()\n",
    "        self.energy = sum([ body.energy for body in bodies ])\n",
    "         \n",
    "    def simulate(self, steps=1, interval=1, show=False):\n",
    "        for step in range(steps):\n",
    "            self.apply_gravity()\n",
    "            self.move()\n",
    "            self.calc_energy()\n",
    "            if show and (step+1) % interval == 0:\n",
    "                print(f'Step {step+1}:')\n",
    "                for body in self.bodies:\n",
    "                    print(f'{body.name} Pos: {body.pos}, Vel: {body.vel}')\n",
    "                print(f'System Energy: {self.energy}')\n",
    "            self.time += 1\n",
    "                \n",
    "    def get_periods(self):\n",
    "        start = time.time()\n",
    "        periods = {}\n",
    "        while len(periods) < len(bodies):\n",
    "            self.apply_gravity()\n",
    "            self.move()\n",
    "            self.time += 1\n",
    "            for body in bodies:\n",
    "                #if tuple(body.pos) in body.path:\n",
    "                #    print(self.time, body.name, body.pos, body.vel)\n",
    "                if body.period == None and tuple(body.pos+body.vel) == body.initial:\n",
    "                    print(f'Period for {body.name} found.')\n",
    "                    body.period = self.time\n",
    "                    periods[body.name] = self.time\n",
    "                else:\n",
    "                    body.path.add(tuple(body.pos+body.vel))\n",
    "        end = time.time()\n",
    "        print(f'Time Elapsed: {end-start}s')\n",
    "        return periods\n",
    "    \n",
    "    def dim_periods(self):\n",
    "        start = time.time()\n",
    "        initial = {}\n",
    "        periods = [None, None, None]\n",
    "        for dim in range(3):\n",
    "            initial[tuple(body.pos[dim] for body in self.bodies)] = [body.vel[dim] for body in self.bodies]\n",
    "        while True:\n",
    "            self.apply_gravity()\n",
    "            self.move()\n",
    "            self.time += 1\n",
    "            for dim in range(3):\n",
    "                if periods[dim] == None:\n",
    "                    if [body.vel[dim] for body in self.bodies]  == [0 for i in range(len(bodies))]:\n",
    "                        if tuple(body.pos[dim] for body in self.bodies) in initial:\n",
    "                            periods[dim] = self.time\n",
    "            if all(periods[i] != None for i in range(3)):\n",
    "                break\n",
    "        end = time.time()\n",
    "        print(f'Time Elapsed: {end-start}s')\n",
    "        return periods\n",
    "        \n",
    "\n",
    "class Body:\n",
    "    def __init__(self, name, pos, vel=None):\n",
    "        self.name = name\n",
    "        self.pos = pos\n",
    "        if vel == None:\n",
    "            self.vel = [0,0,0]\n",
    "        else:\n",
    "            self.vel = vel\n",
    "        self.initial = tuple(self.pos+self.vel)\n",
    "        self.pot = sum([ abs(dim) for dim in self.pos ])\n",
    "        self.kin = sum([ abs(dim) for dim in self.vel ])\n",
    "        self.energy = self.pot * self.kin\n",
    "        self.path = {tuple(self.pos+self.vel)}\n",
    "        self.period = None\n",
    "\n",
    "    def move(self):\n",
    "        for dim in range(3):\n",
    "            self.pos[dim] += self.vel[dim]\n",
    "        #self.path.add(tuple(self.pos + self.vel))\n",
    "            \n",
    "    def calc_energy(self):\n",
    "        self.pot = sum([ abs(dim) for dim in self.pos ])\n",
    "        self.kin = sum([ abs(dim) for dim in self.vel ])\n",
    "        self.energy = self.pot * self.kin\n",
    "        "
   ]
  },
  {
   "cell_type": "code",
   "execution_count": 3,
   "metadata": {},
   "outputs": [
    {
     "name": "stdout",
     "output_type": "stream",
     "text": [
      "The system has 10055 energies after 1000 steps\n"
     ]
    }
   ],
   "source": [
    "with open('day12.txt') as f:\n",
    "    names = [ 'Io', 'Europa', 'Ganymede' , 'Callisto' ]\n",
    "    bodies = []\n",
    "    num = 0\n",
    "    for line in f:\n",
    "        coords = line.strip()[1:-1].split(',')\n",
    "        position = [ int(pos.split('=')[1]) for pos in coords ]\n",
    "        bodies += [ Body(names[0], position) ]\n",
    "        num += 1\n",
    "        \n",
    "    system = System(bodies)\n",
    "    system.simulate(steps=1000)\n",
    "    \n",
    "    print(f'The system has {system.energy} energies after 1000 steps')"
   ]
  },
  {
   "cell_type": "markdown",
   "metadata": {},
   "source": [
    "## ---Part Two---"
   ]
  },
  {
   "cell_type": "markdown",
   "metadata": {},
   "source": [
    "All this drifting around in space makes you wonder about the nature of the universe. Does history really repeat itself? You're curious whether the moons will ever return to a previous state.\n",
    "\n",
    "Determine the ***number of steps*** that must occur before all of the moons' ***positions and velocities*** exactly match a previous point in time.\n",
    "\n",
    "For example, the first example above takes `2772` steps before they exactly match a previous point in time; it eventually returns to the initial state:\n",
    "```\n",
    "After 0 steps:\n",
    "pos=<x= -1, y=  0, z=  2>, vel=<x=  0, y=  0, z=  0>\n",
    "pos=<x=  2, y=-10, z= -7>, vel=<x=  0, y=  0, z=  0>\n",
    "pos=<x=  4, y= -8, z=  8>, vel=<x=  0, y=  0, z=  0>\n",
    "pos=<x=  3, y=  5, z= -1>, vel=<x=  0, y=  0, z=  0>\n",
    "\n",
    "After 2770 steps:\n",
    "pos=<x=  2, y= -1, z=  1>, vel=<x= -3, y=  2, z=  2>\n",
    "pos=<x=  3, y= -7, z= -4>, vel=<x=  2, y= -5, z= -6>\n",
    "pos=<x=  1, y= -7, z=  5>, vel=<x=  0, y= -3, z=  6>\n",
    "pos=<x=  2, y=  2, z=  0>, vel=<x=  1, y=  6, z= -2>\n",
    "\n",
    "After 2771 steps:\n",
    "pos=<x= -1, y=  0, z=  2>, vel=<x= -3, y=  1, z=  1>\n",
    "pos=<x=  2, y=-10, z= -7>, vel=<x= -1, y= -3, z= -3>\n",
    "pos=<x=  4, y= -8, z=  8>, vel=<x=  3, y= -1, z=  3>\n",
    "pos=<x=  3, y=  5, z= -1>, vel=<x=  1, y=  3, z= -1>\n",
    "\n",
    "After 2772 steps:\n",
    "pos=<x= -1, y=  0, z=  2>, vel=<x=  0, y=  0, z=  0>\n",
    "pos=<x=  2, y=-10, z= -7>, vel=<x=  0, y=  0, z=  0>\n",
    "pos=<x=  4, y= -8, z=  8>, vel=<x=  0, y=  0, z=  0>\n",
    "pos=<x=  3, y=  5, z= -1>, vel=<x=  0, y=  0, z=  0>\n",
    "```\n",
    "\n",
    "Of course, the universe might last for a ***very long time*** before repeating. Here's a copy of the second example from above:\n",
    "```\n",
    "<x=-8, y=-10, z=0>\n",
    "<x=5, y=5, z=10>\n",
    "<x=2, y=-7, z=3>\n",
    "<x=9, y=-8, z=-3>\n",
    "```\n",
    "This set of initial positions takes `4686774924` steps before it repeats a previous state! Clearly, you might need to ***find a more efficient way to simulate the universe***.\n",
    "\n",
    "**How many steps does it take to reach the first state that exactly matches a previous state?**"
   ]
  },
  {
   "cell_type": "code",
   "execution_count": 4,
   "metadata": {},
   "outputs": [],
   "source": [
    "from math import gcd"
   ]
  },
  {
   "cell_type": "code",
   "execution_count": 5,
   "metadata": {},
   "outputs": [],
   "source": [
    "def lcm(a,b):\n",
    "    return abs(a * b) // gcd(a,b)"
   ]
  },
  {
   "cell_type": "code",
   "execution_count": 6,
   "metadata": {},
   "outputs": [
    {
     "name": "stdout",
     "output_type": "stream",
     "text": [
      "Time Elapsed: 5.201869964599609s\n",
      "374307970285176 steps to initial state.\n"
     ]
    }
   ],
   "source": [
    "with open('day12.txt') as f:\n",
    "    names = [ 'Io', 'Europa', 'Ganymede' , 'Callisto' ]\n",
    "    bodies = []\n",
    "    num = 0\n",
    "    for line in f:\n",
    "        coords = line.strip()[1:-1].split(',')\n",
    "        position = [ int(pos.split('=')[1]) for pos in coords ]\n",
    "        bodies += [ Body(names[0], position) ]\n",
    "        num += 1\n",
    "        \n",
    "    system = System(bodies)\n",
    "    periods = system.dim_periods()\n",
    "    print(f'{lcm(periods[0],lcm(periods[1],periods[2]))} steps to initial state.')"
   ]
  },
  {
   "cell_type": "markdown",
   "metadata": {},
   "source": [
    "## Test Cases"
   ]
  },
  {
   "cell_type": "markdown",
   "metadata": {},
   "source": [
    "### Part One"
   ]
  },
  {
   "cell_type": "code",
   "execution_count": 7,
   "metadata": {},
   "outputs": [
    {
     "name": "stdout",
     "output_type": "stream",
     "text": [
      "Step 1:\n",
      "Body0 Pos: [2, -1, 1], Vel: [3, -1, -1]\n",
      "Body1 Pos: [3, -7, -4], Vel: [1, 3, 3]\n",
      "Body2 Pos: [1, -7, 5], Vel: [-3, 1, -3]\n",
      "Body3 Pos: [2, 2, 0], Vel: [-1, -3, 1]\n",
      "System Energy: 229\n",
      "Step 2:\n",
      "Body0 Pos: [5, -3, -1], Vel: [3, -2, -2]\n",
      "Body1 Pos: [1, -2, 2], Vel: [-2, 5, 6]\n",
      "Body2 Pos: [1, -4, -1], Vel: [0, 3, -6]\n",
      "Body3 Pos: [1, -4, 2], Vel: [-1, -6, 2]\n",
      "System Energy: 245\n",
      "Step 3:\n",
      "Body0 Pos: [5, -6, -1], Vel: [0, -3, 0]\n",
      "Body1 Pos: [0, 0, 6], Vel: [-1, 2, 4]\n",
      "Body2 Pos: [2, 1, -5], Vel: [1, 5, -4]\n",
      "Body3 Pos: [1, -8, 2], Vel: [0, -4, 0]\n",
      "System Energy: 202\n",
      "Step 4:\n",
      "Body0 Pos: [2, -8, 0], Vel: [-3, -2, 1]\n",
      "Body1 Pos: [2, 1, 7], Vel: [2, 1, 1]\n",
      "Body2 Pos: [2, 3, -6], Vel: [0, 2, -1]\n",
      "Body3 Pos: [2, -9, 1], Vel: [1, -1, -1]\n",
      "System Energy: 169\n",
      "Step 5:\n",
      "Body0 Pos: [-1, -9, 2], Vel: [-3, -1, 2]\n",
      "Body1 Pos: [4, 1, 5], Vel: [2, 0, -2]\n",
      "Body2 Pos: [2, 2, -4], Vel: [0, -1, 2]\n",
      "Body3 Pos: [3, -7, -1], Vel: [1, 2, -2]\n",
      "System Energy: 191\n",
      "Step 6:\n",
      "Body0 Pos: [-1, -7, 3], Vel: [0, 2, 1]\n",
      "Body1 Pos: [3, 0, 0], Vel: [-1, -1, -5]\n",
      "Body2 Pos: [3, -2, 1], Vel: [1, -4, 5]\n",
      "Body3 Pos: [3, -4, -2], Vel: [0, 3, -1]\n",
      "System Energy: 150\n",
      "Step 7:\n",
      "Body0 Pos: [2, -2, 1], Vel: [3, 5, -2]\n",
      "Body1 Pos: [1, -4, -4], Vel: [-2, -4, -4]\n",
      "Body2 Pos: [3, -7, 5], Vel: [0, -5, 4]\n",
      "Body3 Pos: [2, 0, 0], Vel: [-1, 4, 2]\n",
      "System Energy: 289\n",
      "Step 8:\n",
      "Body0 Pos: [5, 2, -2], Vel: [3, 4, -3]\n",
      "Body1 Pos: [2, -7, -5], Vel: [1, -3, -1]\n",
      "Body2 Pos: [0, -9, 6], Vel: [-3, -2, 1]\n",
      "Body3 Pos: [1, 1, 3], Vel: [-1, 1, 3]\n",
      "System Energy: 275\n",
      "Step 9:\n",
      "Body0 Pos: [5, 3, -4], Vel: [0, 1, -2]\n",
      "Body1 Pos: [2, -9, -3], Vel: [0, -2, 2]\n",
      "Body2 Pos: [0, -8, 4], Vel: [0, 1, -2]\n",
      "Body3 Pos: [1, 1, 5], Vel: [0, 0, 2]\n",
      "System Energy: 142\n",
      "Step 10:\n",
      "Body0 Pos: [2, 1, -3], Vel: [-3, -2, 1]\n",
      "Body1 Pos: [1, -8, 0], Vel: [-1, 1, 3]\n",
      "Body2 Pos: [3, -6, 1], Vel: [3, 2, -3]\n",
      "Body3 Pos: [2, 0, 4], Vel: [1, -1, -1]\n",
      "System Energy: 179\n"
     ]
    }
   ],
   "source": [
    "ex1 = [ '<x=-1, y=0, z=2>', '<x=2, y=-10, z=-7>', '<x=4, y=-8, z=8>', '<x=3, y=5, z=-1>' ]\n",
    "body = 0\n",
    "bodies = []\n",
    "for coord in ex1:\n",
    "    coords = coord.strip()[1:-1].split(',')\n",
    "    position = [ int(pos.split('=')[1]) for pos in coords ]\n",
    "    bodies += [ Body(f'Body{body}', position) ]\n",
    "    body += 1\n",
    "    \n",
    "ex1_sys = System(bodies)\n",
    "ex1_sys.simulate(steps=10, show=True)"
   ]
  },
  {
   "cell_type": "code",
   "execution_count": 8,
   "metadata": {},
   "outputs": [
    {
     "name": "stdout",
     "output_type": "stream",
     "text": [
      "Step 10:\n",
      "Body0 Pos: [-9, -10, 1], Vel: [-2, -2, -1]\n",
      "Body1 Pos: [4, 10, 9], Vel: [-3, 7, -2]\n",
      "Body2 Pos: [8, -10, -3], Vel: [5, -1, -2]\n",
      "Body3 Pos: [5, -10, 3], Vel: [0, -4, 5]\n",
      "System Energy: 706\n",
      "Step 20:\n",
      "Body0 Pos: [-10, 3, -4], Vel: [-5, 2, 0]\n",
      "Body1 Pos: [5, -25, 6], Vel: [1, 1, -4]\n",
      "Body2 Pos: [13, 1, 1], Vel: [5, -2, 2]\n",
      "Body3 Pos: [0, 1, 7], Vel: [-1, -1, 2]\n",
      "System Energy: 502\n",
      "Step 30:\n",
      "Body0 Pos: [15, -6, -9], Vel: [-5, 4, 0]\n",
      "Body1 Pos: [-4, -11, 3], Vel: [-3, -10, 0]\n",
      "Body2 Pos: [0, -1, 11], Vel: [7, 4, 3]\n",
      "Body3 Pos: [-3, -2, 5], Vel: [1, 2, -3]\n",
      "System Energy: 732\n",
      "Step 40:\n",
      "Body0 Pos: [14, -12, -4], Vel: [11, 3, 0]\n",
      "Body1 Pos: [-1, 18, 8], Vel: [-5, 2, 3]\n",
      "Body2 Pos: [-5, -14, 8], Vel: [1, -2, 0]\n",
      "Body3 Pos: [0, -12, -2], Vel: [-7, -3, -3]\n",
      "System Energy: 953\n",
      "Step 50:\n",
      "Body0 Pos: [-23, 4, 1], Vel: [-7, -1, 2]\n",
      "Body1 Pos: [20, -31, 13], Vel: [5, 3, 4]\n",
      "Body2 Pos: [-4, 6, 1], Vel: [-1, 1, -3]\n",
      "Body3 Pos: [15, 1, -5], Vel: [3, -3, -3]\n",
      "System Energy: 1292\n",
      "Step 60:\n",
      "Body0 Pos: [36, -10, 6], Vel: [5, 0, 3]\n",
      "Body1 Pos: [-18, 10, 9], Vel: [-3, -7, 5]\n",
      "Body2 Pos: [8, -12, -3], Vel: [-2, 1, -7]\n",
      "Body3 Pos: [-18, -8, -2], Vel: [0, 6, -1]\n",
      "System Energy: 1397\n",
      "Step 70:\n",
      "Body0 Pos: [-33, -6, 5], Vel: [-5, -4, 7]\n",
      "Body1 Pos: [13, -9, 2], Vel: [-2, 11, 3]\n",
      "Body2 Pos: [11, -8, 2], Vel: [8, -6, -7]\n",
      "Body3 Pos: [17, 3, 1], Vel: [-1, -1, -3]\n",
      "System Energy: 1634\n",
      "Step 80:\n",
      "Body0 Pos: [30, -8, 3], Vel: [3, 3, 0]\n",
      "Body1 Pos: [-2, -4, 0], Vel: [4, -13, 2]\n",
      "Body2 Pos: [-18, -7, 15], Vel: [-8, 2, -2]\n",
      "Body3 Pos: [-2, -1, -8], Vel: [1, 8, 0]\n",
      "System Energy: 939\n",
      "Step 90:\n",
      "Body0 Pos: [-25, -1, 4], Vel: [1, -3, 4]\n",
      "Body1 Pos: [2, -9, 0], Vel: [-3, 13, -1]\n",
      "Body2 Pos: [32, -8, 14], Vel: [5, -4, 6]\n",
      "Body3 Pos: [-1, -2, -8], Vel: [-3, -6, -9]\n",
      "System Energy: 1435\n",
      "Step 100:\n",
      "Body0 Pos: [8, -12, -9], Vel: [-7, 3, 0]\n",
      "Body1 Pos: [13, 16, -3], Vel: [3, -11, -5]\n",
      "Body2 Pos: [-29, -11, -1], Vel: [-3, 7, 4]\n",
      "Body3 Pos: [16, -13, 23], Vel: [7, 1, 1]\n",
      "System Energy: 1940\n"
     ]
    }
   ],
   "source": [
    "ex2 = [ '<x=-8, y=-10, z=0>', '<x=5, y=5, z=10>', '<x=2, y=-7, z=3>', '<x=9, y=-8, z=-3>' ]\n",
    "body = 0\n",
    "bodies = []\n",
    "for coord in ex2:\n",
    "    coords = coord.strip()[1:-1].split(',')\n",
    "    position = [ int(pos.split('=')[1]) for pos in coords ]\n",
    "    bodies += [ Body(f'Body{body}', position) ]\n",
    "    body += 1\n",
    "    \n",
    "ex2_sys = System(bodies)\n",
    "ex2_sys.simulate(steps=100,interval=10, show=True)"
   ]
  },
  {
   "cell_type": "markdown",
   "metadata": {},
   "source": [
    "### Part Two"
   ]
  },
  {
   "cell_type": "markdown",
   "metadata": {},
   "source": [
    "#### Attempt by finding orbital periods of each body\n",
    "* This is too resource intensive. Even though this is a closed system, since the bodies do not all orbit a central body I suspect the body with the longest orbital period will be equal to the time it takes to repeat the initial state"
   ]
  },
  {
   "cell_type": "code",
   "execution_count": 9,
   "metadata": {},
   "outputs": [
    {
     "name": "stdout",
     "output_type": "stream",
     "text": [
      "Period for Body0 found.\n",
      "Period for Body3 found.\n",
      "Period for Body1 found.\n",
      "Period for Body2 found.\n",
      "Time Elapsed: 0.06826400756835938s\n"
     ]
    },
    {
     "data": {
      "text/plain": [
       "{'Body0': 924, 'Body3': 924, 'Body1': 2772, 'Body2': 2772}"
      ]
     },
     "execution_count": 9,
     "metadata": {},
     "output_type": "execute_result"
    }
   ],
   "source": [
    "ex1 = [ '<x=-1, y=0, z=2>', '<x=2, y=-10, z=-7>', '<x=4, y=-8, z=8>', '<x=3, y=5, z=-1>' ]\n",
    "body = 0\n",
    "bodies = []\n",
    "for coord in ex1:\n",
    "    coords = coord.strip()[1:-1].split(',')\n",
    "    position = [ int(pos.split('=')[1]) for pos in coords ]\n",
    "    bodies += [ Body(f'Body{body}', position) ]\n",
    "    body += 1\n",
    "    \n",
    "ex1_sys = System(bodies)\n",
    "ex1_sys.get_periods()"
   ]
  },
  {
   "cell_type": "markdown",
   "metadata": {},
   "source": [
    "#### Attempt by finding periods of each dimension\n",
    "* It took a while but then I realized (should have remembered) the dimensions are also closed systems so we can find their periods and then lcm them to achieve the same result."
   ]
  },
  {
   "cell_type": "code",
   "execution_count": 10,
   "metadata": {},
   "outputs": [
    {
     "name": "stdout",
     "output_type": "stream",
     "text": [
      "Time Elapsed: 0.0008032321929931641s\n"
     ]
    },
    {
     "data": {
      "text/plain": [
       "[18, 28, 44]"
      ]
     },
     "execution_count": 10,
     "metadata": {},
     "output_type": "execute_result"
    }
   ],
   "source": [
    "ex1 = [ '<x=-1, y=0, z=2>', '<x=2, y=-10, z=-7>', '<x=4, y=-8, z=8>', '<x=3, y=5, z=-1>' ]\n",
    "body = 0\n",
    "bodies = []\n",
    "for coord in ex1:\n",
    "    coords = coord.strip()[1:-1].split(',')\n",
    "    position = [ int(pos.split('=')[1]) for pos in coords ]\n",
    "    bodies += [ Body(f'Body{body}', position) ]\n",
    "    body += 1\n",
    "    \n",
    "ex1_sys = System(bodies)\n",
    "ex1_sys.dim_periods()"
   ]
  },
  {
   "cell_type": "code",
   "execution_count": 11,
   "metadata": {},
   "outputs": [
    {
     "data": {
      "text/plain": [
       "2772"
      ]
     },
     "execution_count": 11,
     "metadata": {},
     "output_type": "execute_result"
    }
   ],
   "source": [
    "lcm(18,lcm(28,44))"
   ]
  },
  {
   "cell_type": "code",
   "execution_count": 12,
   "metadata": {},
   "outputs": [
    {
     "name": "stdout",
     "output_type": "stream",
     "text": [
      "Time Elapsed: 0.13045978546142578s\n"
     ]
    },
    {
     "data": {
      "text/plain": [
       "[2028, 5898, 4702]"
      ]
     },
     "execution_count": 12,
     "metadata": {},
     "output_type": "execute_result"
    }
   ],
   "source": [
    "ex2 = [ '<x=-8, y=-10, z=0>', '<x=5, y=5, z=10>', '<x=2, y=-7, z=3>', '<x=9, y=-8, z=-3>' ]\n",
    "body = 0\n",
    "bodies = []\n",
    "for coord in ex2:\n",
    "    coords = coord.strip()[1:-1].split(',')\n",
    "    position = [ int(pos.split('=')[1]) for pos in coords ]\n",
    "    bodies += [ Body(f'Body{body}', position) ]\n",
    "    body += 1\n",
    "    \n",
    "ex2_sys = System(bodies)\n",
    "ex2_sys.dim_periods()"
   ]
  },
  {
   "cell_type": "code",
   "execution_count": 13,
   "metadata": {},
   "outputs": [
    {
     "data": {
      "text/plain": [
       "4686774924"
      ]
     },
     "execution_count": 13,
     "metadata": {},
     "output_type": "execute_result"
    }
   ],
   "source": [
    "lcm(2028,lcm(5898,4702))"
   ]
  }
 ],
 "metadata": {
  "kernelspec": {
   "display_name": "Python 3",
   "language": "python",
   "name": "python3"
  },
  "language_info": {
   "codemirror_mode": {
    "name": "ipython",
    "version": 3
   },
   "file_extension": ".py",
   "mimetype": "text/x-python",
   "name": "python",
   "nbconvert_exporter": "python",
   "pygments_lexer": "ipython3",
   "version": "3.8.1"
  }
 },
 "nbformat": 4,
 "nbformat_minor": 4
}
