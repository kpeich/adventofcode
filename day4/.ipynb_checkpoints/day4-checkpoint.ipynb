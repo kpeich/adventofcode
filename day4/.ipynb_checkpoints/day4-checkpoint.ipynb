{
 "cells": [
  {
   "cell_type": "markdown",
   "metadata": {},
   "source": [
    "# --- Day 4: Secure Container ---"
   ]
  },
  {
   "cell_type": "markdown",
   "metadata": {},
   "source": [
    "## ---Part One---"
   ]
  },
  {
   "cell_type": "markdown",
   "metadata": {},
   "source": [
    "You arrive at the Venus fuel depot only to discover it's protected by a password. The Elves had written the password on a sticky note, but someone threw it out.\n",
    "\n",
    "**However, they do remember a few key facts about the password:**\n",
    "\n",
    "* It is a six-digit number.\n",
    "* The value is within the range given in your puzzle input.\n",
    "* Two adjacent digits are the same (like 22 in 122345).\n",
    "* Going from left to right, the digits never decrease; they only ever increase or stay the same (like 111123 or 135679).\n",
    "\n",
    "**Other than the range rule, the following are true:**\n",
    "\n",
    "* 111111 meets these criteria (double 11, never decreases).\n",
    "* 223450 does not meet these criteria (decreasing pair of digits 50).\n",
    "* 123789 does not meet these criteria (no double).\n",
    "\n",
    "***How many different passwords within the range given in your puzzle input meet these criteria?***"
   ]
  },
  {
   "cell_type": "code",
   "execution_count": 1,
   "metadata": {},
   "outputs": [],
   "source": [
    "puzzle_input = '231832-767346' # 535314 possible numbers"
   ]
  },
  {
   "cell_type": "code",
   "execution_count": 2,
   "metadata": {},
   "outputs": [],
   "source": [
    "str_passwords = [ str(i) for i in range(int(puzzle_input.split('-')[0]),int(puzzle_input.split('-')[1]) + 1) ]\n",
    "DOUBLES = ['11', '22', '33', '44', '55', '66', '77', '88', '99', '00']"
   ]
  },
  {
   "cell_type": "code",
   "execution_count": 37,
   "metadata": {},
   "outputs": [],
   "source": [
    "def contains_double(str_num):\n",
    "    for double in DOUBLES:\n",
    "        if double in str_num:\n",
    "            return True\n",
    "    return False\n",
    "\n",
    "def get_doubles(str_list):\n",
    "    double_passwords = []\n",
    "    for num in str_list:\n",
    "        if contains_double(num):\n",
    "            double_passwords.append(num)\n",
    "    return double_passwords\n",
    "\n",
    "def is_increasing(str_num):\n",
    "    for i in range(len(str_num)-1):\n",
    "        if str_num[i] > str_num[i+1]:\n",
    "            return False\n",
    "    return True\n",
    "\n",
    "def get_increasing(str_list):\n",
    "    inc_nums = []\n",
    "    for num in str_list:\n",
    "        if is_increasing(num):\n",
    "            inc_nums.append(num)\n",
    "    return inc_nums"
   ]
  },
  {
   "cell_type": "code",
   "execution_count": 44,
   "metadata": {},
   "outputs": [
    {
     "data": {
      "text/plain": [
       "1330"
      ]
     },
     "execution_count": 44,
     "metadata": {},
     "output_type": "execute_result"
    }
   ],
   "source": [
    "str_passwords = [ str(i) for i in range(int(puzzle_input.split('-')[0]),int(puzzle_input.split('-')[1]) + 1) ]\n",
    "\n",
    "possible_doubles = get_doubles(str_passwords)\n",
    "possible_increasing_doubles = get_increasing(possible_doubles)\n",
    "len(possible_increasing_doubles)"
   ]
  },
  {
   "cell_type": "markdown",
   "metadata": {},
   "source": [
    "## ---Part Two---"
   ]
  },
  {
   "cell_type": "markdown",
   "metadata": {},
   "source": [
    "An Elf just remembered one more important detail: the two adjacent matching digits are not part of a larger group of matching digits.\n",
    "\n",
    "**Given this additional criterion, but still ignoring the range rule, the following are now true:**\n",
    "\n",
    "* 112233 meets these criteria because the digits never decrease and all repeated digits are exactly two digits long.\n",
    "* 123444 no longer meets the criteria (the repeated 44 is part of a larger group of 444).\n",
    "* 111122 meets the criteria (even though 1 is repeated more than twice, it still contains a double 22).\n",
    "\n",
    "***How many different passwords within the range given in your puzzle input meet all of the criteria?***"
   ]
  },
  {
   "cell_type": "code",
   "execution_count": 45,
   "metadata": {},
   "outputs": [],
   "source": [
    "puzzle_input = '231832-767346' # 535314 possible numbers"
   ]
  },
  {
   "cell_type": "code",
   "execution_count": 113,
   "metadata": {},
   "outputs": [],
   "source": [
    "def is_exact(str_num):\n",
    "    consecutive = []\n",
    "    count = 1\n",
    "    for i in range(len(str_num)-1):\n",
    "        if str_num[i] == str_num[i+1]:\n",
    "            count += 1\n",
    "        else:\n",
    "            consecutive.append(count)\n",
    "            count = 1\n",
    "    consecutive.append(count)\n",
    "    if 2 in consecutive:\n",
    "        return True\n",
    "    return False\n",
    "\n",
    "def get_exact(str_list):\n",
    "    exact_dubs = []\n",
    "    for num in str_list:\n",
    "        if is_exact(num):\n",
    "            exact_dubs.append(num)\n",
    "    return exact_dubs"
   ]
  },
  {
   "cell_type": "code",
   "execution_count": 114,
   "metadata": {},
   "outputs": [
    {
     "data": {
      "text/plain": [
       "[True, False, True, False]"
      ]
     },
     "execution_count": 114,
     "metadata": {},
     "output_type": "execute_result"
    }
   ],
   "source": [
    "tests = ['112233', '123444', '111122', '233334']\n",
    "[is_exact(test) for test in tests]"
   ]
  },
  {
   "cell_type": "code",
   "execution_count": 116,
   "metadata": {},
   "outputs": [
    {
     "data": {
      "text/plain": [
       "876"
      ]
     },
     "execution_count": 116,
     "metadata": {},
     "output_type": "execute_result"
    }
   ],
   "source": [
    "possible_increasing_exact_doubles = get_exact(possible_increasing_doubles)\n",
    "len(possible_increasing_exact_doubles)"
   ]
  }
 ],
 "metadata": {
  "kernelspec": {
   "display_name": "Python 3",
   "language": "python",
   "name": "python3"
  },
  "language_info": {
   "codemirror_mode": {
    "name": "ipython",
    "version": 3
   },
   "file_extension": ".py",
   "mimetype": "text/x-python",
   "name": "python",
   "nbconvert_exporter": "python",
   "pygments_lexer": "ipython3",
   "version": "3.8.1"
  }
 },
 "nbformat": 4,
 "nbformat_minor": 4
}
