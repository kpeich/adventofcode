{
 "cells": [
  {
   "cell_type": "markdown",
   "metadata": {},
   "source": [
    "# --- Day 5: Sunny with a Chance of Asteroids ---"
   ]
  },
  {
   "cell_type": "markdown",
   "metadata": {},
   "source": [
    "## ---Part One---"
   ]
  },
  {
   "cell_type": "markdown",
   "metadata": {},
   "source": [
    "You're starting to sweat as the ship makes its way toward Mercury. The Elves suggest that you get the air conditioner working by upgrading your ship computer to support the Thermal Environment Supervision Terminal.\n",
    "\n",
    "The Thermal Environment Supervision Terminal (TEST) starts by running a diagnostic program (your puzzle input). *The TEST diagnostic program will run on your existing Intcode computer after a few modifications:*\n",
    "\n",
    "***First, you'll need to add two new instructions:***\n",
    "\n",
    "* Opcode 3 takes a single integer as input and saves it to the position given by its only parameter:\n",
    "> * For example, the instruction 3,50 would take an input value and store it at address 50.\n",
    "* Opcode 4 outputs the value of its only parameter.\n",
    "> * For example, the instruction 4,50 would output the value at address 50.\n",
    "\n",
    "Programs that use these instructions will come with documentation that explains what should be connected to the input and output. The program 3,0,4,0,99 outputs whatever it gets as input, then halts.\n",
    "\n",
    "**Second, you'll need to add support for parameter modes:**\n",
    "\n",
    "* Each parameter of an instruction is handled based on its parameter mode. \n",
    ">Right now, your ship computer already understands parameter mode 0, position mode, which causes the parameter to be interpreted as a position - if the parameter is 50, its value is the value stored at address 50 in memory. <br> Until now, all parameters have been in position mode.\n",
    "\n",
    "* Now, your ship computer will also need to handle parameters in mode 1, immediate mode.\n",
    ">In immediate mode, a parameter is interpreted as a value - if the parameter is 50, its value is simply 50.\n",
    "\n",
    "**Parameter modes are stored in the same value as the instruction's opcode.**\n",
    "* The opcode is a two-digit number based only on the ones and tens digit of the value\n",
    "> * That is, the opcode is the rightmost two digits of the first value in an instruction\n",
    "* Parameter modes are single digits, one per parameter, read right-to-left from the opcode: \n",
    "> * The first parameter's mode is in the hundreds digit\n",
    "> * The second parameter's mode is in the thousands digit \n",
    "> * The third parameter's mode is in the ten-thousands digit, etc. \n",
    "> * Any missing modes are 0.\n",
    "\n",
    "**For example, consider the program `1002,4,3,4,33`.**\n",
    "\n",
    "> The first instruction, `1002,4,3,4`, is a multiply instruction:\n",
    ">* The rightmost two digits of the first value, 02, indicate opcode 2, multiplication\n",
    ">* Then, going right to left, the parameter modes are:\n",
    ">* 0 (hundreds digit)\n",
    ">* 1 (thousands digit)\n",
    ">* and 0 (ten-thousands digit, not present and therefore zero):\n",
    "\n",
    "```\n",
    "ABCDE\n",
    " 1002\n",
    "\n",
    "DE - two-digit opcode,      02 == opcode 2\n",
    " C - mode of 1st parameter,  0 == position mode\n",
    " B - mode of 2nd parameter,  1 == immediate mode\n",
    " A - mode of 3rd parameter,  0 == position mode,\n",
    "                                  omitted due to being a leading zero\n",
    "```\n",
    "\n",
    "                                  \n",
    "**This instruction multiplies its first two parameters:**\n",
    ">* The first parameter, `4` in position mode, works like it did before - its value is the value stored at address `4` (`33`). \n",
    ">* The second parameter, `3` in immediate mode, simply has value `3`. \n",
    ">* The result of this operation, `33 * 3 = 99`, is written according to the third parameter, `4` in position mode, which also works like it did before\n",
    ">* `99` is written to address `4`.\n",
    "\n",
    "**Parameters that an instruction writes to will never be in immediate mode.** \n",
    "\n",
    "**Finally, some notes:**\n",
    "\n",
    "* It is important to remember that the instruction pointer should increase by the number of values in the instruction after the instruction finishes. Because of the new instructions, this amount is no longer always `4`.\n",
    "* Integers can be negative: `1101,100,-1,4,0` is a valid program (find `100 + -1`, store the result in position `4`).\n",
    "\n",
    "**The TEST diagnostic program will start by requesting from the user the ID of the system to test by running an input instruction:**<br>\n",
    "* **Provide it 1**, the ID for the ship's air conditioner unit.\n",
    "* It will then perform a series of diagnostic tests confirming that various parts of the Intcode computer, like parameter modes, function correctly. \n",
    "> * For each test, it will run an output instruction indicating how far the result of the test was from the expected value, where 0 means the test was successful. \n",
    "> * Non-zero outputs mean that a function is not working correctly; check the instructions that were run before the output instruction to see which one failed.\n",
    "\n",
    "* Finally, the program will output a diagnostic code and immediately halt. \n",
    "> * This final output isn't an error; an output followed immediately by a halt means the program finished. If all outputs were zero except the diagnostic code, the diagnostic program ran successfully.\n",
    "\n",
    "***After providing 1 to the only input instruction and passing all the tests, what diagnostic code does the program produce?***"
   ]
  },
  {
   "cell_type": "code",
   "execution_count": 1,
   "metadata": {},
   "outputs": [],
   "source": [
    "def get_instructions(instruction, pointer):\n",
    "    '''\n",
    "    Takes the instruction and its index location and returns the opcode, parameters and increments the index by 1\n",
    "    '''\n",
    "    pointer = pointer + 1\n",
    "    return instruction % 100 , instruction // 100, pointer"
   ]
  },
  {
   "cell_type": "code",
   "execution_count": 2,
   "metadata": {},
   "outputs": [],
   "source": [
    "def mode_0(program, value):\n",
    "    '''\n",
    "    Mode 0 (position mode):\n",
    "        The parameter to be interpreted as a position\n",
    "    EX:\n",
    "        If the parameter is 50, its value is the value stored at address 50\n",
    "    '''\n",
    "    return program[value]\n",
    "\n",
    "def mode_1(program, value):\n",
    "    '''\n",
    "    Mode 1 (immediate mode):\n",
    "        The parameter is interpreted as a value\n",
    "    EX:\n",
    "        If the parameter is 50, its value is simply 50'''\n",
    "    return value\n",
    "\n",
    "mode_dict = {0 : mode_0, 1 : mode_1}"
   ]
  },
  {
   "cell_type": "code",
   "execution_count": 3,
   "metadata": {},
   "outputs": [],
   "source": [
    "def opcode_1(program, modes, pointer):\n",
    "    '''\n",
    "    Adds numbers from two positions and stores them in a third position\n",
    "    '''\n",
    "    modes = [ (modes // 10**n % 10) for n in range(3) ]\n",
    "    parameters = [ mode_dict[modes[index-pointer]](program, program[index]) for index in range(pointer, pointer+2) ]\n",
    "    program[mode_0(program, pointer+2)] = parameters[0] + parameters[1]\n",
    "    pointer = pointer + 3\n",
    "    return program, pointer\n",
    "\n",
    "def opcode_2(program, modes, pointer):\n",
    "    '''\n",
    "    Multiplies numbers from two positions and stores them in a third position\n",
    "    '''\n",
    "    modes = [ (modes // 10**n % 10) for n in range(3) ]\n",
    "    parameters = [ mode_dict[modes[index-pointer]](program, program[index]) for index in range(pointer, pointer+2) ]\n",
    "    program[mode_0(program, pointer+2)] = parameters[0] * parameters[1]\n",
    "    pointer = pointer + 3\n",
    "    return program, pointer\n",
    "\n",
    "def opcode_3(program, input_int, pointer):\n",
    "    '''\n",
    "    Takes a single integer as input and saves it to the position given by its only parameter\n",
    "    '''\n",
    "    program[program[pointer]] = input_int\n",
    "    pointer = pointer + 1\n",
    "    return program, pointer\n",
    "\n",
    "def opcode_4(program, parameter, pointer):\n",
    "    '''\n",
    "    Outputs the value of its only parameter\n",
    "    '''\n",
    "    out = mode_dict[parameter](program,program[pointer])\n",
    "    print( f\"Output: {out}\" )\n",
    "    \n",
    "    pointer = pointer + 1\n",
    "        \n",
    "    return program, pointer\n",
    "\n",
    "def opcode_99(program, parameters=0, pointer=0):\n",
    "    '''\n",
    "    Halts the program.\n",
    "    '''\n",
    "    print(\"Optcode 99 : Program has halted.\")\n",
    "    pointer = len(program) + 1\n",
    "    return program, pointer\n",
    "\n",
    "op_dict = {1 : opcode_1, 2 : opcode_2, 3 : opcode_3, 4 : opcode_4, 99 : opcode_99}"
   ]
  },
  {
   "cell_type": "code",
   "execution_count": 4,
   "metadata": {},
   "outputs": [],
   "source": [
    "def run_program(program, input_int=1, pointer=0):\n",
    "    # Knowing that only the first opcode requires input we run this first\n",
    "    opcode, modes, pointer = get_instructions(program[pointer], pointer)\n",
    "    program, pointer = op_dict[opcode](program, input_int, pointer)\n",
    "    \n",
    "    while pointer < len(program):\n",
    "        opcode, modes, pointer = get_instructions(program[pointer], pointer)\n",
    "        program, pointer = op_dict[opcode](program, modes, pointer)"
   ]
  },
  {
   "cell_type": "markdown",
   "metadata": {},
   "source": [
    "### Examples for testing modes"
   ]
  },
  {
   "cell_type": "code",
   "execution_count": 5,
   "metadata": {},
   "outputs": [
    {
     "data": {
      "text/plain": [
       "([1002, 4, 3, 4, 36], 4)"
      ]
     },
     "execution_count": 5,
     "metadata": {},
     "output_type": "execute_result"
    }
   ],
   "source": [
    "example1 = [1002, 4, 3, 4, 33]\n",
    "opcode_1(example1,10,1)"
   ]
  },
  {
   "cell_type": "code",
   "execution_count": 6,
   "metadata": {},
   "outputs": [
    {
     "data": {
      "text/plain": [
       "([1002, 4, 3, 4, 99], 4)"
      ]
     },
     "execution_count": 6,
     "metadata": {},
     "output_type": "execute_result"
    }
   ],
   "source": [
    "example2 = [1002, 4, 3, 4, 33]\n",
    "opcode_2(example2,10,1)"
   ]
  },
  {
   "cell_type": "code",
   "execution_count": 7,
   "metadata": {},
   "outputs": [
    {
     "name": "stdout",
     "output_type": "stream",
     "text": [
      "Optcode 99 : Program has halted.\n"
     ]
    },
    {
     "data": {
      "text/plain": [
       "[1001, 8, 3, 9, 1002, 8, 3, 8, 99, 36]"
      ]
     },
     "execution_count": 7,
     "metadata": {},
     "output_type": "execute_result"
    }
   ],
   "source": [
    "example3 = [1001,8,3,9,1002,8,3,8,33,0]\n",
    "pointer = 0\n",
    "while pointer < len(example3):\n",
    "    opcode, modes, pointer = get_instructions(example3[pointer], pointer)\n",
    "    example3, pointer = op_dict[opcode](example3, modes, pointer)\n",
    "example3"
   ]
  },
  {
   "cell_type": "markdown",
   "metadata": {},
   "source": [
    "### Lets see if it works for the day 5 input:"
   ]
  },
  {
   "cell_type": "code",
   "execution_count": 8,
   "metadata": {},
   "outputs": [
    {
     "name": "stdout",
     "output_type": "stream",
     "text": [
      "Output: 0\n",
      "Output: 0\n",
      "Output: 0\n",
      "Output: 0\n",
      "Output: 0\n",
      "Output: 0\n",
      "Output: 0\n",
      "Output: 0\n",
      "Output: 0\n",
      "Output: 12428642\n",
      "Optcode 99 : Program has halted.\n"
     ]
    }
   ],
   "source": [
    "with open('day5.txt') as f:\n",
    "    intcode = [int(i) for i in f.read().split(',')]\n",
    "    run_program(intcode)"
   ]
  },
  {
   "cell_type": "markdown",
   "metadata": {},
   "source": [
    "## --- Part Two ---"
   ]
  },
  {
   "cell_type": "markdown",
   "metadata": {},
   "source": [
    "The air conditioner comes online! Its cold air feels good for a while, but then the TEST alarms start to go off. Since the air conditioner can't vent its heat anywhere but back into the spacecraft, it's actually making the air inside the ship warmer.\n",
    "\n",
    "Instead, you'll need to use the TEST to extend the thermal radiators. Fortunately, the diagnostic program (your puzzle input) is already equipped for this. Unfortunately, your Intcode computer is not.\n",
    "\n",
    "**Your computer is only missing a few opcodes:**\n",
    "\n",
    "* Opcode 5 is jump-if-true: \n",
    ">* If the first parameter is non-zero\n",
    ">* Set the instruction pointer to the value from the second parameter. \n",
    ">* Otherwise, do nothing.\n",
    "\n",
    "* Opcode 6 is jump-if-false:\n",
    ">* If the first parameter is zero\n",
    ">* Set the instruction pointer to the value from the second parameter\n",
    ">* Otherwise, do nothing.\n",
    "\n",
    "* Opcode 7 is less than: \n",
    ">* If the first parameter is less than the second parameter\n",
    ">* Store `1` in the position given by the third parameter\n",
    ">* Otherwise, store `0`.\n",
    "\n",
    "\n",
    "* Opcode 8 is equals:\n",
    ">* If the first parameter is equal to the second parameter\n",
    ">* Store `1` in the position given by the third parameter\n",
    ">* Otherwise, store `0`.\n",
    "\n",
    "**Like all instructions, these instructions need to support parameter modes as described above.**\n",
    "\n",
    "Normally, after an instruction is finished, the instruction pointer increases by the number of values in that instruction. However, ***if the instruction modifies the instruction pointer, that value is used and the instruction pointer is not automatically increased.***"
   ]
  },
  {
   "cell_type": "markdown",
   "metadata": {},
   "source": [
    "**The repititive lines of code in all the opcode's is exactly why I think it'll be much better to make a class**"
   ]
  },
  {
   "cell_type": "code",
   "execution_count": 9,
   "metadata": {},
   "outputs": [],
   "source": [
    "def opcode_5(program, modes, pointer):\n",
    "    '''\n",
    "    Jump-if-true:\n",
    "    If first parameter is non-zero; set instruction pointer to second parameter\n",
    "    Else do nothing\n",
    "    '''\n",
    "    modes = [ (modes // 10**n % 10) for n in range(2) ]\n",
    "    parameters = [mode_dict[modes[index-pointer]](program, program[index]) for index in range(pointer, pointer+2)]\n",
    "    if parameters[0] != 0:\n",
    "        pointer = parameters[1]\n",
    "    else:\n",
    "        pointer = pointer + 2\n",
    "\n",
    "    return program, pointer\n",
    "\n",
    "def opcode_6(program, modes, pointer):\n",
    "    '''\n",
    "    Jump-if-false:\n",
    "    If the first parameter is zero; set instruction pointer to second parameter\n",
    "    Else do nothing\n",
    "    '''\n",
    "    modes = [ (modes // 10**n % 10) for n in range(2) ]\n",
    "    parameters = [mode_dict[modes[index-pointer]](program, program[index]) for index in range(pointer, pointer+2)]\n",
    "    \n",
    "    if parameters[0] == 0:\n",
    "        pointer = parameters[1]\n",
    "    else:\n",
    "        pointer = pointer + 2\n",
    "        \n",
    "    return program, pointer\n",
    "\n",
    "def opcode_7(program, modes, pointer):\n",
    "    '''\n",
    "    Less than:\n",
    "    If first parameter is less than second parameter\n",
    "    Store 1 in position given by third parameter\n",
    "    Else store 0\n",
    "    '''\n",
    "    modes = [ (modes // 10**n % 10) for n in range(3) ]\n",
    "    parameters = [ mode_dict[modes[index-pointer]](program, program[index]) for index in range(pointer, pointer+2) ]\n",
    "    if parameters[0] < parameters[1]:\n",
    "        program[mode_0(program, pointer+2)] = 1\n",
    "    else:\n",
    "        program[mode_0(program, pointer+2)] = 0\n",
    "    \n",
    "    pointer = pointer + 3\n",
    "    \n",
    "    return program, pointer\n",
    "\n",
    "def opcode_8(program, modes, pointer):\n",
    "    '''\n",
    "    Equals:\n",
    "    If first parameter is equal to the second parameter\n",
    "    Store 1 in position given by third parameter\n",
    "    Else store 0\n",
    "    '''\n",
    "    modes = [ (modes // 10**n % 10) for n in range(3) ]\n",
    "    parameters = [ mode_dict[modes[index-pointer]](program, program[index]) for index in range(pointer, pointer+2)]\n",
    "    if parameters[0] == parameters[1]:\n",
    "        program[mode_0(program, pointer+2)] = 1\n",
    "    else:\n",
    "        program[mode_0(program, pointer+2)] = 0\n",
    "    \n",
    "    pointer = pointer + 3\n",
    "    \n",
    "    return program, pointer\n",
    "\n",
    "op_dict[5] = opcode_5\n",
    "op_dict[6] = opcode_6\n",
    "op_dict[7] = opcode_7\n",
    "op_dict[8] = opcode_8"
   ]
  },
  {
   "cell_type": "markdown",
   "metadata": {},
   "source": [
    "**For example, here are several programs that take one input, compare it to the value 8, and then produce one output:**\n",
    "\n",
    "> `3,9,8,9,10,9,4,9,99,-1,8` - Using position mode, consider whether the input is equal to 8; output 1 (if it is) or 0 (if it is not).\n",
    "> `3,9,7,9,10,9,4,9,99,-1,8` - Using position mode, consider whether the input is less than 8; output 1 (if it is) or 0 (if it is not).\n",
    "> `3,3,1108,-1,8,3,4,3,99` - Using immediate mode, consider whether the input is equal to 8; output 1 (if it is) or 0 (if it is not).\n",
    "> `3,3,1107,-1,8,3,4,3,99` - Using immediate mode, consider whether the input is less than 8; output 1 (if it is) or 0 (if it is not)."
   ]
  },
  {
   "cell_type": "code",
   "execution_count": 10,
   "metadata": {},
   "outputs": [
    {
     "name": "stdout",
     "output_type": "stream",
     "text": [
      "Output: 0\n",
      "Optcode 99 : Program has halted.\n",
      "Output: 1\n",
      "Optcode 99 : Program has halted.\n",
      "Output: 0\n",
      "Optcode 99 : Program has halted.\n"
     ]
    }
   ],
   "source": [
    "# Checking output equal to 8 position mode\n",
    "equal_high = [3,9,8,9,10,9,4,9,99,-1,8]\n",
    "run_program(equal_high,1)\n",
    "equal_equal = [3,9,8,9,10,9,4,9,99,-1,8]\n",
    "run_program(equal_equal,8)\n",
    "equal_low = [3,9,8,9,10,9,4,9,99,-1,8]\n",
    "run_program(equal_low,-8)"
   ]
  },
  {
   "cell_type": "code",
   "execution_count": 11,
   "metadata": {},
   "outputs": [
    {
     "name": "stdout",
     "output_type": "stream",
     "text": [
      "Output: 0\n",
      "Optcode 99 : Program has halted.\n",
      "Output: 1\n",
      "Optcode 99 : Program has halted.\n",
      "Output: 0\n",
      "Optcode 99 : Program has halted.\n"
     ]
    }
   ],
   "source": [
    "# Checking output less than 8 position mode\n",
    "less_false = [3,9,7,9,10,9,4,9,99,-1,8]\n",
    "run_program(less_false,10) \n",
    "less_true =[3,9,7,9,10,9,4,9,99,-1,8]\n",
    "run_program(less_false,-7)\n",
    "less_equal = [3,9,7,9,10,9,4,9,99,-1,8]\n",
    "run_program(less_equal,8)"
   ]
  },
  {
   "cell_type": "code",
   "execution_count": 12,
   "metadata": {},
   "outputs": [
    {
     "name": "stdout",
     "output_type": "stream",
     "text": [
      "Output: 0\n",
      "Optcode 99 : Program has halted.\n",
      "Output: 1\n",
      "Optcode 99 : Program has halted.\n",
      "Output: 0\n",
      "Optcode 99 : Program has halted.\n"
     ]
    }
   ],
   "source": [
    "# Checking output equal to 8 immediate mode\n",
    "imm_high = [3,3,1108,-1,8,3,4,3,99]\n",
    "run_program(imm_high,10)\n",
    "imm_equal = [3,3,1108,-1,8,3,4,3,99]\n",
    "run_program(imm_equal,8)\n",
    "imm_neg = [3,3,1108,-1,8,3,4,3,99]\n",
    "run_program(imm_neg,-8)"
   ]
  },
  {
   "cell_type": "code",
   "execution_count": 13,
   "metadata": {},
   "outputs": [
    {
     "name": "stdout",
     "output_type": "stream",
     "text": [
      "Output: 1\n",
      "Optcode 99 : Program has halted.\n",
      "Output: 0\n",
      "Optcode 99 : Program has halted.\n",
      "Output: 1\n",
      "Optcode 99 : Program has halted.\n"
     ]
    }
   ],
   "source": [
    "# Checking output less than 8 immediate mode\n",
    "imm_less = [3,3,1107,-1,8,3,4,3,99]\n",
    "run_program(imm_less,-10)\n",
    "imm_more = [3,3,1107,-1,8,3,4,3,99]\n",
    "run_program(imm_more,8)\n",
    "imm_same = [3,3,1107,-1,8,3,4,3,99]\n",
    "run_program(imm_same,-8)"
   ]
  },
  {
   "cell_type": "markdown",
   "metadata": {},
   "source": [
    "**Here are some jump tests that take an input, then output 0 if the input was zero or 1 if the input was non-zero:**\n",
    "\n",
    "> `3,12,6,12,15,1,13,14,13,4,13,99,-1,0,1,9` (using position mode)<br>\n",
    "> `3,3,1105,-1,9,1101,0,0,12,4,12,99,1` (using immediate mode)"
   ]
  },
  {
   "cell_type": "code",
   "execution_count": 14,
   "metadata": {},
   "outputs": [
    {
     "name": "stdout",
     "output_type": "stream",
     "text": [
      "Output: 1\n",
      "Optcode 99 : Program has halted.\n",
      "Output: 0\n",
      "Optcode 99 : Program has halted.\n",
      "Output: 1\n",
      "Optcode 99 : Program has halted.\n"
     ]
    }
   ],
   "source": [
    "pos_jump_one = [3,12,6,12,15,1,13,14,13,4,13,99,-1,0,1,9]\n",
    "run_program(pos_jump_one,1)\n",
    "pos_jump_zero = [3,12,6,12,15,1,13,14,13,4,13,99,-1,0,1,9]\n",
    "run_program(pos_jump_zero,0)\n",
    "pos_jump_neg = [3,12,6,12,15,1,13,14,13,4,13,99,-1,0,1,9]\n",
    "run_program(pos_jump_neg,-1)"
   ]
  },
  {
   "cell_type": "code",
   "execution_count": 15,
   "metadata": {},
   "outputs": [
    {
     "name": "stdout",
     "output_type": "stream",
     "text": [
      "Output: 1\n",
      "Optcode 99 : Program has halted.\n",
      "Output: 0\n",
      "Optcode 99 : Program has halted.\n",
      "Output: 1\n",
      "Optcode 99 : Program has halted.\n"
     ]
    }
   ],
   "source": [
    "imm_jump_one = [3,3,1105,-1,9,1101,0,0,12,4,12,99,1]\n",
    "run_program(imm_jump_one,1)\n",
    "imm_jump_zero = [3,3,1105,-1,9,1101,0,0,12,4,12,99,1]\n",
    "run_program(imm_jump_zero,0)\n",
    "imm_jump_neg = [3,3,1105,-1,9,1101,0,0,12,4,12,99,1]\n",
    "run_program(imm_jump_neg,-1)"
   ]
  },
  {
   "cell_type": "markdown",
   "metadata": {},
   "source": [
    "**Here's a larger example:**\n",
    "\n",
    "> `3,21,1008,21,8,20,1005,20,22,107,8,21,20,1006,20,31,`<br>\n",
    "> `1106,0,36,98,0,0,1002,21,125,20,4,20,1105,1,46,104,`<br>\n",
    "> `999,1105,1,46,1101,1000,1,20,4,20,1105,1,46,98,99`\n",
    "\n",
    "The above example program uses an input instruction to ask for a single number. The program will then output 999 if the input value is below 8, output 1000 if the input value is equal to 8, or output 1001 if the input value is greater than 8."
   ]
  },
  {
   "cell_type": "code",
   "execution_count": 16,
   "metadata": {},
   "outputs": [
    {
     "name": "stdout",
     "output_type": "stream",
     "text": [
      "Output: 1001\n",
      "Optcode 99 : Program has halted.\n",
      "Output: 999\n",
      "Optcode 99 : Program has halted.\n",
      "Output: 1000\n",
      "Optcode 99 : Program has halted.\n"
     ]
    }
   ],
   "source": [
    "large_high = [3,21,1008,21,8,20,1005,20,22,107,8,21,20,1006,20,31,1106,0,36,98,0,0,1002,21,125,20,4,20,1105,1,46,104,999,1105,1,46,1101,1000,1,20,4,20,1105,1,46,98,99]\n",
    "run_program(large_high, 10)\n",
    "large_low = [3,21,1008,21,8,20,1005,20,22,107,8,21,20,1006,20,31,1106,0,36,98,0,0,1002,21,125,20,4,20,1105,1,46,104,999,1105,1,46,1101,1000,1,20,4,20,1105,1,46,98,99]\n",
    "run_program(large_low, 5)\n",
    "large_equal = [3,21,1008,21,8,20,1005,20,22,107,8,21,20,1006,20,31,1106,0,36,98,0,0,1002,21,125,20,4,20,1105,1,46,104,999,1105,1,46,1101,1000,1,20,4,20,1105,1,46,98,99]\n",
    "run_program(large_equal, 8)"
   ]
  },
  {
   "cell_type": "markdown",
   "metadata": {},
   "source": [
    "This time, when the TEST diagnostic program runs its input instruction to get the ID of the system to test, provide it 5, the ID for the ship's thermal radiator controller. \n",
    "This diagnostic test suite only outputs one number, the diagnostic code.\n",
    "\n",
    "**What is the diagnostic code for system ID 5?**"
   ]
  },
  {
   "cell_type": "code",
   "execution_count": 17,
   "metadata": {},
   "outputs": [
    {
     "name": "stdout",
     "output_type": "stream",
     "text": [
      "Output: 918655\n",
      "Optcode 99 : Program has halted.\n"
     ]
    }
   ],
   "source": [
    "with open('day5.txt') as f:\n",
    "    intcode = [ int(i) for i in f.read().split(',')]\n",
    "    run_program(intcode, 5)"
   ]
  }
 ],
 "metadata": {
  "kernelspec": {
   "display_name": "Python 3",
   "language": "python",
   "name": "python3"
  },
  "language_info": {
   "codemirror_mode": {
    "name": "ipython",
    "version": 3
   },
   "file_extension": ".py",
   "mimetype": "text/x-python",
   "name": "python",
   "nbconvert_exporter": "python",
   "pygments_lexer": "ipython3",
   "version": "3.8.1"
  }
 },
 "nbformat": 4,
 "nbformat_minor": 4
}
