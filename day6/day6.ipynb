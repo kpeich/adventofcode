{
 "cells": [
  {
   "cell_type": "markdown",
   "metadata": {},
   "source": [
    "# --- Day 6: Universal Orbit Map ---"
   ]
  },
  {
   "cell_type": "markdown",
   "metadata": {},
   "source": [
    "## ---Part One---"
   ]
  },
  {
   "cell_type": "markdown",
   "metadata": {},
   "source": [
    "You've landed at the Universal Orbit Map facility on Mercury. Because navigation in space often involves transferring between orbits, the orbit maps here are useful for finding efficient routes between, for example, you and Santa. You download a map of the local orbits (your puzzle input).\n",
    "\n",
    "Except for the universal Center of Mass (COM), every object in space is in orbit around exactly one other object. An orbit looks roughly like this:\n",
    "```\n",
    "\n",
    "                 \\\n",
    "                   \\\n",
    "                    |\n",
    "                    |\n",
    "AAA--> o            o <--BBB\n",
    "                    |\n",
    "                    |\n",
    "                   /\n",
    "                  /\n",
    "```\n",
    "\n",
    "In this diagram, the object BBB is in orbit around AAA. The path that BBB takes around AAA (drawn with lines) is only partly shown. In the map data, this orbital relationship is written AAA)BBB, which means \"BBB is in orbit around AAA\".\n",
    "\n",
    "Before you use your map data to plot a course, you need to make sure it wasn't corrupted during the download. To verify maps, the Universal Orbit Map facility uses orbit count checksums - the total number of direct orbits (like the one shown above) and indirect orbits.\n",
    "\n",
    "Whenever A orbits B and B orbits C, then A indirectly orbits C. This chain can be any number of objects long: if A orbits B, B orbits C, and C orbits D, then A indirectly orbits D.\n",
    "\n",
    "**For example, suppose you have the following map:**\n",
    "\n",
    "> COM)B <br>\n",
    "> B)C <br>\n",
    "> C)D <br>\n",
    "> D)E <br>\n",
    "> E)F <br>\n",
    "> B)G <br>\n",
    "> G)H <br>\n",
    "> D)I <br>\n",
    "> E)J <br>\n",
    "> J)K <br>\n",
    "> K)L <br>\n",
    "\n",
    "**Visually, the above map of orbits looks like this:**\n",
    "\n",
    "```\n",
    "         G - H       J - K - L\n",
    "        /           /\n",
    " COM - B - C - D - E - F\n",
    "                \\\n",
    "                 I\n",
    "```\n",
    "\n",
    "In this visual representation, when two objects are connected by a line, the one on the right directly orbits the one on the left.\n",
    "\n",
    "**Here, we can count the total number of orbits as follows:**\n",
    "\n",
    ">* D directly orbits C and indirectly orbits B and COM, a total of 3 orbits.\n",
    ">* L directly orbits K and indirectly orbits J, E, D, C, B, and COM, a total of 7 orbits.\n",
    ">* COM orbits nothing.\n",
    ">* The total number of direct and indirect orbits in this example is 42.\n",
    "\n",
    "**What is the total number of direct and indirect orbits in your map data?**"
   ]
  },
  {
   "cell_type": "code",
   "execution_count": null,
   "metadata": {},
   "outputs": [],
   "source": []
  }
 ],
 "metadata": {
  "kernelspec": {
   "display_name": "Python 3",
   "language": "python",
   "name": "python3"
  },
  "language_info": {
   "codemirror_mode": {
    "name": "ipython",
    "version": 3
   },
   "file_extension": ".py",
   "mimetype": "text/x-python",
   "name": "python",
   "nbconvert_exporter": "python",
   "pygments_lexer": "ipython3",
   "version": "3.8.1"
  }
 },
 "nbformat": 4,
 "nbformat_minor": 4
}
