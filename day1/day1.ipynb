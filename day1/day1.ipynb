{
 "cells": [
  {
   "cell_type": "markdown",
   "metadata": {},
   "source": [
    "# <center> --- Day 1: The Tyranny of the Rocket Equation --- </center>"
   ]
  },
  {
   "cell_type": "markdown",
   "metadata": {},
   "source": [
    "Santa has become stranded at the edge of the Solar System while delivering presents to other planets! To accurately calculate his position in space, safely align his warp drive, and return to Earth in time to save Christmas, he needs you to bring him measurements from fifty stars.\n",
    "\n",
    "Collect stars by solving puzzles. Two puzzles will be made available on each day in the Advent calendar; the second puzzle is unlocked when you complete the first. Each puzzle grants one star. Good luck!"
   ]
  },
  {
   "cell_type": "markdown",
   "metadata": {},
   "source": [
    "## <center>---Part One---</center>"
   ]
  },
  {
   "cell_type": "markdown",
   "metadata": {},
   "source": [
    "The Elves quickly load you into a spacecraft and prepare to launch.\n",
    "\n",
    "At the first Go / No Go poll, every Elf is Go until the Fuel Counter-Upper. They haven't determined the amount of fuel required yet.\n",
    "\n",
    "Fuel required to launch a given module is based on its mass. **Specifically, to find the fuel required for a module, take its mass, divide by three, round down, and subtract 2.**\n",
    "\n",
    "**For example:**\n",
    "<ul>\n",
    "    <li>For a mass of 12, divide by 3 and round down to get 4, then subtract 2 to get 2.</li>\n",
    "    <li>For a mass of 14, dividing by 3 and rounding down still yields 4, so the fuel required is also 2.</li>\n",
    "    <li>For a mass of 1969, the fuel required is 654.</li>\n",
    "    <li>For a mass of 100756, the fuel required is 33583.</li>\n",
    "</ul>\n",
    "\n",
    "The Fuel Counter-Upper needs to know the total fuel requirement. To find it, individually calculate the fuel needed for the mass of each module (your puzzle input), then add together all the fuel values.\n",
    "\n",
    "***What is the sum of the fuel requirements for all of the modules on your spacecraft?***"
   ]
  },
  {
   "cell_type": "code",
   "execution_count": 37,
   "metadata": {},
   "outputs": [],
   "source": [
    "def module_fuel(mass):\n",
    "    return int(mass / 3) - 2"
   ]
  },
  {
   "cell_type": "code",
   "execution_count": 38,
   "metadata": {},
   "outputs": [
    {
     "data": {
      "text/plain": [
       "True"
      ]
     },
     "execution_count": 38,
     "metadata": {},
     "output_type": "execute_result"
    }
   ],
   "source": [
    "example = [12, 14, 1969, 100756]\n",
    "[ module_fuel(i) for i in example ] == [2, 2, 654, 33583]"
   ]
  },
  {
   "cell_type": "code",
   "execution_count": 39,
   "metadata": {},
   "outputs": [
    {
     "name": "stdout",
     "output_type": "stream",
     "text": [
      "3367126\n"
     ]
    }
   ],
   "source": [
    "with open('day1.txt') as f:\n",
    "    module_mass = [ int(line.strip()) for line in f ]\n",
    "    fuel = sum(required_fuel(module) for module in module_mass)\n",
    "    print(fuel)"
   ]
  },
  {
   "cell_type": "markdown",
   "metadata": {},
   "source": [
    "## <center>--- Part Two ---</center>"
   ]
  },
  {
   "cell_type": "markdown",
   "metadata": {},
   "source": [
    "During the second Go / No Go poll, the Elf in charge of the Rocket Equation Double-Checker stops the launch sequence. Apparently, you forgot to include additional fuel for the fuel you just added.\n",
    "\n",
    "Fuel itself requires fuel just like a module - **take its mass, divide by three, round down, and subtract 2.** However, that fuel also requires fuel, and that fuel requires fuel, and so on. *Any mass that would require negative fuel should instead be treated as if it requires zero fuel*; the remaining mass, if any, is instead handled by wishing really hard, which has no mass and is outside the scope of this calculation.\n",
    "\n",
    "So, for each module mass, calculate its fuel and add it to the total. Then, treat the fuel amount you just calculated as the input mass and repeat the process, continuing until a fuel requirement is zero or negative.\n",
    "\n",
    "**For example:**\n",
    "<ul>\n",
    "    <li>A module of mass 14 requires 2 fuel. This fuel requires no further fuel (2 divided by 3 and rounded down is 0, which would call for a negative fuel), so the total fuel required is still just 2.</li>\n",
    "    <li>At first, a module of mass 1969 requires 654 fuel. Then, this fuel requires 216 more fuel (654 / 3 - 2). 216 then requires 70 more fuel, which requires 21 fuel, which requires 5 fuel, which requires no further fuel. So, the total fuel required for a module of mass 1969 is 654 + 216 + 70 + 21 + 5 = 966.</li>\n",
    "    <li>The fuel required by a module of mass 100756 and its fuel is: 33583 + 11192 + 3728 + 1240 + 411 + 135 + 43 + 12 + 2 = 50346.</li>\n",
    "</ul>    \n",
    "    \n",
    "***What is the sum of the fuel requirements for all of the modules on your spacecraft when also taking into account the mass of the added fuel? (Calculate the fuel requirements for each module separately, then add them all up at the end.)***"
   ]
  },
  {
   "cell_type": "code",
   "execution_count": 63,
   "metadata": {},
   "outputs": [],
   "source": [
    "def required_fuel(mass):\n",
    "    fuel = int( mass/3 ) - 2\n",
    "    if fuel < 0:\n",
    "        return 0\n",
    "    else:\n",
    "        return fuel + required_fuel(fuel)"
   ]
  },
  {
   "cell_type": "code",
   "execution_count": 65,
   "metadata": {},
   "outputs": [
    {
     "data": {
      "text/plain": [
       "True"
      ]
     },
     "execution_count": 65,
     "metadata": {},
     "output_type": "execute_result"
    }
   ],
   "source": [
    "example2 = [14, 1969, 100756]\n",
    "[ required_fuel(i) for i in example2 ] == [2, 966, 50346]"
   ]
  },
  {
   "cell_type": "code",
   "execution_count": 67,
   "metadata": {},
   "outputs": [
    {
     "name": "stdout",
     "output_type": "stream",
     "text": [
      "5047796\n"
     ]
    }
   ],
   "source": [
    "with open('day1.txt') as f:\n",
    "    module_mass = [int(line.strip()) for line in f]\n",
    "    total_fuel = sum([required_fuel(mass) for mass in module_mass])\n",
    "    print(total_fuel)"
   ]
  }
 ],
 "metadata": {
  "kernelspec": {
   "display_name": "Python 3",
   "language": "python",
   "name": "python3"
  },
  "language_info": {
   "codemirror_mode": {
    "name": "ipython",
    "version": 3
   },
   "file_extension": ".py",
   "mimetype": "text/x-python",
   "name": "python",
   "nbconvert_exporter": "python",
   "pygments_lexer": "ipython3",
   "version": "3.8.1"
  }
 },
 "nbformat": 4,
 "nbformat_minor": 2
}
