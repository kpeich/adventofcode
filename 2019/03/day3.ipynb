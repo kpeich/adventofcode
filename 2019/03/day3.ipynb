{
 "cells": [
  {
   "cell_type": "markdown",
   "metadata": {},
   "source": [
    "# --- Day 3: Crossed Wires ---"
   ]
  },
  {
   "cell_type": "markdown",
   "metadata": {},
   "source": [
    "## ---Part One---"
   ]
  },
  {
   "cell_type": "markdown",
   "metadata": {},
   "source": [
    "The gravity assist was successful, and you're well on your way to the Venus refuelling station. During the rush back on Earth, the fuel management system wasn't completely installed, so that's next on the priority list.\n",
    "\n",
    "Opening the front panel reveals a jumble of wires. Specifically, two wires are connected to a central port and extend outward on a grid. You trace the path each wire takes as it leaves the central port, one wire per line of text (your puzzle input).\n",
    "\n",
    "The wires twist and turn, but the two wires occasionally cross paths. To fix the circuit, you need to find the intersection point closest to the central port. Because the wires are on a grid, use the <u src=https://en.wikipedia.org/wiki/Taxicab_geometry> Manhattan distance </u> for this measurement. While the wires do technically cross right at the central port where they both start, this point does not count, nor does a wire count as crossing with itself.\n",
    "\n",
    "For example, if the first wire's path is ```R8,U5,L5,D3```, then starting from the central port ```(o)```, it goes right 8, up 5, left 5, and finally down 3:\n",
    "\n",
    "```...........\n",
    "...........\n",
    "...........\n",
    "....+----+.\n",
    "....|....|.\n",
    "....|....|.\n",
    "....|....|.\n",
    ".........|.\n",
    ".o-------+.\n",
    "...........```\n",
    "\n",
    "Then, if the second wire's path is U7,R6,D4,L4, it goes up 7, right 6, down 4, and left 4:\n",
    "\n",
    "```...........\n",
    ".+-----+...\n",
    ".|.....|...\n",
    ".|..+--X-+.\n",
    ".|..|..|.|.\n",
    ".|.-X--+.|.\n",
    ".|..|....|.\n",
    ".|.......|.\n",
    ".o-------+.\n",
    "...........```\n",
    "\n",
    "These wires cross at two locations (marked X), but the lower-left one is closer to the central port: its distance is 3 + 3 = 6.\n",
    "\n",
    "**Here are a few more examples:**\n",
    "```\n",
    "R8,U5,L5,D3\n",
    "U7,R6,D4,L4\n",
    "distance 6\n",
    "\n",
    "R75,D30,R83,U83,L12,D49,R71,U7,L72<br>\n",
    "U62,R66,U55,R34,D71,R55,D58,R83<br>\n",
    "distance 159\n",
    "\n",
    "R98,U47,R26,D63,R33,U87,L62,D20,R33,U53,R51<br>\n",
    "U98,R91,D20,R16,D67,R40,U7,R15,U6,R7<br>\n",
    "distance 135\n",
    "```\n",
    "**What is the Manhattan distance from the central port to the closest intersection?**"
   ]
  },
  {
   "cell_type": "code",
   "execution_count": 1,
   "metadata": {},
   "outputs": [],
   "source": [
    "def get_points(path):\n",
    "    x,y = [0,0]\n",
    "    wire = []\n",
    "    for move in path:\n",
    "        if move[0] == 'L':\n",
    "            wire += [(x-i,y) for i in range(1,int(move[1:])+1)]\n",
    "            x -= int(move[1:])\n",
    "        if move[0] == 'R':\n",
    "            wire += [(x+i,y) for i in range(1,int(move[1:])+1)]\n",
    "            x += int(move[1:])\n",
    "        if move[0] == 'U':\n",
    "            wire += [(x,y+i) for i in range(1,int(move[1:])+1)]\n",
    "            y += int(move[1:])\n",
    "        if move[0] == 'D':\n",
    "            wire += [(x,y-i) for i in range(1,int(move[1:])+1)]\n",
    "            y -= int(move[1:])\n",
    "    return wire"
   ]
  },
  {
   "cell_type": "code",
   "execution_count": 2,
   "metadata": {},
   "outputs": [],
   "source": [
    "def get_closest_intersect(wire1, wire2):\n",
    "    intersects = set(wire1).intersection(wire2)\n",
    "    return min([(abs(point[0]) + abs(point[1])) for point in intersects])"
   ]
  },
  {
   "cell_type": "code",
   "execution_count": 3,
   "metadata": {},
   "outputs": [
    {
     "data": {
      "text/plain": [
       "6"
      ]
     },
     "execution_count": 3,
     "metadata": {},
     "output_type": "execute_result"
    }
   ],
   "source": [
    "test1 = [['R8','U5','L5','D3'], ['U7','R6','D4','L4']]\n",
    "wires1 = [get_points(i) for i in test1]\n",
    "get_closest_intersect(wires1[0], wires1[1])"
   ]
  },
  {
   "cell_type": "code",
   "execution_count": 4,
   "metadata": {},
   "outputs": [
    {
     "data": {
      "text/plain": [
       "159"
      ]
     },
     "execution_count": 4,
     "metadata": {},
     "output_type": "execute_result"
    }
   ],
   "source": [
    "test2 = [['R75','D30','R83','U83','L12','D49','R71','U7','L72'], ['U62','R66','U55','R34','D71','R55','D58','R83']]\n",
    "wires2 = [get_points(i) for i in test2]\n",
    "get_closest_intersect(wires2[0], wires2[1])"
   ]
  },
  {
   "cell_type": "code",
   "execution_count": 5,
   "metadata": {},
   "outputs": [
    {
     "data": {
      "text/plain": [
       "135"
      ]
     },
     "execution_count": 5,
     "metadata": {},
     "output_type": "execute_result"
    }
   ],
   "source": [
    "test3 = [['R98','U47','R26','D63','R33','U87','L62','D20','R33','U53','R51'], ['U98','R91','D20','R16','D67','R40','U7','R15','U6','R7']]\n",
    "wires3 = [get_points(i) for i in test3]\n",
    "get_closest_intersect(wires3[0], wires3[1])"
   ]
  },
  {
   "cell_type": "code",
   "execution_count": 6,
   "metadata": {},
   "outputs": [
    {
     "name": "stdout",
     "output_type": "stream",
     "text": [
      "227\n"
     ]
    }
   ],
   "source": [
    "with open('day3.txt') as f:\n",
    "    paths = [ line.strip().split(',') for line in f ]\n",
    "    route = [ get_points(wire) for wire in paths ]\n",
    "    print(get_closest_intersect(route[0], route[1]))"
   ]
  },
  {
   "cell_type": "markdown",
   "metadata": {},
   "source": [
    "## --- Part Two ---"
   ]
  },
  {
   "cell_type": "markdown",
   "metadata": {},
   "source": [
    "It turns out that this circuit is very timing-sensitive; you actually need to minimize the signal delay.\n",
    "\n",
    "To do this, calculate the number of steps each wire takes to reach each intersection; choose the intersection where the sum of both wires' steps is lowest. If a wire visits a position on the grid multiple times, use the steps value from the first time it visits that position when calculating the total value of a specific intersection.\n",
    "\n",
    "The number of steps a wire takes is the total number of grid squares the wire has entered to get to that location, including the intersection being considered. Again consider the example from above:\n",
    "\n",
    "`...........\n",
    ".+-----+...\n",
    ".|.....|...\n",
    ".|..+--X-+.\n",
    ".|..|..|.|.\n",
    ".|.-X--+.|.\n",
    ".|..|....|.\n",
    ".|.......|.\n",
    ".o-------+.\n",
    "...........`\n",
    "\n",
    "***In the above example the intersection closest to the central port is reached after:***\n",
    "\n",
    "* 8+5+5+2 = 20 steps by the first wire\n",
    "* 7+6+4+3 = 20 steps by the second wire \n",
    "* for a total of 20+20 = 40 steps.\n",
    "\n",
    "***However, the top-right intersection is better:***\n",
    "* the first wire takes only 8+5+2 = 15 \n",
    "* the second wire takes only 7+6+2 = 15\n",
    "* for a total of 15+15 = 30 steps.\n",
    "\n",
    "***Here are the best steps for the extra examples from above:***\n",
    "\n",
    "R75,D30,R83,U83,L12,D49,R71,U7,L72,<br>\n",
    "U62,R66,U55,R34,D71,R55,D58,R83 = 610 steps<br>\n",
    "\n",
    "R98,U47,R26,D63,R33,U87,L62,D20,R33,U53,R51<br>\n",
    "U98,R91,D20,R16,D67,R40,U7,R15,U6,R7 = 410 steps<br>\n",
    "\n",
    "**What is the fewest combined steps the wires must take to reach an intersection?**"
   ]
  },
  {
   "cell_type": "code",
   "execution_count": 7,
   "metadata": {},
   "outputs": [],
   "source": [
    "def get_shortest_intersect(wire1, wire2):\n",
    "    intersects = set(wire1).intersection(wire2)\n",
    "    steps = [ (wire1.index(loc), wire2.index(loc)) for loc in intersects ]\n",
    "    return min([ step[0] + step[1] for step in steps ]) + 2"
   ]
  },
  {
   "cell_type": "code",
   "execution_count": 8,
   "metadata": {},
   "outputs": [
    {
     "data": {
      "text/plain": [
       "30"
      ]
     },
     "execution_count": 8,
     "metadata": {},
     "output_type": "execute_result"
    }
   ],
   "source": [
    "get_shortest_intersect(wires1[0], wires1[1])"
   ]
  },
  {
   "cell_type": "code",
   "execution_count": 9,
   "metadata": {},
   "outputs": [
    {
     "data": {
      "text/plain": [
       "610"
      ]
     },
     "execution_count": 9,
     "metadata": {},
     "output_type": "execute_result"
    }
   ],
   "source": [
    "get_shortest_intersect(wires2[0], wires2[1])"
   ]
  },
  {
   "cell_type": "code",
   "execution_count": 10,
   "metadata": {},
   "outputs": [
    {
     "data": {
      "text/plain": [
       "410"
      ]
     },
     "execution_count": 10,
     "metadata": {},
     "output_type": "execute_result"
    }
   ],
   "source": [
    "get_shortest_intersect(wires3[0], wires3[1])"
   ]
  },
  {
   "cell_type": "code",
   "execution_count": 11,
   "metadata": {},
   "outputs": [
    {
     "name": "stdout",
     "output_type": "stream",
     "text": [
      "20286\n"
     ]
    }
   ],
   "source": [
    "with open('day3.txt') as f:\n",
    "    paths = [ line.strip().split(',') for line in f ]\n",
    "    route = [ get_points(wire) for wire in paths ]\n",
    "    print(get_shortest_intersect(route[0], route[1]))"
   ]
  }
 ],
 "metadata": {
  "kernelspec": {
   "display_name": "Python 3",
   "language": "python",
   "name": "python3"
  },
  "language_info": {
   "codemirror_mode": {
    "name": "ipython",
    "version": 3
   },
   "file_extension": ".py",
   "mimetype": "text/x-python",
   "name": "python",
   "nbconvert_exporter": "python",
   "pygments_lexer": "ipython3",
   "version": "3.8.1"
  }
 },
 "nbformat": 4,
 "nbformat_minor": 4
}
