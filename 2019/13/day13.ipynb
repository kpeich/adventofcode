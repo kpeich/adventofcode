{
 "cells": [
  {
   "cell_type": "markdown",
   "metadata": {},
   "source": [
    "# ---Day 13: Care Package---"
   ]
  },
  {
   "cell_type": "markdown",
   "metadata": {},
   "source": [
    "## ---Part One---"
   ]
  },
  {
   "cell_type": "markdown",
   "metadata": {},
   "source": [
    "As you ponder the solitude of space and the ever-increasing three-hour roundtrip for messages between you and Earth, you notice that the Space Mail Indicator Light is blinking. To help keep you sane, the Elves have sent you a care package.\n",
    "\n",
    "It's a new game for the ship's <a src=\"https://en.wikipedia.org/wiki/Arcade_cabinet\">arcade cabinet</a>! Unfortunately, the arcade is ***all the way*** on the other end of the ship. Surely, it won't be hard to build your own - the care package even comes with schematics.\n",
    "\n",
    "The arcade cabinet runs Intcode software (day9) like the game the Elves sent (your puzzle input). It has a primitive screen capable of drawing square ***tiles*** on a grid. The software draws tiles to the screen with output instructions: every three output instructions specify the `x` position (distance from the left), `y` position (distance from the top), and `tile id`. The `tile id` is interpreted as follows:\n",
    "\n",
    "* 0 is an ***empty*** tile. No game object appears in this tile.\n",
    "* 1 is a ***wall*** tile. Walls are indestructible barriers.\n",
    "* 2 is a ***block*** tile. Blocks can be broken by the ball.\n",
    "* 3 is a ***horizontal paddle*** tile. The paddle is indestructible.\n",
    "* 4 is a ***ball*** tile. The ball moves diagonally and bounces off objects.\n",
    "\n",
    "For example, a sequence of output values like `1,2,3,6,5,4` would draw a ***horizontal paddle*** tile (`1` tile from the left and `2` tiles from the top) and a ***ball*** tile (`6` tiles from the left and `5` tiles from the top).\n",
    "\n",
    "Start the game. **How many block tiles are on the screen when the game exits?**"
   ]
  },
  {
   "cell_type": "markdown",
   "metadata": {},
   "source": [
    "### Intcode Computer from Day09"
   ]
  },
  {
   "cell_type": "code",
   "execution_count": 1,
   "metadata": {},
   "outputs": [],
   "source": [
    "class Computer:\n",
    "    def __init__(self, program, input_val=1):\n",
    "        self.program = program + [0 for i in range(1000)]\n",
    "        self.input = input_val\n",
    "        self.pointer = 0\n",
    "        self.instruction = 0\n",
    "        self.base = 0\n",
    "        self.out = 0\n",
    "        self.opcode = { 1 : self.add,\n",
    "                       2 : self.multiply,\n",
    "                       3 : self.save,\n",
    "                       4 : self.output,\n",
    "                       5 : self.jump_true,\n",
    "                       6 : self.jump_false,\n",
    "                       7 : self.less_than,\n",
    "                       8 : self.is_equal,\n",
    "                       9 : self.change_base,\n",
    "                       99 : self.halt }\n",
    "    \n",
    "    def set_instruction(self):\n",
    "        self.instruction = self.program[self.pointer]\n",
    "        self.pointer += 1\n",
    "        \n",
    "    def get_opcode(self):\n",
    "        return self.instruction % 100\n",
    "    \n",
    "    def get_modes(self):\n",
    "        return self.instruction // 100\n",
    "\n",
    "    def get_parameters(self, modes, num_parameters=3):\n",
    "        mode = [ (modes // 10**n % 10) for n in range(num_parameters) ]\n",
    "        parameters = []\n",
    "        for i in range(self.pointer, self.pointer+num_parameters):\n",
    "            if mode[i-self.pointer]:\n",
    "                if mode[i-self.pointer] == 2:\n",
    "                    parameters.append(self.program[self.program[i]+self.base])\n",
    "                else:\n",
    "                    parameters.append(self.program[i])\n",
    "            else:\n",
    "                parameters.append(self.program[self.program[i]])\n",
    "        \n",
    "        return parameters\n",
    "    \n",
    "    def set_write(self, modes, num_parameters):\n",
    "        relative = [ (modes // 10**n % 10) for n in range(num_parameters) ][-1]\n",
    "        if relative:\n",
    "            return self.program[self.pointer+num_parameters-1]+self.base\n",
    "        return self.program[self.pointer+num_parameters-1]\n",
    "\n",
    "    def add(self, step=3):\n",
    "        values = self.get_parameters(self.get_modes(), step)\n",
    "        # Write over last parameter because it should always be a value indicating the location\n",
    "        values[-1] = self.set_write(self.get_modes(), step)\n",
    "        self.program[values[-1]] = values[0] + values[1]\n",
    "        self.pointer += step\n",
    "        \n",
    "    def multiply(self, step=3):\n",
    "        values = self.get_parameters(self.get_modes(), step)\n",
    "        # Write over last parameter because it should always be a value indicating the location\n",
    "        values[-1] = self.set_write(self.get_modes(), step)\n",
    "        self.program[values[-1]] = values[0] * values[1]\n",
    "        self.pointer += step\n",
    "        \n",
    "    def save(self, step=1):\n",
    "        if self.get_modes():\n",
    "            self.program[self.program[self.pointer]+self.base] = self.input\n",
    "        else:\n",
    "            self.program[self.program[self.pointer]] = self.input\n",
    "        self.pointer += step\n",
    "        \n",
    "    def output(self, step=1):\n",
    "        self.out = self.get_parameters(self.get_modes(), step)[0]\n",
    "        print(f'Output: {self.out}')\n",
    "        self.pointer += step \n",
    "        \n",
    "    def jump_true(self, step=2):\n",
    "        values = self.get_parameters(self.get_modes(), step)\n",
    "        if values[0] != 0:\n",
    "            self.pointer = values[1]\n",
    "        else:\n",
    "            self.pointer += step\n",
    "            \n",
    "    def jump_false(self, step=2):\n",
    "        values = self.get_parameters(self.get_modes(), step)\n",
    "        if values[0] == 0:\n",
    "            self.pointer = values[1]\n",
    "        else:\n",
    "            self.pointer += step\n",
    "            \n",
    "    def less_than(self, step=3):\n",
    "        values = self.get_parameters(self.get_modes(), step)\n",
    "        # Write over last parameter because it should always be a value indicating the location\n",
    "        values[-1] = self.set_write(self.get_modes(), step)\n",
    "        self.program[values[-1]] = int(values[0] < values[1])\n",
    "        self.pointer += step\n",
    "    \n",
    "    def is_equal(self, step=3):\n",
    "        values = self.get_parameters(self.get_modes(), step)\n",
    "        # Write over last parameter because it should always be a value indicating the location\n",
    "        values[-1] = self.set_write(self.get_modes(), step)\n",
    "        self.program[values[-1]] = int(values[0]==values[1])\n",
    "        self.pointer += step\n",
    "    \n",
    "    def change_base(self, step=1):\n",
    "        value = self.get_parameters(self.get_modes(), step)\n",
    "        self.base += value[0]\n",
    "        self.pointer += step\n",
    "        \n",
    "    def halt(self):\n",
    "        print(\"Program Halted.\")\n",
    "        self.instruction = -1\n",
    "    \n",
    "    def run(self):\n",
    "        while self.instruction != -1:\n",
    "            #print(self.program, self.base)\n",
    "            self.set_instruction()\n",
    "            #print(self.pointer, self.instruction) # Used for Testing\n",
    "            self.opcode[self.get_opcode()]()\n",
    "            #print(self.program[:self.pointer+1], self.program[self.pointer:self.pointer+4]) # Used for Testing"
   ]
  },
  {
   "cell_type": "code",
   "execution_count": 2,
   "metadata": {},
   "outputs": [],
   "source": [
    "class Arcade(Computer):\n",
    "    def __init__(self, program,quarters=2):\n",
    "        Computer.__init__(self, program)\n",
    "        self.program[0] = quarters\n",
    "        self.out_pointer = 0\n",
    "        self.out = [0,0,0]\n",
    "        self.score = 0\n",
    "        self.objects = {0: [],\\\n",
    "                       1:[],\\\n",
    "                       2:[],\\\n",
    "                       3:[],\\\n",
    "                       4:[] } #empty, wall, block, paddle, ball\n",
    "        \n",
    "    def output(self, step=1):\n",
    "        self.out[self.out_pointer] = self.get_parameters(self.get_modes(), step)[0]\n",
    "        if self.out_pointer == 2:\n",
    "            if self.out[0:2] == [-1,0]:\n",
    "                self.score = self.out[-1]\n",
    "            else:\n",
    "                self.objects[self.out[2]].append(self.out[0:2])\n",
    "        self.out_pointer = (self.out_pointer + 1) % 3\n",
    "        self.pointer += step\n",
    "        \n",
    "    def save(self, step=1):\n",
    "        self.input = self.joystick()\n",
    "        if self.get_modes():\n",
    "            self.program[self.program[self.pointer]+self.base] = self.input\n",
    "        else:\n",
    "            self.program[self.program[self.pointer]] = self.input\n",
    "        self.pointer += step\n",
    "        \n",
    "    def joystick(self):\n",
    "        if self.objects[4][-1][0] < self.objects[3][-1][0]:\n",
    "            self.objects[3].append([self.objects[3][-1][0] - 1, self.objects[3][-1][1]])\n",
    "            return -1\n",
    "        elif self.objects[4][-1][0] > self.objects[3][-1][0]:\n",
    "            self.objects[3].append([self.objects[3][-1][0] + 1,  self.objects[3][-1][1]])\n",
    "            return 1\n",
    "        else:\n",
    "            return 0\n",
    "        \n",
    "    def visualize(self):\n",
    "        key = [' ', '|', '#', '_', 'O']\n",
    "        grid = [[ '' for i in range(37) ] for j in range(26)]\n",
    "        while self.instruction != -1:\n",
    "            self.set_instruction()\n",
    "            self.opcode[self.get_opcode()]()\n",
    "            if self.out[0:2] != [-1,0]:\n",
    "                grid[self.out[1]][self.out[0]] = key[self.out[2]]\n",
    "                rows = [ ''.join(line) for line in grid ]\n",
    "                show = '\\n'.join(rows)\n",
    "                clear_output(wait=True)\n",
    "                print(f'{show}', end ='\\r' + f'Score : {self.score}', flush=True)\n",
    "                #sleep(0.1)"
   ]
  },
  {
   "cell_type": "code",
   "execution_count": 3,
   "metadata": {},
   "outputs": [
    {
     "name": "stdout",
     "output_type": "stream",
     "text": [
      "Program Halted.\n",
      "There are 369 blocks\n"
     ]
    }
   ],
   "source": [
    "with open('day13.txt') as f:\n",
    "    game = [ int(i) for i in f.read().split(',') ]\n",
    "    bb = Arcade(game,quarters=1)\n",
    "    bb.run()\n",
    "    print(f'There are {len(bb.objects[2])} blocks')"
   ]
  },
  {
   "cell_type": "markdown",
   "metadata": {},
   "source": [
    "The set intersection of the blocks and the empty spaces equals the blocks left on the board."
   ]
  },
  {
   "cell_type": "code",
   "execution_count": 4,
   "metadata": {},
   "outputs": [
    {
     "data": {
      "text/plain": [
       "369"
      ]
     },
     "execution_count": 4,
     "metadata": {},
     "output_type": "execute_result"
    }
   ],
   "source": [
    "len({tuple(i) for i in bb.objects[2]} - {tuple(j) for j in bb.objects[0]})"
   ]
  },
  {
   "cell_type": "markdown",
   "metadata": {},
   "source": [
    "## ---Part Two---"
   ]
  },
  {
   "cell_type": "markdown",
   "metadata": {},
   "source": [
    "The game didn't run because you didn't put in any quarters. Unfortunately, you did not bring any quarters. Memory address `0` represents the number of quarters that have been inserted; set it to `2` to play for free.\n",
    "\n",
    "The arcade cabinet has a <a src ='https://en.wikipedia.org/wiki/Joystick'>joystick</a> that can move left and right. The software reads the position of the joystick with input instructions:\n",
    "\n",
    "* If the joystick is in the ***neutral position***, provide `0`.\n",
    "* If the joystick is ***tilted to the left***, provide `-1`.\n",
    "* If the joystick is ***tilted to the right***, provide `1`.\n",
    "\n",
    "The arcade cabinet also has a <a src='https://en.wikipedia.org/wiki/Display_device#Segment_displays'>segment display</a> capable of showing a single number that represents the player's current score. When three output instructions specify `X=-1, Y=0`, the third output instruction is not a tile; the value instead specifies the new score to show in the segment display. For example, a sequence of output values like `-1,0,12345` would show `12345` as the player's current score.\n",
    "\n",
    "**Beat the game by breaking all the blocks. What is your score after the last block is broken?**"
   ]
  },
  {
   "cell_type": "code",
   "execution_count": 5,
   "metadata": {},
   "outputs": [
    {
     "name": "stdout",
     "output_type": "stream",
     "text": [
      "Program Halted.\n",
      "You scored 19210\n",
      "There are 0 blocks remaining\n"
     ]
    }
   ],
   "source": [
    "with open('day13.txt') as f:\n",
    "    game = [ int(i) for i in f.read().split(',') ]\n",
    "    bb = Arcade(game,quarters=2)\n",
    "    bb.run()\n",
    "    blocks = set(tuple(i) for i in bb.objects[2]) - set(tuple(j) for j in bb.objects[0])\n",
    "    if blocks == set():\n",
    "        blocks = 0\n",
    "    print(f'You scored {bb.score}')\n",
    "    print(f'There are {blocks} blocks remaining')"
   ]
  },
  {
   "cell_type": "markdown",
   "metadata": {},
   "source": [
    "The set intersecion is an empty set because while playing the game, the program ouput [x,y,0] for all (x,y) in the list of blocks, thus we have broken all the blocks "
   ]
  },
  {
   "cell_type": "markdown",
   "metadata": {},
   "source": [
    "## Visualizer"
   ]
  },
  {
   "cell_type": "markdown",
   "metadata": {},
   "source": [
    "A visualizer of this would be cool, I started making one but haven't finished yet. We'll see if I come back to it."
   ]
  },
  {
   "cell_type": "raw",
   "metadata": {},
   "source": [
    "with open('day13.txt') as f:\n",
    "    game = [ int(i) for i in f.read().split(',') ]\n",
    "    bb = Arcade(game,quarters=2)\n",
    "    bb.visualize()"
   ]
  }
 ],
 "metadata": {
  "kernelspec": {
   "display_name": "Python 3",
   "language": "python",
   "name": "python3"
  },
  "language_info": {
   "codemirror_mode": {
    "name": "ipython",
    "version": 3
   },
   "file_extension": ".py",
   "mimetype": "text/x-python",
   "name": "python",
   "nbconvert_exporter": "python",
   "pygments_lexer": "ipython3",
   "version": "3.8.1"
  }
 },
 "nbformat": 4,
 "nbformat_minor": 4
}
