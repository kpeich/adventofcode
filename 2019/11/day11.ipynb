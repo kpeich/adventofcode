{
 "cells": [
  {
   "cell_type": "markdown",
   "metadata": {},
   "source": [
    "# ---Day 11: Space Police---"
   ]
  },
  {
   "cell_type": "markdown",
   "metadata": {},
   "source": [
    "## ---Part One---"
   ]
  },
  {
   "cell_type": "markdown",
   "metadata": {},
   "source": [
    "On the way to Jupiter, you're <a src=\"https://www.youtube.com/watch?v=KwY28rpyKDE\">pulled over</a> by the ***Space Police***.\n",
    "\n",
    "\"Attention, unmarked spacecraft! You are in violation of Space Law! All spacecraft must have a clearly visible ***registration identifier***! You have 24 hours to comply or be sent to <a src=\"https://www.youtube.com/watch?v=BVn1oQL9sWg&t=5\">Space Jail!</a>\n",
    "\n",
    "Not wanting to be sent to Space Jail, you radio back to the Elves on Earth for help. Although it takes almost three hours for their reply signal to reach you, they send instructions for how to power up the ***emergency hull painting robot*** and even provide a small Intcode program (day09) (your puzzle input) that will cause it to paint your ship appropriately.\n",
    "\n",
    "There's just one problem: you don't have an emergency hull painting robot.\n",
    "\n",
    "You'll need to build a new emergency hull painting robot. The robot needs to be able to:\n",
    "1. move around on the grid of square panels on the side of your ship,\n",
    "2. detect the color of its current panel, and\n",
    "3. paint its current panel ***black*** or ***white***. (All of the panels are currently ***black***.)\n",
    "\n",
    "The Intcode program will serve as the brain of the robot. The program uses input instructions to access the robot's camera: provide `0` if the robot is over a ***black*** panel or `1` if the robot is over a ***white*** panel. Then, the program will output two values:\n",
    "\n",
    "* First, it will output a value indicating the ***color to paint the panel*** the robot is over: `0` means to paint the panel ***black***, and `1` means to paint the panel ***white***.\n",
    "* Second, it will output a value indicating the ***direction the robot should turn***: `0` means it should turn ***left 90 degrees***, and `1` means it should turn ***right 90 degrees***.\n",
    "After the robot turns, it should always move ***forward exactly one panel***. The robot starts facing ***up***.\n",
    "\n",
    "The robot will continue running for a while like this and halt when it is finished drawing. Do not restart the Intcode computer inside the robot during this process.\n",
    "\n",
    "For example, suppose the robot is about to start running. Drawing black panels as `.`, white panels as `#`, and the robot pointing the direction it is facing (`< ^ > v`), the initial state and region near the robot looks like this:\n",
    "```\n",
    ".....\n",
    ".....\n",
    "..^..\n",
    ".....\n",
    ".....\n",
    "```\n",
    "The panel under the robot (not visible here because a `^` is shown instead) is also black, and so any input instructions at this point should be provided `0`. Suppose the robot eventually outputs `1` (paint white) and then `0` (turn left). After taking these actions and moving forward one panel, the region now looks like this:\n",
    "```\n",
    ".....\n",
    ".....\n",
    ".<#..\n",
    ".....\n",
    ".....\n",
    "```\n",
    "Input instructions should still be provided `0`. Next, the robot might output `0` (paint black) and then `0` (turn left):\n",
    "```\n",
    ".....\n",
    ".....\n",
    "..#..\n",
    ".v...\n",
    ".....\n",
    "```\n",
    "After more outputs (`1,0`, `1,0`):\n",
    "```\n",
    ".....\n",
    ".....\n",
    "..^..\n",
    ".##..\n",
    ".....\n",
    "```\n",
    "The robot is now back where it started, but because it is now on a white panel, input instructions should be provided `1`. After several more outputs (`0,1`, `1,0`, `1,0`), the area looks like this:\n",
    "```\n",
    ".....\n",
    "..<#.\n",
    "...#.\n",
    ".##..\n",
    ".....\n",
    "```\n",
    "Before you deploy the robot, you should probably have an estimate of the area it will cover: specifically, you need to know ***the number of panels it paints at least once***, regardless of color. In the example above, the robot painted ***`6` panels*** at least once. (It painted its starting panel twice, but that panel is <a src=\"https://www.youtube.com/watch?v=KjsSvjA5TuE\"> still only counted once</a>; it also never painted the panel it ended on.)\n",
    "\n",
    "Build a new emergency hull painting robot and run the Intcode program on it. **How many panels does it paint at least once?**"
   ]
  },
  {
   "cell_type": "markdown",
   "metadata": {},
   "source": [
    "### Day09 Computer"
   ]
  },
  {
   "cell_type": "code",
   "execution_count": 1,
   "metadata": {},
   "outputs": [],
   "source": [
    "class Computer:\n",
    "    def __init__(self, program, input_val=1):\n",
    "        self.program = program + [0 for i in range(1000)]\n",
    "        self.input = input_val\n",
    "        self.pointer = 0\n",
    "        self.instruction = 0\n",
    "        self.base = 0\n",
    "        self.out = 0\n",
    "        self.opcode = { 1 : self.add,\n",
    "                       2 : self.multiply,\n",
    "                       3 : self.save,\n",
    "                       4 : self.output,\n",
    "                       5 : self.jump_true,\n",
    "                       6 : self.jump_false,\n",
    "                       7 : self.less_than,\n",
    "                       8 : self.is_equal,\n",
    "                       9 : self.change_base,\n",
    "                       99 : self.halt }\n",
    "    \n",
    "    def set_instruction(self):\n",
    "        self.instruction = self.program[self.pointer]\n",
    "        self.pointer += 1\n",
    "        \n",
    "    def get_opcode(self):\n",
    "        return self.instruction % 100\n",
    "    \n",
    "    def get_modes(self):\n",
    "        return self.instruction // 100\n",
    "\n",
    "    def get_parameters(self, modes, num_parameters=3):\n",
    "        mode = [ (modes // 10**n % 10) for n in range(num_parameters) ]\n",
    "        parameters = []\n",
    "        for i in range(self.pointer, self.pointer+num_parameters):\n",
    "            if mode[i-self.pointer]:\n",
    "                if mode[i-self.pointer] == 2:\n",
    "                    parameters.append(self.program[self.program[i]+self.base])\n",
    "                else:\n",
    "                    parameters.append(self.program[i])\n",
    "            else:\n",
    "                parameters.append(self.program[self.program[i]])\n",
    "        \n",
    "        return parameters\n",
    "    \n",
    "    def set_write(self, modes, num_parameters):\n",
    "        relative = [ (modes // 10**n % 10) for n in range(num_parameters) ][-1]\n",
    "        if relative:\n",
    "            return self.program[self.pointer+num_parameters-1]+self.base\n",
    "        return self.program[self.pointer+num_parameters-1]\n",
    "\n",
    "    def add(self, step=3):\n",
    "        values = self.get_parameters(self.get_modes(), step)\n",
    "        # Write over last parameter because it should always be a value indicating the location\n",
    "        values[-1] = self.set_write(self.get_modes(), step)\n",
    "        self.program[values[-1]] = values[0] + values[1]\n",
    "        self.pointer += step\n",
    "        \n",
    "    def multiply(self, step=3):\n",
    "        values = self.get_parameters(self.get_modes(), step)\n",
    "        # Write over last parameter because it should always be a value indicating the location\n",
    "        values[-1] = self.set_write(self.get_modes(), step)\n",
    "        self.program[values[-1]] = values[0] * values[1]\n",
    "        self.pointer += step\n",
    "        \n",
    "    def save(self, step=1):\n",
    "        if self.get_modes():\n",
    "            self.program[self.program[self.pointer]+self.base] = self.input\n",
    "        else:\n",
    "            self.program[self.program[self.pointer]] = self.input\n",
    "        self.pointer += step\n",
    "        \n",
    "    def output(self, step=1):\n",
    "        self.out = self.get_parameters(self.get_modes(), step)[0]\n",
    "        print(f'Output: {self.out}')\n",
    "        self.pointer += step \n",
    "        \n",
    "    def jump_true(self, step=2):\n",
    "        values = self.get_parameters(self.get_modes(), step)\n",
    "        if values[0] != 0:\n",
    "            self.pointer = values[1]\n",
    "        else:\n",
    "            self.pointer += step\n",
    "            \n",
    "    def jump_false(self, step=2):\n",
    "        values = self.get_parameters(self.get_modes(), step)\n",
    "        if values[0] == 0:\n",
    "            self.pointer = values[1]\n",
    "        else:\n",
    "            self.pointer += step\n",
    "            \n",
    "    def less_than(self, step=3):\n",
    "        values = self.get_parameters(self.get_modes(), step)\n",
    "        # Write over last parameter because it should always be a value indicating the location\n",
    "        values[-1] = self.set_write(self.get_modes(), step)\n",
    "        self.program[values[-1]] = int(values[0] < values[1])\n",
    "        self.pointer += step\n",
    "    \n",
    "    def is_equal(self, step=3):\n",
    "        values = self.get_parameters(self.get_modes(), step)\n",
    "        # Write over last parameter because it should always be a value indicating the location\n",
    "        values[-1] = self.set_write(self.get_modes(), step)\n",
    "        self.program[values[-1]] = int(values[0]==values[1])\n",
    "        self.pointer += step\n",
    "    \n",
    "    def change_base(self, step=1):\n",
    "        value = self.get_parameters(self.get_modes(), step)\n",
    "        self.base += value[0]\n",
    "        self.pointer += step\n",
    "        \n",
    "    def halt(self):\n",
    "        print(\"Program Halted.\")\n",
    "        self.instruction = -1\n",
    "    \n",
    "    def run(self):\n",
    "        while self.instruction != -1:\n",
    "            #print(self.program, self.base) # Used for testing\n",
    "            self.set_instruction()\n",
    "            #print(self.pointer, self.instruction) # Used for Testing\n",
    "            self.opcode[self.get_opcode()]()\n",
    "            # print(self.program[:self.pointer+1], self.program[self.pointer:self.pointer+4]) # Used for Testing"
   ]
  },
  {
   "cell_type": "code",
   "execution_count": 2,
   "metadata": {},
   "outputs": [],
   "source": [
    "class Painter(Computer):\n",
    "    def __init__(self, program, start_tile=0):\n",
    "        Computer.__init__(self, program, input_val=start_tile)\n",
    "        self.direction = 0 # 0,1,2,3 = N,E,S,W\n",
    "        self.x = 0\n",
    "        self.y = 0\n",
    "        self.paint = True\n",
    "        self.grid = {(0,0): self.input}\n",
    "        self.move = { 0:(0,1), \\\n",
    "                     1:(1,0), \\\n",
    "                     2:(0,-1), \\\n",
    "                     3:(-1,0 ) }\n",
    "    \n",
    "    def get_color(self, step=1):\n",
    "        #used to get color of tile\n",
    "        try:\n",
    "            return self.grid[(self.x,self.y)]\n",
    "        except:\n",
    "            return 0\n",
    "        \n",
    "    def save(self, step=1):\n",
    "        #overrite Computer save to save the tile color\n",
    "        if self.get_modes():\n",
    "            self.program[self.program[self.pointer]+self.base] = self.get_color()\n",
    "        else:\n",
    "            self.program[self.program[self.pointer]] = self.get_color()\n",
    "        self.pointer += step\n",
    "        \n",
    "    def turn_and_move(self, right):\n",
    "        if right:\n",
    "            self.direction = (self.direction + 1) % 4\n",
    "        else:\n",
    "            self.direction = (self.direction - 1) % 4\n",
    "        self.x = self.x + self.move[self.direction][0]\n",
    "        self.y = self.y + self.move[self.direction][1]\n",
    "        \n",
    "    def output(self, step=1):\n",
    "        if self.paint:\n",
    "            self.grid[(self.x,self.y)] = self.get_parameters(self.get_modes(), step)[0]\n",
    "            #print(self.grid)\n",
    "        else:\n",
    "            self.turn_and_move(self.get_parameters(self.get_modes(), step)[0])\n",
    "        self.paint = not self.paint\n",
    "        self.pointer += step\n",
    "    \n",
    "    def run(self):\n",
    "        while self.instruction != -1:\n",
    "            #print(self.pointer)\n",
    "            #print(self.pointer, self.program[:self.pointer+1])\n",
    "            self.set_instruction()\n",
    "            self.opcode[self.get_opcode()]()"
   ]
  },
  {
   "cell_type": "code",
   "execution_count": 3,
   "metadata": {},
   "outputs": [
    {
     "name": "stdout",
     "output_type": "stream",
     "text": [
      "Program Halted.\n",
      "The bot painted 2428 panels\n"
     ]
    }
   ],
   "source": [
    "with open('day11.txt') as f:\n",
    "    program = [ int(i) for i in f.read().strip().split(',') ]\n",
    "    bot = Painter(program)\n",
    "    bot.run()\n",
    "    print(f'The bot painted {len(bot.grid)} panels')"
   ]
  },
  {
   "cell_type": "markdown",
   "metadata": {},
   "source": [
    "#### Test Case"
   ]
  },
  {
   "cell_type": "code",
   "execution_count": 4,
   "metadata": {},
   "outputs": [
    {
     "name": "stdout",
     "output_type": "stream",
     "text": [
      "Program Halted.\n"
     ]
    },
    {
     "data": {
      "text/plain": [
       "(0, 1, {(0, 0): 0, (-1, 0): 0, (-1, -1): 1, (0, -1): 1, (1, 0): 1, (1, 1): 1})"
      ]
     },
     "execution_count": 4,
     "metadata": {},
     "output_type": "execute_result"
    }
   ],
   "source": [
    "test = [3,100,104,1,104,0,3,100,104,0,104,0,3,100,104,1,104,0,3,100,104,1,104,0 \\\n",
    "        ,3,100,104,0,104,1,3,100,104,1,104,0,3,100,104,1,104,0,99]\n",
    "test_bot = Painter(test)\n",
    "test_bot.run()\n",
    "test_bot.x, test_bot.y, test_bot.grid"
   ]
  },
  {
   "cell_type": "markdown",
   "metadata": {},
   "source": [
    "## ---Part Two---"
   ]
  },
  {
   "cell_type": "markdown",
   "metadata": {},
   "source": [
    "You're not sure what it's trying to paint, but it's definitely not a ***registration identifier***. The Space Police are getting impatient.\n",
    "\n",
    "Checking your external ship cameras again, you notice a white panel marked \"emergency hull painting robot starting panel\". The rest of the panels are ***still black***, but it looks like the robot was expecting to ***start on a white panel***, not a black one.\n",
    "\n",
    "Based on the Space Law Space Brochure that the Space Police attached to one of your windows, a valid registration identifier is always ***eight capital letters***. After starting the robot on a single white panel instead, **what registration identifier does it paint on your hull?**"
   ]
  },
  {
   "cell_type": "code",
   "execution_count": 5,
   "metadata": {},
   "outputs": [
    {
     "name": "stdout",
     "output_type": "stream",
     "text": [
      "Program Halted.\n"
     ]
    }
   ],
   "source": [
    "with open('day11.txt') as f:\n",
    "    program = [ int(i) for i in f.read().strip().split(',') ]\n",
    "    bot = Painter(program, start_tile=1)\n",
    "    bot.run()"
   ]
  },
  {
   "cell_type": "code",
   "execution_count": 6,
   "metadata": {},
   "outputs": [
    {
     "name": "stdout",
     "output_type": "stream",
     "text": [
      "X Range: 0 42\n",
      "Y Range: -5 0\n"
     ]
    }
   ],
   "source": [
    "#get grid dimensions, initialize blank grid\n",
    "print(\"X Range:\", min(bot.grid, key=lambda x: x[0])[0], max(bot.grid, key=lambda x: x[0])[0])\n",
    "print(\"Y Range:\", min(bot.grid, key=lambda y: y[1])[1], max(bot.grid, key=lambda y: y[1])[1])"
   ]
  },
  {
   "cell_type": "code",
   "execution_count": 7,
   "metadata": {},
   "outputs": [],
   "source": [
    "#initialize blank grid\n",
    "blank = [ [ '.' for x in range(0,43)] for y in range(-5,1) ]"
   ]
  },
  {
   "cell_type": "code",
   "execution_count": 8,
   "metadata": {},
   "outputs": [
    {
     "name": "stdout",
     "output_type": "stream",
     "text": [
      ".###....##.#....####.###..#..#..##..#..#...\n",
      ".#..#....#.#....#....#..#.#..#.#..#.#..#...\n",
      ".#..#....#.#....###..###..#..#.#....#..#...\n",
      ".###.....#.#....#....#..#.#..#.#....#..#...\n",
      ".#.#..#..#.#....#....#..#.#..#.#..#.#..#...\n",
      ".#..#..##..####.#....###...##...##...##....\n"
     ]
    }
   ],
   "source": [
    "for panel in bot.grid:\n",
    "    if bot.grid[panel]:\n",
    "        blank[panel[1]+5][panel[0]] = '#'\n",
    "\n",
    "code = [ ''.join(line) for line in blank ]\n",
    "for i in range(len(code)): print(code.pop()) "
   ]
  }
 ],
 "metadata": {
  "kernelspec": {
   "display_name": "Python 3",
   "language": "python",
   "name": "python3"
  },
  "language_info": {
   "codemirror_mode": {
    "name": "ipython",
    "version": 3
   },
   "file_extension": ".py",
   "mimetype": "text/x-python",
   "name": "python",
   "nbconvert_exporter": "python",
   "pygments_lexer": "ipython3",
   "version": "3.8.1"
  }
 },
 "nbformat": 4,
 "nbformat_minor": 4
}
