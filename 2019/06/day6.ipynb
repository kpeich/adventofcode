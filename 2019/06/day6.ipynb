{
 "cells": [
  {
   "cell_type": "markdown",
   "metadata": {},
   "source": [
    "# --- Day 6: Universal Orbit Map ---"
   ]
  },
  {
   "cell_type": "markdown",
   "metadata": {},
   "source": [
    "## ---Part One---"
   ]
  },
  {
   "cell_type": "markdown",
   "metadata": {},
   "source": [
    "You've landed at the Universal Orbit Map facility on Mercury. Because navigation in space often involves transferring between orbits, the orbit maps here are useful for finding efficient routes between, for example, you and Santa. You download a map of the local orbits (your puzzle input).\n",
    "\n",
    "Except for the universal Center of Mass (COM), every object in space is in <a src=\"https://en.wikipedia.org/wiki/Orbit\">orbit</a> around exactly one other object. An orbit looks roughly like this:\n",
    "```\n",
    "\n",
    "                 \\\n",
    "                   \\\n",
    "                    |\n",
    "                    |\n",
    "AAA--> o            o <--BBB\n",
    "                    |\n",
    "                    |\n",
    "                   /\n",
    "                  /\n",
    "```\n",
    "\n",
    "In this diagram, the object ```BBB``` is in orbit around ```AAA```. The path that ```BBB``` takes around ```AAA``` (drawn with lines) is only partly shown. In the map data, **this orbital relationship is written ```AAA)BBB```, which means \"```BBB``` is in orbit around ```AAA```\"**.\n",
    "\n",
    "Before you use your map data to plot a course, you need to make sure it wasn't corrupted during the download. To verify maps, the Universal Orbit Map facility uses orbit count checksums:\n",
    "* the total number of direct orbits (like the one shown above)\n",
    "* indirect orbits.\n",
    "\n",
    "Whenever ```A``` orbits ```B``` and ```B``` orbits ```C```, then ```A``` indirectly orbits ```C```. This chain can be any number of objects long: if ```A``` orbits ```B```, ```B``` orbits ```C```, and ```C``` orbits ```D```, then ```A``` indirectly orbits ```D```.\n",
    "\n",
    "**For example, suppose you have the following map:**\n",
    "\n",
    "> `COM)B\n",
    " B)C\n",
    " C)D\n",
    " D)E\n",
    " E)F\n",
    " B)G\n",
    " G)H\n",
    " D)I\n",
    " E)J\n",
    " J)K\n",
    " K)L`\n",
    "\n",
    "**Visually, the above map of orbits looks like this:**\n",
    "\n",
    "```\n",
    "         G - H       J - K - L\n",
    "        /           /\n",
    " COM - B - C - D - E - F\n",
    "                \\\n",
    "                 I\n",
    "```\n",
    "\n",
    "In this visual representation, when two objects are connected by a line, the one on the right directly orbits the one on the left.\n",
    "\n",
    "**Here, we can count the total number of orbits as follows:**\n",
    "\n",
    ">* `D` directly orbits `C` and indirectly orbits `B` and `COM`, a total of `3` orbits.\n",
    ">* `L` directly orbits `K` and indirectly orbits `J`, `E`, `D`, `C`, `B`, and `COM`, a total of `7` orbits.\n",
    ">* `COM` orbits nothing.\n",
    ">* The total number of direct and indirect orbits in this example is `42`.\n",
    "\n",
    "**What is the total number of direct and indirect orbits in your map data?**"
   ]
  },
  {
   "cell_type": "code",
   "execution_count": 1,
   "metadata": {},
   "outputs": [],
   "source": [
    "def get_direct(map_data):\n",
    "    '''\n",
    "    key is in orbit aroung value\n",
    "    '''\n",
    "    return { value : key for key, value in map_data }"
   ]
  },
  {
   "cell_type": "code",
   "execution_count": 2,
   "metadata": {},
   "outputs": [],
   "source": [
    "ex1 = ['COM)B', 'B)C', 'C)D', 'D)E', 'E)F', 'B)G', 'G)H', 'D)I', 'E)J', 'J)K', 'K)L']\n",
    "ex1_orbits = [ i.strip().split(')') for i in ex1 ]\n",
    "direct = get_direct(ex1_orbits)\n",
    "direct"
   ]
  },
  {
   "cell_type": "code",
   "execution_count": 3,
   "metadata": {},
   "outputs": [],
   "source": [
    "def planet_orbits(direct, planet, destination=\"COM\"):\n",
    "    if planet == destination:\n",
    "        return 0\n",
    "    elif planet == 'COM':\n",
    "        print(\"You've reached the COM, your destination was not found, try switching the order of your planet and destination\")\n",
    "        return float('inf')\n",
    "    else:\n",
    "        return 1 + planet_orbits(direct, direct[planet], destination)"
   ]
  },
  {
   "cell_type": "code",
   "execution_count": 4,
   "metadata": {},
   "outputs": [
    {
     "name": "stdout",
     "output_type": "stream",
     "text": [
      "D: 3 orbits\n",
      "L: 7 orbits\n",
      "COM: 0 orbits\n"
     ]
    }
   ],
   "source": [
    "print( f'D: {planet_orbits(direct,\"D\")} orbits' )\n",
    "print( f'L: {planet_orbits(direct,\"L\")} orbits' )\n",
    "print( f'COM: {planet_orbits(direct,\"COM\")} orbits' )"
   ]
  },
  {
   "cell_type": "code",
   "execution_count": 5,
   "metadata": {},
   "outputs": [
    {
     "name": "stdout",
     "output_type": "stream",
     "text": [
      "You've reached the COM, your destination was not found, try switching the order of your planet and destination\n"
     ]
    },
    {
     "data": {
      "text/plain": [
       "inf"
      ]
     },
     "execution_count": 5,
     "metadata": {},
     "output_type": "execute_result"
    }
   ],
   "source": [
    "planet_orbits(direct,\"D\",destination=\"K\")"
   ]
  },
  {
   "cell_type": "code",
   "execution_count": 6,
   "metadata": {},
   "outputs": [],
   "source": [
    "def system_orbits(map_data):\n",
    "    direct = get_direct(map_data)\n",
    "    planets = [ planet_orbits(direct, planet) for planet in direct ]\n",
    "    return sum(planets)"
   ]
  },
  {
   "cell_type": "code",
   "execution_count": 7,
   "metadata": {},
   "outputs": [
    {
     "data": {
      "text/plain": [
       "42"
      ]
     },
     "execution_count": 7,
     "metadata": {},
     "output_type": "execute_result"
    }
   ],
   "source": [
    "system_orbits(ex1_orbits)"
   ]
  },
  {
   "cell_type": "code",
   "execution_count": 8,
   "metadata": {},
   "outputs": [
    {
     "name": "stdout",
     "output_type": "stream",
     "text": [
      "The system has 119831 orbits.\n"
     ]
    }
   ],
   "source": [
    "with open('day6.txt') as f:\n",
    "    map_data = [ line.strip().split(')') for line in f ]\n",
    "    print(f'The system has {system_orbits(map_data)} orbits.')"
   ]
  },
  {
   "cell_type": "markdown",
   "metadata": {},
   "source": [
    "## ---Part Two---"
   ]
  },
  {
   "cell_type": "markdown",
   "metadata": {},
   "source": [
    "Now, you just need to figure out how many orbital transfers you (```YOU```) need to take to get to Santa (```SAN```).\n",
    "\n",
    "You start at the object YOU are orbiting; your destination is the object ```SAN``` is orbiting. An orbital transfer lets you move from any object to an object orbiting or orbited by that object.\n",
    "\n",
    "**For example, suppose you have the following map:**\n",
    "\n",
    "```\n",
    "COM)B\n",
    "B)C\n",
    "C)D\n",
    "D)E\n",
    "E)F\n",
    "B)G\n",
    "G)H\n",
    "D)I\n",
    "E)J\n",
    "J)K\n",
    "K)L\n",
    "K)YOU\n",
    "I)SAN\n",
    "```\n",
    "\n",
    "**Visually, the above map of orbits looks like this:**\n",
    "\n",
    "```\n",
    "                          YOU\n",
    "                         /\n",
    "        G - H       J - K - L\n",
    "       /           /\n",
    "COM - B - C - D - E - F\n",
    "               \\\n",
    "                I - SAN\n",
    "```\n",
    "\n",
    "In this example, ```YOU``` are in orbit around ```K```, and ```SAN``` is in orbit around ```I```. To move from ```K``` to ```I```, a minimum of 4 orbital transfers are required:\n",
    "\n",
    "* ```K``` to ```J```\n",
    "* ```J``` to ```E```\n",
    "* ```E``` to ```D```\n",
    "* ```D``` to ```I```\n",
    "\n",
    "**Afterward, the map of orbits looks like this:**\n",
    "\n",
    "```\n",
    "        G - H       J - K - L\n",
    "       /           /\n",
    "COM - B - C - D - E - F\n",
    "               \\\n",
    "                I - SAN\n",
    "                 \\\n",
    "                  YOU\n",
    "```\n",
    "\n",
    "**What is the minimum number of orbital transfers required to move from the object ```YOU``` are orbiting to the object ```SAN``` is orbiting (Between the objects they are orbiting - not between ```YOU``` and ```SAN```)?**"
   ]
  },
  {
   "cell_type": "code",
   "execution_count": 9,
   "metadata": {},
   "outputs": [],
   "source": [
    "def get_transfers(direct, planet, destination=\"COM\"):\n",
    "    visited = set()\n",
    "    if type(planet_orbits(direct,planet,destination)) == int:\n",
    "        while direct[planet] != destination:\n",
    "            visited.add(direct[planet])\n",
    "            planet = direct[planet]\n",
    "        visited.add(direct[planet])\n",
    "        return visited\n",
    "    else:\n",
    "        print(\"Path not found from you to destination, try reversing their order.\")"
   ]
  },
  {
   "cell_type": "code",
   "execution_count": 10,
   "metadata": {},
   "outputs": [
    {
     "name": "stdout",
     "output_type": "stream",
     "text": [
      "Number of Transfers: 4\n",
      "Planets Visited: {'K', 'I', 'J', 'E'}\n"
     ]
    }
   ],
   "source": [
    "ex2 = [ 'COM)B', 'B)C', 'C)D', 'D)E', 'E)F', 'B)G', 'G)H', 'D)I', 'E)J', 'J)K', 'K)L', 'I)SAN', 'K)YOU' ]\n",
    "ex2_orbits = [ i.strip().split(')') for i in ex2 ]\n",
    "direct = get_direct(ex2_orbits)\n",
    "\n",
    "you = get_transfers(direct, \"YOU\")\n",
    "san = get_transfers(direct, \"SAN\")\n",
    "print( f'Number of Transfers: {len(( you - san )| ( san - you ))}')\n",
    "print( f'Planets Visited: {( you - san ) | ( san - you )}')"
   ]
  },
  {
   "cell_type": "markdown",
   "metadata": {},
   "source": [
    "***Quick note here: I learned (or was reminded from this) that set complement (set theory) is not the same as set difference in python. The set difference in python only gives you the items in set A that aren't in set B. In order to get the full complement you must union the difference of A and B with the difference of B and A.***"
   ]
  },
  {
   "cell_type": "code",
   "execution_count": 11,
   "metadata": {},
   "outputs": [
    {
     "name": "stdout",
     "output_type": "stream",
     "text": [
      "YOU are 248 transfers from COM\n",
      "SANTA is 208 transfers from COM\n",
      "YOU are 322 transfers away from SANTA\n"
     ]
    }
   ],
   "source": [
    "with open('day6.txt') as f:\n",
    "    map_data = [ line.strip().split(')') for line in f ]\n",
    "    direct = get_direct(map_data)\n",
    "    paths_to_com = [ get_transfers(direct, i) for i in [\"YOU\", \"SAN\"] ]\n",
    "    path_to_santa = ( paths_to_com[0] - paths_to_com[1] ) | ( paths_to_com[1] - paths_to_com[0] )\n",
    "    \n",
    "    print(f\"YOU are {planet_orbits(direct,'YOU')} transfers from COM\")\n",
    "    print(f\"SANTA is {planet_orbits(direct,'SAN')} transfers from COM\")\n",
    "    \n",
    "    print(f\"YOU are {len(path_to_santa)} transfers away from SANTA\")"
   ]
  }
 ],
 "metadata": {
  "kernelspec": {
   "display_name": "Python 3",
   "language": "python",
   "name": "python3"
  },
  "language_info": {
   "codemirror_mode": {
    "name": "ipython",
    "version": 3
   },
   "file_extension": ".py",
   "mimetype": "text/x-python",
   "name": "python",
   "nbconvert_exporter": "python",
   "pygments_lexer": "ipython3",
   "version": "3.8.1"
  }
 },
 "nbformat": 4,
 "nbformat_minor": 4
}
