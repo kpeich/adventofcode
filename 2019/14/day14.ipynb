{
 "cells": [
  {
   "cell_type": "markdown",
   "metadata": {},
   "source": [
    "# ---Day 14: Space Stoichiometry---"
   ]
  },
  {
   "cell_type": "markdown",
   "metadata": {},
   "source": [
    "## ---Part One---"
   ]
  },
  {
   "cell_type": "markdown",
   "metadata": {},
   "source": [
    "As you approach the rings of Saturn, your ship's ***low fuel*** indicator turns on. There isn't any fuel here, but the rings have plenty of raw material. Perhaps your ship's Inter-Stellar Refinery Union brand ***nanofactory*** can turn these raw materials into fuel.\n",
    "\n",
    "You ask the nanofactory to produce a list of the ***reactions*** it can perform that are relevant to this process (your puzzle input). Every reaction turns some quantities of specific ***input chemicals*** into some quantity of an ***output chemical***. Almost every ***chemical*** is produced by exactly one reaction; the only exception, `ORE`, is the raw material input to the entire process and is not produced by a reaction.\n",
    "\n",
    "You just need to know how much ***`ORE`*** you'll need to collect before you can produce one unit of ***`FUEL`***.\n",
    "\n",
    "Each reaction gives specific quantities for its inputs and output; reactions cannot be partially run, so only whole integer multiples of these quantities can be used. (It's okay to have leftover chemicals when you're done, though.) For example, the reaction `1 A, 2 B, 3 C => 2 D` means that exactly 2 units of chemical D can be produced by consuming exactly 1 `A`, 2 `B` and 3 `C`. You can run the full reaction as many times as necessary; for example, you could produce 10 `D` by consuming 5 `A`, 10 `B`, and 15 `C`.\n",
    "\n",
    "Suppose your nanofactory produces the following list of reactions:\n",
    "\n",
    "`10 ORE => 10 A\n",
    "1 ORE => 1 B\n",
    "7 A, 1 B => 1 C\n",
    "7 A, 1 C => 1 D\n",
    "7 A, 1 D => 1 E\n",
    "7 A, 1 E => 1 FUEL`\n",
    "\n",
    "The first two reactions use only `ORE` as inputs; they indicate that you can produce as much of chemical `A` as you want (in increments of 10 units, each 10 costing 10 `ORE`) and as much of chemical `B` as you want (each costing 1 `ORE`). To produce 1 `FUEL`, a total of ***31*** `ORE` is required: 1 `ORE` to produce 1 `B`, then 30 more `ORE` to produce the 7 + 7 + 7 + 7 = 28 `A` (with 2 extra `A` wasted) required in the reactions to convert the `B` into `C`, `C` into `D`, `D` into `E`, and finally `E` into `FUEL`. (30 `A` is produced because its reaction requires that it is created in increments of 10.)\n",
    "\n",
    "Or, suppose you have the following list of reactions:\n",
    "\n",
    "`9 ORE => 2 A\n",
    "8 ORE => 3 B\n",
    "7 ORE => 5 C\n",
    "3 A, 4 B => 1 AB\n",
    "5 B, 7 C => 1 BC\n",
    "4 C, 1 A => 1 CA\n",
    "2 AB, 3 BC, 4 CA => 1 FUEL`\n",
    "\n",
    "The above list of reactions requires ***165*** `ORE` to produce 1 `FUEL`:\n",
    "\n",
    "* Consume 45 `ORE` to produce 10 `A`.\n",
    "* Consume 64 `ORE` to produce 24 `B`.\n",
    "* Consume 56 `ORE` to produce 40 `C`.\n",
    "* Consume 6 `A`, 8 `B` to produce 2 `AB`.\n",
    "* Consume 15 `B`, 21 `C` to produce 3 `BC`.\n",
    "* Consume 16 `C`, 4 `A` to produce 4 `CA`.\n",
    "* Consume 2 `AB`, 3 `BC`, 4 `CA` to produce 1 `FUEL`.\n",
    "\n",
    "Here are some larger examples:\n",
    "\n",
    "***13312*** `ORE` for 1 `FUEL`:\n",
    "`\n",
    "157 ORE => 5 NZVS\n",
    "165 ORE => 6 DCFZ\n",
    "44 XJWVT, 5 KHKGT, 1 QDVJ, 29 NZVS, 9 GPVTF, 48 HKGWZ => 1 FUEL\n",
    "12 HKGWZ, 1 GPVTF, 8 PSHF => 9 QDVJ\n",
    "179 ORE => 7 PSHF\n",
    "177 ORE => 5 HKGWZ\n",
    "7 DCFZ, 7 PSHF => 2 XJWVT\n",
    "165 ORE => 2 GPVTF\n",
    "3 DCFZ, 7 NZVS, 5 HKGWZ, 10 PSHF => 8 KHKGT`\n",
    "\n",
    "***180697*** `ORE` for 1 `FUEL`:\n",
    "\n",
    "`2 VPVL, 7 FWMGM, 2 CXFTF, 11 MNCFX => 1 STKFG\n",
    "17 NVRVD, 3 JNWZP => 8 VPVL\n",
    "53 STKFG, 6 MNCFX, 46 VJHF, 81 HVMC, 68 CXFTF, 25 GNMV => 1 FUEL\n",
    "22 VJHF, 37 MNCFX => 5 FWMGM\n",
    "139 ORE => 4 NVRVD\n",
    "144 ORE => 7 JNWZP\n",
    "5 MNCFX, 7 RFSQX, 2 FWMGM, 2 VPVL, 19 CXFTF => 3 HVMC\n",
    "5 VJHF, 7 MNCFX, 9 VPVL, 37 CXFTF => 6 GNMV\n",
    "145 ORE => 6 MNCFX\n",
    "1 NVRVD => 8 CXFTF\n",
    "1 VJHF, 6 MNCFX => 4 RFSQX\n",
    "176 ORE => 6 VJHF`\n",
    "\n",
    "***2210736*** `ORE` for 1 `FUEL`:\n",
    "\n",
    "`171 ORE => 8 CNZTR\n",
    "7 ZLQW, 3 BMBT, 9 XCVML, 26 XMNCP, 1 WPTQ, 2 MZWV, 1 RJRHP => 4 PLWSL\n",
    "114 ORE => 4 BHXH\n",
    "14 VRPVC => 6 BMBT\n",
    "6 BHXH, 18 KTJDG, 12 WPTQ, 7 PLWSL, 31 FHTLT, 37 ZDVW => 1 FUEL\n",
    "6 WPTQ, 2 BMBT, 8 ZLQW, 18 KTJDG, 1 XMNCP, 6 MZWV, 1 RJRHP => 6 FHTLT\n",
    "15 XDBXC, 2 LTCX, 1 VRPVC => 6 ZLQW\n",
    "13 WPTQ, 10 LTCX, 3 RJRHP, 14 XMNCP, 2 MZWV, 1 ZLQW => 1 ZDVW\n",
    "5 BMBT => 4 WPTQ\n",
    "189 ORE => 9 KTJDG\n",
    "1 MZWV, 17 XDBXC, 3 XCVML => 2 XMNCP\n",
    "12 VRPVC, 27 CNZTR => 2 XDBXC\n",
    "15 KTJDG, 12 BHXH => 5 XCVML\n",
    "3 BHXH, 2 VRPVC => 7 MZWV\n",
    "121 ORE => 7 VRPVC\n",
    "7 XCVML => 6 RJRHP\n",
    "5 BHXH, 4 VRPVC => 5 LTCX`\n",
    "\n",
    "**Given the list of reactions in your puzzle input, what is the minimum amount of `ORE` required to produce exactly 1 `FUEL`?**"
   ]
  },
  {
   "cell_type": "code",
   "execution_count": 1,
   "metadata": {},
   "outputs": [],
   "source": [
    "def get_reactions(filename):\n",
    "    '''Creates dictionary of all reactions from the nanofactory\n",
    "        filename - string of the filename\n",
    "        returns - dictionary in the following form:\n",
    "            d['product'] : (int(yield), ['num1 reactant1', 'num2 reactant2', ... ,'numN reactantN'])\n",
    "    '''\n",
    "    with open(filename) as f:\n",
    "        data = [line.strip().split(' => ') for line in f]\n",
    "        reactions = { i[1].split()[1] : (int(i[1].split()[0]), i[0].split(', ')) for i in data}\n",
    "    return reactions"
   ]
  },
  {
   "cell_type": "code",
   "execution_count": 2,
   "metadata": {},
   "outputs": [
    {
     "data": {
      "text/plain": [
       "{'A': (10, ['10 ORE']),\n",
       " 'B': (1, ['1 ORE']),\n",
       " 'C': (1, ['7 A', '1 B']),\n",
       " 'D': (1, ['7 A', '1 C']),\n",
       " 'E': (1, ['7 A', '1 D']),\n",
       " 'FUEL': (1, ['7 A', '1 E'])}"
      ]
     },
     "execution_count": 2,
     "metadata": {},
     "output_type": "execute_result"
    }
   ],
   "source": [
    "get_reactions('ex1.txt')"
   ]
  },
  {
   "cell_type": "code",
   "execution_count": 3,
   "metadata": {},
   "outputs": [],
   "source": [
    "class Stoichiometry:\n",
    "    def __init__(self, reactions):\n",
    "        self.reactions = reactions\n",
    "        self.avail = {chemical : 0 for chemical in reactions}\n",
    "        self.consumed = {chemical :0 for chemical in reactions}\n",
    "        self.consumed['ORE'] = 0\n",
    "        \n",
    "    def get_reactants(self, product):\n",
    "        '''Returns list of input chemical needs for a desired output chemical'''\n",
    "        return [ (int(reacts.split()[0]), reacts.split()[1]) for reacts in self.reactions[product.upper()][1] ]\n",
    "    \n",
    "    def clear_chemicals(self):\n",
    "        self.avail = {chemical : 0 for chemical in self.reactions}\n",
    "        self.consumed = {chemical : 0 for chemical in self.reactions}\n",
    "        self.consumed['ORE'] = 0\n",
    "        \n",
    "    def run_reaction(self, dyield, product, clear=False):\n",
    "        if clear:\n",
    "            self.clear_chemicals()\n",
    "            \n",
    "        product = product.upper()\n",
    "        yeild = self.reactions[product][0]\n",
    "        reactants = self.get_reactants(product)\n",
    "        \n",
    "        #print(product, dyield, yeild)\n",
    "        \n",
    "        if reactants[0][1] == 'ORE':\n",
    "            if self.avail[product] >= dyield:\n",
    "                self.avail[product] -= dyield\n",
    "                self.consumed[product] += dyield\n",
    "            else:\n",
    "                while self.avail[product] < dyield:\n",
    "                    self.consumed['ORE'] += reactants[0][0]\n",
    "                    self.avail[product] += yeild\n",
    "                self.avail[product] -= dyield\n",
    "                self.consumed[product] += dyield\n",
    "            #print(self.consumed['ORE'], self.avail)\n",
    "        \n",
    "        else:\n",
    "            while self.avail[product] < dyield:\n",
    "                for i in reactants:\n",
    "                    #print(i[1])\n",
    "                    if self.avail[i[1]] >= i[0]:\n",
    "                        self.avail[i[1]] -= i[0]\n",
    "                        self.consumed[i[1]] += i[0]\n",
    "                    elif self.avail[i[1]] < i[0]:\n",
    "                        self.run_reaction(i[0], i[1])\n",
    "                self.avail[product] += yeild\n",
    "                #print(self.consumed['ORE'], self.avail)\n",
    "            self.avail[product] -= dyield\n",
    "            self.consumed[product] += dyield\n",
    "            \n",
    "    def limit_ore(self, limit, product='FUEL', start=1):\n",
    "        search, low, high = start, 1, None\n",
    "        while True:\n",
    "            print(search, high, low)\n",
    "            self.run_reaction(search, product, clear=True)\n",
    "            if self.consumed['ORE'] < limit:\n",
    "                low = search\n",
    "                if high == None:\n",
    "                    search *= 2\n",
    "                else:\n",
    "                    search = (high-low) // 2\n",
    "                    \n",
    "            elif self.consumed['ORE'] > limit:\n",
    "                high = search\n",
    "                search = (high-low) // 2\n",
    "            \n",
    "            elif self.consumed['ORE'] == limit or low == high:\n",
    "                return search"
   ]
  },
  {
   "cell_type": "code",
   "execution_count": 4,
   "metadata": {},
   "outputs": [
    {
     "name": "stdout",
     "output_type": "stream",
     "text": [
      "ORE Consumed: 783895\n"
     ]
    }
   ],
   "source": [
    "reactions = get_reactions('day14.txt')\n",
    "factory = Stoichiometry(reactions)\n",
    "factory.run_reaction(1, 'FUEL', clear=True)\n",
    "print(f'ORE Consumed: {factory.consumed[\"ORE\"]}')"
   ]
  },
  {
   "cell_type": "markdown",
   "metadata": {},
   "source": [
    "## ---Part Two---"
   ]
  },
  {
   "cell_type": "markdown",
   "metadata": {},
   "source": [
    "After collecting `ORE` for a while, you check your cargo hold: ***1 trillion*** `1000000000000` units of `ORE`.\n",
    "\n",
    "***With that much ore,*** given the examples below:\n",
    ">* The 13312 `ORE`-per`FUEL` example could produce ***82892753*** `Fuel`\n",
    ">* The 180697 `ORE`-per`FUEL` example could produce ***5586022*** `Fuel`\n",
    ">* The 2210736 `ORE`-per`FUEL` example could produce ***460664*** `Fuel`\n",
    "\n",
    "Given 1 trillion `ORE`, **what is the maximum amout of `FUEL` you can produce?**"
   ]
  },
  {
   "cell_type": "code",
   "execution_count": 5,
   "metadata": {},
   "outputs": [],
   "source": [
    "import time"
   ]
  },
  {
   "cell_type": "code",
   "execution_count": 6,
   "metadata": {},
   "outputs": [
    {
     "data": {
      "text/plain": [
       "75120192.3076923"
      ]
     },
     "execution_count": 6,
     "metadata": {},
     "output_type": "execute_result"
    }
   ],
   "source": [
    "1000000000000/13312"
   ]
  },
  {
   "cell_type": "code",
   "execution_count": 7,
   "metadata": {},
   "outputs": [
    {
     "name": "stdout",
     "output_type": "stream",
     "text": [
      "4.601478576660156e-05\n"
     ]
    }
   ],
   "source": [
    "start = time.time()\n",
    "#factory.limit_ore(1000000000000)\n",
    "end = time.time()\n",
    "print(end-start)"
   ]
  },
  {
   "cell_type": "markdown",
   "metadata": {},
   "source": [
    "## Test Cases"
   ]
  },
  {
   "cell_type": "markdown",
   "metadata": {},
   "source": [
    "### Example1  (31 ORE)"
   ]
  },
  {
   "cell_type": "code",
   "execution_count": 8,
   "metadata": {},
   "outputs": [
    {
     "data": {
      "text/plain": [
       "{'A': (10, ['10 ORE']),\n",
       " 'B': (1, ['1 ORE']),\n",
       " 'C': (1, ['7 A', '1 B']),\n",
       " 'D': (1, ['7 A', '1 C']),\n",
       " 'E': (1, ['7 A', '1 D']),\n",
       " 'FUEL': (1, ['7 A', '1 E'])}"
      ]
     },
     "execution_count": 8,
     "metadata": {},
     "output_type": "execute_result"
    }
   ],
   "source": [
    "reactions1 = get_reactions('ex1.txt')\n",
    "ex1 = Stoichiometry(reactions1)\n",
    "ex1.reactions"
   ]
  },
  {
   "cell_type": "code",
   "execution_count": 9,
   "metadata": {},
   "outputs": [],
   "source": [
    "ex1.run_reaction(1, 'fuel')"
   ]
  },
  {
   "cell_type": "code",
   "execution_count": 10,
   "metadata": {},
   "outputs": [
    {
     "data": {
      "text/plain": [
       "{'A': 2, 'B': 0, 'C': 0, 'D': 0, 'E': 0, 'FUEL': 0}"
      ]
     },
     "execution_count": 10,
     "metadata": {},
     "output_type": "execute_result"
    }
   ],
   "source": [
    "ex1.avail"
   ]
  },
  {
   "cell_type": "code",
   "execution_count": 11,
   "metadata": {},
   "outputs": [
    {
     "data": {
      "text/plain": [
       "{'A': 28, 'B': 1, 'C': 1, 'D': 1, 'E': 1, 'FUEL': 1, 'ORE': 31}"
      ]
     },
     "execution_count": 11,
     "metadata": {},
     "output_type": "execute_result"
    }
   ],
   "source": [
    "ex1.consumed"
   ]
  },
  {
   "cell_type": "markdown",
   "metadata": {},
   "source": [
    "### Example2 (165 ORE)"
   ]
  },
  {
   "cell_type": "code",
   "execution_count": 12,
   "metadata": {},
   "outputs": [
    {
     "data": {
      "text/plain": [
       "{'A': (2, ['9 ORE']),\n",
       " 'B': (3, ['8 ORE']),\n",
       " 'C': (5, ['7 ORE']),\n",
       " 'AB': (1, ['3 A', '4 B']),\n",
       " 'BC': (1, ['5 B', '7 C']),\n",
       " 'CA': (1, ['4 C', '1 A']),\n",
       " 'FUEL': (1, ['2 AB', '3 BC', '4 CA'])}"
      ]
     },
     "execution_count": 12,
     "metadata": {},
     "output_type": "execute_result"
    }
   ],
   "source": [
    "reactions2 = get_reactions('ex2.txt')\n",
    "ex2 = Stoichiometry(reactions2)\n",
    "ex2.reactions"
   ]
  },
  {
   "cell_type": "code",
   "execution_count": 13,
   "metadata": {},
   "outputs": [
    {
     "name": "stdout",
     "output_type": "stream",
     "text": [
      "ORE Consumed: 165\n"
     ]
    }
   ],
   "source": [
    "ex2.run_reaction(1, 'fuel', clear=True)\n",
    "print(f'ORE Consumed: {ex2.consumed[\"ORE\"]}')"
   ]
  },
  {
   "cell_type": "markdown",
   "metadata": {},
   "source": [
    "### Example3 (13312 ORE) (82892753 FUEL)"
   ]
  },
  {
   "cell_type": "code",
   "execution_count": 14,
   "metadata": {
    "scrolled": true
   },
   "outputs": [
    {
     "data": {
      "text/plain": [
       "{'NZVS': (5, ['157 ORE']),\n",
       " 'DCFZ': (6, ['165 ORE']),\n",
       " 'FUEL': (1,\n",
       "  ['44 XJWVT', '5 KHKGT', '1 QDVJ', '29 NZVS', '9 GPVTF', '48 HKGWZ']),\n",
       " 'QDVJ': (9, ['12 HKGWZ', '1 GPVTF', '8 PSHF']),\n",
       " 'PSHF': (7, ['179 ORE']),\n",
       " 'HKGWZ': (5, ['177 ORE']),\n",
       " 'XJWVT': (2, ['7 DCFZ', '7 PSHF']),\n",
       " 'GPVTF': (2, ['165 ORE']),\n",
       " 'KHKGT': (8, ['3 DCFZ', '7 NZVS', '5 HKGWZ', '10 PSHF'])}"
      ]
     },
     "execution_count": 14,
     "metadata": {},
     "output_type": "execute_result"
    }
   ],
   "source": [
    "reactions3 = get_reactions('ex3.txt')\n",
    "ex3 = Stoichiometry(reactions3)\n",
    "ex3.reactions"
   ]
  },
  {
   "cell_type": "code",
   "execution_count": 15,
   "metadata": {},
   "outputs": [
    {
     "name": "stdout",
     "output_type": "stream",
     "text": [
      "ORE Consumed: 13312\n"
     ]
    }
   ],
   "source": [
    "ex3.run_reaction(1,'fuel', clear=True)\n",
    "print(f'ORE Consumed: {ex3.consumed[\"ORE\"]}')"
   ]
  },
  {
   "cell_type": "code",
   "execution_count": 16,
   "metadata": {},
   "outputs": [
    {
     "data": {
      "text/plain": [
       "{'NZVS': 4,\n",
       " 'DCFZ': 5,\n",
       " 'FUEL': 0,\n",
       " 'QDVJ': 8,\n",
       " 'PSHF': 3,\n",
       " 'HKGWZ': 0,\n",
       " 'XJWVT': 0,\n",
       " 'GPVTF': 0,\n",
       " 'KHKGT': 3}"
      ]
     },
     "execution_count": 16,
     "metadata": {},
     "output_type": "execute_result"
    }
   ],
   "source": [
    "ex3.avail"
   ]
  },
  {
   "cell_type": "code",
   "execution_count": 17,
   "metadata": {},
   "outputs": [
    {
     "data": {
      "text/plain": [
       "{'NZVS': 36,\n",
       " 'DCFZ': 157,\n",
       " 'FUEL': 1,\n",
       " 'QDVJ': 1,\n",
       " 'PSHF': 172,\n",
       " 'HKGWZ': 65,\n",
       " 'XJWVT': 44,\n",
       " 'GPVTF': 10,\n",
       " 'KHKGT': 5,\n",
       " 'ORE': 13312}"
      ]
     },
     "execution_count": 17,
     "metadata": {},
     "output_type": "execute_result"
    }
   ],
   "source": [
    "ex3.consumed"
   ]
  },
  {
   "cell_type": "code",
   "execution_count": 18,
   "metadata": {},
   "outputs": [],
   "source": [
    "#ex3.limit_ore(1000000000000)"
   ]
  },
  {
   "cell_type": "markdown",
   "metadata": {},
   "source": [
    "### Example4  (180697 ORE) (5586022 FUEL)"
   ]
  },
  {
   "cell_type": "code",
   "execution_count": 19,
   "metadata": {},
   "outputs": [
    {
     "data": {
      "text/plain": [
       "{'STKFG': (1, ['2 VPVL', '7 FWMGM', '2 CXFTF', '11 MNCFX']),\n",
       " 'VPVL': (8, ['17 NVRVD', '3 JNWZP']),\n",
       " 'FUEL': (1,\n",
       "  ['53 STKFG', '6 MNCFX', '46 VJHF', '81 HVMC', '68 CXFTF', '25 GNMV']),\n",
       " 'FWMGM': (5, ['22 VJHF', '37 MNCFX']),\n",
       " 'NVRVD': (4, ['139 ORE']),\n",
       " 'JNWZP': (7, ['144 ORE']),\n",
       " 'HVMC': (3, ['5 MNCFX', '7 RFSQX', '2 FWMGM', '2 VPVL', '19 CXFTF']),\n",
       " 'GNMV': (6, ['5 VJHF', '7 MNCFX', '9 VPVL', '37 CXFTF']),\n",
       " 'MNCFX': (6, ['145 ORE']),\n",
       " 'CXFTF': (8, ['1 NVRVD']),\n",
       " 'RFSQX': (4, ['1 VJHF', '6 MNCFX']),\n",
       " 'VJHF': (6, ['176 ORE'])}"
      ]
     },
     "execution_count": 19,
     "metadata": {},
     "output_type": "execute_result"
    }
   ],
   "source": [
    "reactions4 = get_reactions('ex4.txt')\n",
    "ex4 = Stoichiometry(reactions4)\n",
    "ex4.reactions"
   ]
  },
  {
   "cell_type": "code",
   "execution_count": 20,
   "metadata": {},
   "outputs": [
    {
     "name": "stdout",
     "output_type": "stream",
     "text": [
      "ORE Consumed: 180697\n"
     ]
    }
   ],
   "source": [
    "ex4.run_reaction(1,'fuel', clear=True)\n",
    "print(f'ORE Consumed: {ex4.consumed[\"ORE\"]}')"
   ]
  },
  {
   "cell_type": "code",
   "execution_count": 21,
   "metadata": {},
   "outputs": [],
   "source": [
    "#ex4.limit_ore(1000000000000)"
   ]
  },
  {
   "cell_type": "markdown",
   "metadata": {},
   "source": [
    "### Example5  (2210736 ORE) (460664 FUEL)"
   ]
  },
  {
   "cell_type": "code",
   "execution_count": 22,
   "metadata": {},
   "outputs": [
    {
     "data": {
      "text/plain": [
       "{'CNZTR': (8, ['171 ORE']),\n",
       " 'PLWSL': (4,\n",
       "  ['7 ZLQW', '3 BMBT', '9 XCVML', '26 XMNCP', '1 WPTQ', '2 MZWV', '1 RJRHP']),\n",
       " 'BHXH': (4, ['114 ORE']),\n",
       " 'BMBT': (6, ['14 VRPVC']),\n",
       " 'FUEL': (1,\n",
       "  ['6 BHXH', '18 KTJDG', '12 WPTQ', '7 PLWSL', '31 FHTLT', '37 ZDVW']),\n",
       " 'FHTLT': (6,\n",
       "  ['6 WPTQ', '2 BMBT', '8 ZLQW', '18 KTJDG', '1 XMNCP', '6 MZWV', '1 RJRHP']),\n",
       " 'ZLQW': (6, ['15 XDBXC', '2 LTCX', '1 VRPVC']),\n",
       " 'ZDVW': (1,\n",
       "  ['13 WPTQ', '10 LTCX', '3 RJRHP', '14 XMNCP', '2 MZWV', '1 ZLQW']),\n",
       " 'WPTQ': (4, ['5 BMBT']),\n",
       " 'KTJDG': (9, ['189 ORE']),\n",
       " 'XMNCP': (2, ['1 MZWV', '17 XDBXC', '3 XCVML']),\n",
       " 'XDBXC': (2, ['12 VRPVC', '27 CNZTR']),\n",
       " 'XCVML': (5, ['15 KTJDG', '12 BHXH']),\n",
       " 'MZWV': (7, ['3 BHXH', '2 VRPVC']),\n",
       " 'VRPVC': (7, ['121 ORE']),\n",
       " 'RJRHP': (6, ['7 XCVML']),\n",
       " 'LTCX': (5, ['5 BHXH', '4 VRPVC'])}"
      ]
     },
     "execution_count": 22,
     "metadata": {},
     "output_type": "execute_result"
    }
   ],
   "source": [
    "reactions5 = get_reactions('ex5.txt')\n",
    "ex5 = Stoichiometry(reactions5)\n",
    "ex5.reactions"
   ]
  },
  {
   "cell_type": "code",
   "execution_count": 23,
   "metadata": {},
   "outputs": [
    {
     "name": "stdout",
     "output_type": "stream",
     "text": [
      "ORE Consumed: 2210736\n"
     ]
    }
   ],
   "source": [
    "ex5.run_reaction(1,'fuel', clear=True)\n",
    "print(f'ORE Consumed: {ex5.consumed[\"ORE\"]}')"
   ]
  },
  {
   "cell_type": "code",
   "execution_count": 24,
   "metadata": {},
   "outputs": [
    {
     "data": {
      "text/plain": [
       "{'BHXH': (228,\n",
       "  {'CNZTR': 0,\n",
       "   'PLWSL': 0,\n",
       "   'BHXH': 2,\n",
       "   'BMBT': 0,\n",
       "   'FUEL': 0,\n",
       "   'FHTLT': 0,\n",
       "   'ZLQW': 0,\n",
       "   'ZDVW': 0,\n",
       "   'WPTQ': 0,\n",
       "   'KTJDG': 0,\n",
       "   'XMNCP': 0,\n",
       "   'XDBXC': 0,\n",
       "   'XCVML': 0,\n",
       "   'MZWV': 0,\n",
       "   'VRPVC': 0,\n",
       "   'RJRHP': 0,\n",
       "   'LTCX': 0}),\n",
       " 'KTJDG': (378,\n",
       "  {'CNZTR': 0,\n",
       "   'PLWSL': 0,\n",
       "   'BHXH': 0,\n",
       "   'BMBT': 0,\n",
       "   'FUEL': 0,\n",
       "   'FHTLT': 0,\n",
       "   'ZLQW': 0,\n",
       "   'ZDVW': 0,\n",
       "   'WPTQ': 0,\n",
       "   'KTJDG': 0,\n",
       "   'XMNCP': 0,\n",
       "   'XDBXC': 0,\n",
       "   'XCVML': 0,\n",
       "   'MZWV': 0,\n",
       "   'VRPVC': 0,\n",
       "   'RJRHP': 0,\n",
       "   'LTCX': 0}),\n",
       " 'WPTQ': (726,\n",
       "  {'CNZTR': 0,\n",
       "   'PLWSL': 0,\n",
       "   'BHXH': 0,\n",
       "   'BMBT': 3,\n",
       "   'FUEL': 0,\n",
       "   'FHTLT': 0,\n",
       "   'ZLQW': 0,\n",
       "   'ZDVW': 0,\n",
       "   'WPTQ': 0,\n",
       "   'KTJDG': 0,\n",
       "   'XMNCP': 0,\n",
       "   'XDBXC': 0,\n",
       "   'XCVML': 0,\n",
       "   'MZWV': 0,\n",
       "   'VRPVC': 0,\n",
       "   'RJRHP': 0,\n",
       "   'LTCX': 0}),\n",
       " 'PLWSL': (207045,\n",
       "  {'CNZTR': 4,\n",
       "   'PLWSL': 1,\n",
       "   'BHXH': 3,\n",
       "   'BMBT': 1,\n",
       "   'FUEL': 0,\n",
       "   'FHTLT': 0,\n",
       "   'ZLQW': 4,\n",
       "   'ZDVW': 0,\n",
       "   'WPTQ': 2,\n",
       "   'KTJDG': 0,\n",
       "   'XMNCP': 0,\n",
       "   'XDBXC': 1,\n",
       "   'XCVML': 2,\n",
       "   'MZWV': 5,\n",
       "   'VRPVC': 5,\n",
       "   'RJRHP': 4,\n",
       "   'LTCX': 4}),\n",
       " 'FHTLT': (76793,\n",
       "  {'CNZTR': 6,\n",
       "   'PLWSL': 0,\n",
       "   'BHXH': 2,\n",
       "   'BMBT': 3,\n",
       "   'FUEL': 0,\n",
       "   'FHTLT': 5,\n",
       "   'ZLQW': 0,\n",
       "   'ZDVW': 0,\n",
       "   'WPTQ': 0,\n",
       "   'KTJDG': 3,\n",
       "   'XMNCP': 0,\n",
       "   'XDBXC': 1,\n",
       "   'XCVML': 4,\n",
       "   'MZWV': 3,\n",
       "   'VRPVC': 3,\n",
       "   'RJRHP': 0,\n",
       "   'LTCX': 4}),\n",
       " 'ZDVW': (1934955,\n",
       "  {'CNZTR': 6,\n",
       "   'PLWSL': 0,\n",
       "   'BHXH': 3,\n",
       "   'BMBT': 1,\n",
       "   'FUEL': 0,\n",
       "   'FHTLT': 0,\n",
       "   'ZLQW': 5,\n",
       "   'ZDVW': 0,\n",
       "   'WPTQ': 3,\n",
       "   'KTJDG': 6,\n",
       "   'XMNCP': 0,\n",
       "   'XDBXC': 0,\n",
       "   'XCVML': 0,\n",
       "   'MZWV': 3,\n",
       "   'VRPVC': 2,\n",
       "   'RJRHP': 3,\n",
       "   'LTCX': 1})}"
      ]
     },
     "execution_count": 24,
     "metadata": {},
     "output_type": "execute_result"
    }
   ],
   "source": [
    "reactants = [i for i in ex5.reactions['FUEL'][1]]\n",
    "ore = {}\n",
    "for i in reactants:\n",
    "    ex5.run_reaction(int(i.split()[0]), i.split()[1], clear=True)\n",
    "    ore[i.split()[1]] = (ex5.consumed['ORE'], ex5.avail)\n",
    "ore"
   ]
  },
  {
   "cell_type": "code",
   "execution_count": null,
   "metadata": {},
   "outputs": [],
   "source": []
  }
 ],
 "metadata": {
  "kernelspec": {
   "display_name": "Python 3",
   "language": "python",
   "name": "python3"
  },
  "language_info": {
   "codemirror_mode": {
    "name": "ipython",
    "version": 3
   },
   "file_extension": ".py",
   "mimetype": "text/x-python",
   "name": "python",
   "nbconvert_exporter": "python",
   "pygments_lexer": "ipython3",
   "version": "3.8.1"
  }
 },
 "nbformat": 4,
 "nbformat_minor": 4
}
