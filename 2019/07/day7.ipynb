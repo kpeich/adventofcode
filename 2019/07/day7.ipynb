{
 "cells": [
  {
   "cell_type": "markdown",
   "metadata": {},
   "source": [
    "# ---Day 7 : Amplification Circuit---"
   ]
  },
  {
   "cell_type": "markdown",
   "metadata": {},
   "source": [
    "## ---Part One---"
   ]
  },
  {
   "cell_type": "markdown",
   "metadata": {},
   "source": [
    "Based on the navigational maps, you're going to need to send more power to your ship's thrusters to reach Santa in time. To do this, you'll need to configure a series of <a src=\"https://en.wikipedia.org/wiki/Amplifier\"> amplifiers </a> already installed on the ship.\n",
    "\n",
    "There are five amplifiers connected in series; each one receives an input signal and produces an output signal. They are connected such that the first amplifier's output leads to the second amplifier's input, the second amplifier's output leads to the third amplifier's input, and so on. The first amplifier's input value is 0, and the last amplifier's output leads to your ship's thrusters.\n",
    "```\n",
    "    O-------O  O-------O  O-------O  O-------O  O-------O\n",
    "0 ->| Amp A |->| Amp B |->| Amp C |->| Amp D |->| Amp E |-> (to thrusters)\n",
    "    O-------O  O-------O  O-------O  O-------O  O-------O\n",
    "```\n",
    "The Elves have sent you some ***Amplifier Controller Software*** (your puzzle input), a program that should run on your existing Intcode computer (day5 solution). Each amplifier will need to run a copy of the program.\n",
    "\n",
    "When a copy of the program starts running on an amplifier, it will first use an input instruction to ask the amplifier for its current ***phase setting*** (an integer from 0 to 4). Each phase setting is used ***exactly once***, but the Elves can't remember which amplifier needs which phase setting.\n",
    "\n",
    "The program will then call another input instruction to get the amplifier's input signal, compute the correct output signal, and supply it back to the amplifier with an output instruction. (If the amplifier has not yet received an input signal, it waits until one arrives.)\n",
    "\n",
    "Your job is to ***find the largest output signal that can be sent to the thrusters*** by trying every possible combination of phase settings on the amplifiers. Make sure that memory is not shared or reused between copies of the program.\n",
    "\n",
    "**For example, suppose you want to try the phase setting sequence ```3,1,2,4,0```:**\n",
    "> Setting amplifier ```A``` to phase setting ```3```, amplifier ```B``` to setting ```1```, ```C``` to ```2```, ```D``` to ```4```, and ```E``` to ```0```.\n",
    "\n",
    "**Then, you could determine the output signal that gets sent from amplifier ```E``` to the thrusters with the following steps:**\n",
    "\n",
    "1. Start the copy of the amplifier controller software that will run on amplifier ```A```:\n",
    ">* At its first input instruction, provide it the amplifier's phase setting, ```3```.\n",
    ">* At its second input instruction, provide it the input signal, ```0```. \n",
    ">* After some calculations, it will use an output instruction to indicate the amplifier's output signal.\n",
    "\n",
    "2. Start the software for amplifier ```B```:\n",
    ">* Provide it the phase setting (```1```) and then whatever output signal was produced from amplifier ```A```. \n",
    ">* It will then produce a new output signal destined for amplifier ```C```.\n",
    "\n",
    "3. Start the software for amplifier ```C```:\n",
    ">* Provide the phase setting (```2```) and the input value from amplifier ```B```\n",
    ">* Then collect its output signal.\n",
    "\n",
    "4. Run amplifier ```D```'s software:\n",
    ">* Provide the phase setting (```4```) and input value from ```C```\n",
    ">* Collect its output signal.\n",
    "\n",
    "5. Run amplifier ```E```'s software:\n",
    ">* Provide the phase setting (```0```) and input value from ```D```\n",
    ">* Collect its output signal.\n",
    "\n",
    "\n",
    "6. The final output signal from amplifier ```E``` would be sent to the thrusters. However, this phase setting sequence may not have been the best one; another sequence might have sent a higher signal to the thrusters.\n",
    "\n",
    "**Try every combination of phase settings on the amplifiers. What is the highest signal that can be sent to the thrusters?**"
   ]
  },
  {
   "cell_type": "code",
   "execution_count": 1,
   "metadata": {},
   "outputs": [],
   "source": [
    "from itertools import permutations #used for phase setting configurations"
   ]
  },
  {
   "cell_type": "markdown",
   "metadata": {},
   "source": [
    "### Day 5 Intcode Class, renamed Computer\n",
    "For some reason my day5 Intcode class wasn't working on my day7 programs so I made the following changes:\n",
    "\n",
    "* Changed parameters function not to override last parameter with mode 0 (position mode)\n",
    "* Changed add, multiply, less_than, is_equal functions to keep last parameter in mode 0 (position mode)"
   ]
  },
  {
   "cell_type": "code",
   "execution_count": 2,
   "metadata": {},
   "outputs": [],
   "source": [
    "class Computer:\n",
    "    def __init__(self, program):\n",
    "        self.program = program\n",
    "        self.pointer = 0\n",
    "        self.instruction = 0\n",
    "        self.opcode = { 1 : self.add,\n",
    "                 2 : self.multiply,\n",
    "                 3 : self.save,\n",
    "                 4 : self.output,\n",
    "                 5 : self.jump_true,\n",
    "                 6 : self.jump_false,\n",
    "                 7 : self.less_than,\n",
    "                 8 : self.is_equal,\n",
    "                 99 : self.halt }\n",
    "        \n",
    "    def get_opcode(self):\n",
    "        return self.instruction % 100\n",
    "    \n",
    "    def get_modes(self):\n",
    "        return self.instruction // 100\n",
    "    \n",
    "    def set_instruction(self):\n",
    "        self.instruction = self.program[self.pointer]\n",
    "        self.pointer += 1\n",
    "\n",
    "    def parameters(self, modes, num_parameters=3):\n",
    "        mode = [ (modes // 10**n % 10) for n in range(num_parameters) ]\n",
    "        parameters = [  self.program[i] if mode[i-self.pointer] else self.program[self.program[i]] \\\n",
    "                      for i in range(self.pointer, self.pointer+num_parameters) ]\n",
    "        \n",
    "        return parameters\n",
    "\n",
    "    def add(self, step=3):\n",
    "        values = self.parameters(self.get_modes())\n",
    "        # Write over last parameter because it should always be an value indicating the location\n",
    "        values[-1] = self.program[self.pointer+step-1]\n",
    "        self.program[values[2]] = values[0] + values[1]\n",
    "        self.pointer += step\n",
    "        \n",
    "    def multiply(self, step=3):\n",
    "        values = self.parameters(self.get_modes())\n",
    "        # Write over last parameter because it should always be an value indicating the location\n",
    "        values[-1] = self.program[self.pointer+step-1]\n",
    "        self.program[values[2]] = values[0] * values[1]\n",
    "        self.pointer += step\n",
    "        \n",
    "    def save(self, step=1):\n",
    "        new = input(\"Input : \")\n",
    "        self.program[self.program[self.pointer]] = int(new)\n",
    "        self.pointer += step\n",
    "        \n",
    "    def output(self, step=2):\n",
    "        mode = self.get_modes()\n",
    "        print( f'Output: {(self.program[self.program[self.pointer]], self.program[self.pointer])[mode]}' )\n",
    "        self.pointer += step\n",
    "        \n",
    "    def jump_true(self, step=2):\n",
    "        values = self.parameters(self.get_modes(), 2)\n",
    "        if values[0] != 0:\n",
    "            self.pointer = values[1]\n",
    "        else:\n",
    "            self.pointer += step\n",
    "            \n",
    "    def jump_false(self, step=1):\n",
    "        values = self.parameters(self.get_modes(), 2)\n",
    "        if values[0] == 0:\n",
    "            self.pointer = values[1]\n",
    "        else:\n",
    "            self.pointer += step\n",
    "            \n",
    "    def less_than(self, step=3):\n",
    "        values = self.parameters(self.get_modes())\n",
    "        # Write over last parameter because it should always be an value indicating the location\n",
    "        values[-1] = self.program[self.pointer+step-1]\n",
    "        self.program[values[2]] = int(values[0] < values[1])\n",
    "        \n",
    "        self.pointer += step\n",
    "    \n",
    "    def is_equal(self, step=3):\n",
    "        values = self.parameters(self.get_modes())\n",
    "        # Write over last parameter because it should always be an value indicating the location\n",
    "        values[-1] = self.program[self.pointer+step-1]\n",
    "        self.program[values[2]] = int(values[0]==values[1])\n",
    "        \n",
    "        self.pointer += step\n",
    "        \n",
    "    def halt(self):\n",
    "        print(\"Program Halted.\")\n",
    "        self.instruction = -1\n",
    "    \n",
    "    def run(self):\n",
    "        while self.instruction != -1:\n",
    "            self.set_instruction()\n",
    "            # print(self.pointer, self.instruction) # Used for Testing\n",
    "            self.opcode[self.get_opcode()]()\n",
    "            # print(self.program[:self.pointer+1], self.program[self.pointer:self.pointer+4]) # Used for Testing"
   ]
  },
  {
   "cell_type": "code",
   "execution_count": 3,
   "metadata": {},
   "outputs": [],
   "source": [
    "class Amp(Computer):\n",
    "    def __init__(self, program, input1, input2):\n",
    "        Computer.__init__(self, program)\n",
    "        self.temp1 = input1\n",
    "        self.temp2 = input2\n",
    "        self.out = 0\n",
    "    \n",
    "    def save(self, step=1):\n",
    "        self.program[self.program[self.pointer]] = int(self.temp1)\n",
    "        self.temp1 = self.temp2\n",
    "        self.pointer += step\n",
    "    \n",
    "    def output(self, step=1):\n",
    "        mode = self.get_modes()\n",
    "        self.out = (self.program[self.program[self.pointer]], self.program[self.pointer])[mode]\n",
    "        self.pointer += step\n",
    "        \n",
    "    def halt(self):\n",
    "        self.instruction = -1\n",
    "        \n",
    "    def run(self):\n",
    "        while self.instruction != -1:\n",
    "            self.set_instruction()\n",
    "            self.opcode[self.get_opcode()]()\n",
    "        return self.out"
   ]
  },
  {
   "cell_type": "code",
   "execution_count": 4,
   "metadata": {},
   "outputs": [],
   "source": [
    "PHASE_SETTINGS = list(permutations('01234', 5)) #all permutations of 01234"
   ]
  },
  {
   "cell_type": "code",
   "execution_count": 5,
   "metadata": {},
   "outputs": [],
   "source": [
    "def max_thrusters(program, settings):\n",
    "    max_thruster = 0\n",
    "    phase_seq = []\n",
    "    for setting in settings:\n",
    "        signal = 0\n",
    "        for phase in setting:\n",
    "            amp = Amp(list(program), phase, signal)\n",
    "            signal = amp.run()\n",
    "        if signal > max_thruster : max_thruster, phase_seq = signal, setting\n",
    "    return max_thruster, phase_seq"
   ]
  },
  {
   "cell_type": "code",
   "execution_count": 6,
   "metadata": {},
   "outputs": [
    {
     "data": {
      "text/plain": [
       "(43210, ('4', '3', '2', '1', '0'))"
      ]
     },
     "execution_count": 6,
     "metadata": {},
     "output_type": "execute_result"
    }
   ],
   "source": [
    "#Max thruster signal 43210 (from phase setting sequence 4,3,2,1,0):\n",
    "ex1 = [ 3,15,3,16,1002,16,10,16,1,16,15,15,4,15,99,0,0 ]\n",
    "max_thrusters(ex1, PHASE_SETTINGS)"
   ]
  },
  {
   "cell_type": "code",
   "execution_count": 7,
   "metadata": {},
   "outputs": [
    {
     "data": {
      "text/plain": [
       "(54321, ('0', '1', '2', '3', '4'))"
      ]
     },
     "execution_count": 7,
     "metadata": {},
     "output_type": "execute_result"
    }
   ],
   "source": [
    "#Max thruster signal 54321 (from phase setting sequence 0,1,2,3,4):\n",
    "ex2 = [ 3,23,3,24,1002,24,10,24,1002,23,-1,23,101,5,23,23,1,24,23,23,4,23,99,0,0 ]\n",
    "max_thrusters(ex2, PHASE_SETTINGS)"
   ]
  },
  {
   "cell_type": "code",
   "execution_count": 8,
   "metadata": {},
   "outputs": [
    {
     "data": {
      "text/plain": [
       "(65210, ('1', '0', '4', '3', '2'))"
      ]
     },
     "execution_count": 8,
     "metadata": {},
     "output_type": "execute_result"
    }
   ],
   "source": [
    "#Max thruster signal 65210 (from phase setting sequence 1,0,4,3,2):\n",
    "ex3 = [3,31,3,32,1002,32,10,32,1001,31,-2,31,1007,31,0,33,1002,33,7,33,1,33,31,31,1,32,31,31,4,31,99,0,0,0]\n",
    "max_thrusters(ex3, PHASE_SETTINGS)"
   ]
  },
  {
   "cell_type": "code",
   "execution_count": 9,
   "metadata": {},
   "outputs": [
    {
     "name": "stdout",
     "output_type": "stream",
     "text": [
      "(67023, ('2', '3', '1', '0', '4'))\n"
     ]
    }
   ],
   "source": [
    "with open('day7.txt') as f:\n",
    "    program = [ int(i) for i in f.read().split(',') ]\n",
    "    print(max_thrusters(program, PHASE_SETTINGS))"
   ]
  },
  {
   "cell_type": "markdown",
   "metadata": {},
   "source": [
    "## ---Part Two---"
   ]
  },
  {
   "cell_type": "markdown",
   "metadata": {},
   "source": [
    "It's no good - in this configuration, the amplifiers can't generate a large enough output signal to produce the thrust you'll need. The Elves quickly talk you through rewiring the amplifiers into a ***feedback loop***:\n",
    "\n",
    "```\n",
    "      O-------O  O-------O  O-------O  O-------O  O-------O\n",
    "0 -+->| Amp A |->| Amp B |->| Amp C |->| Amp D |->| Amp E |-.\n",
    "   |  O-------O  O-------O  O-------O  O-------O  O-------O |\n",
    "   |                                                        |\n",
    "   '--------------------------------------------------------+\n",
    "                                                            |\n",
    "                                                            v\n",
    "                                                     (to thrusters)\n",
    "```\n",
    "\n",
    "Most of the amplifiers are connected as they were before; amplifier `A`'s output is connected to amplifier `B`'s input, and so on. ***However***, the output from amplifier `E` is now connected into amplifier `A`'s input. This creates the feedback loop: the signal will be sent through the amplifiers ***many times***.\n",
    "\n",
    "In feedback loop mode, the amplifiers need ***totally different phase settings***: integers from `5` to `9`, again each used exactly once. These settings will cause the Amplifier Controller Software to repeatedly take input and produce output many times before halting. Provide each amplifier its phase setting at its first input instruction; all further input/output instructions are for signals.\n",
    "\n",
    "Don't restart the Amplifier Controller Software on any amplifier during this process. Each one should continue receiving and sending signals until it halts.\n",
    "\n",
    "All signals sent or received in this process will be between pairs of amplifiers except the very first signal and the very last signal. To start the process, a `0` signal is sent to amplifier `A`'s input ***exactly once***.\n",
    "\n",
    "Eventually, the software on the amplifiers will halt after they have processed the final loop. When this happens, the last output signal from amplifier `E` is sent to the thrusters. Your job is to ***find the largest output signal that can be sent to the thrusters*** using the new phase settings and feedback loop arrangement.\n",
    "\n",
    "**Try every combination of the new phase settings on the amplifier feedback loop. What is the highest signal that can be sent to the thrusters?**"
   ]
  },
  {
   "cell_type": "code",
   "execution_count": 10,
   "metadata": {},
   "outputs": [],
   "source": [
    "class Amp2(Computer):\n",
    "    def __init__(self, program, phase, signal):\n",
    "        Computer.__init__(self, program)\n",
    "        self.phase = phase\n",
    "        self.signal = signal\n",
    "        self.first_run = True\n",
    "        self.out = 0\n",
    "        self.halt = False        \n",
    "    \n",
    "    def save(self, step=1):\n",
    "        if self.first_run:\n",
    "            self.program[self.program[self.pointer]] = int(self.phase)\n",
    "            self.first_run = False\n",
    "        else:\n",
    "            self.program[self.program[self.pointer]] = int(self.signal)\n",
    "        self.pointer += step\n",
    "    \n",
    "    def output(self, step=1):\n",
    "        mode = self.get_modes()\n",
    "        self.out = (self.program[self.program[self.pointer]], self.program[self.pointer])[mode]\n",
    "        self.pointer += step\n",
    "        self.instruction = -1 #Amps only produce ONE output at a time\n",
    "        \n",
    "    def halt(self):\n",
    "        self.instruction = -1\n",
    "        self.halt = True\n",
    "        \n",
    "    def initialize(self):\n",
    "        self.instruction = 0\n",
    "        \n",
    "    def run(self):\n",
    "        if not self.first_run or self.halt:\n",
    "            self.initialize()\n",
    "        while self.instruction != -1:\n",
    "            self.set_instruction()\n",
    "            self.opcode[self.get_opcode()]()\n",
    "        return self.out"
   ]
  },
  {
   "cell_type": "markdown",
   "metadata": {},
   "source": [
    "**Checking new class outputs with ex1 from part 1**"
   ]
  },
  {
   "cell_type": "code",
   "execution_count": 11,
   "metadata": {},
   "outputs": [
    {
     "data": {
      "text/plain": [
       "(4, 43, 432, 4321, 43210)"
      ]
     },
     "execution_count": 11,
     "metadata": {},
     "output_type": "execute_result"
    }
   ],
   "source": [
    "ex1 = [ 3,15,3,16,1002,16,10,16,1,16,15,15,4,15,99,0,0 ]\n",
    "ampA = Amp2(ex1,4,0)\n",
    "ampB = Amp2(ex1,3,ampA.run())\n",
    "ampC = Amp2(ex1,2,ampB.run())\n",
    "ampD = Amp2(ex1,1,ampC.run())\n",
    "ampE = Amp2(ex1,0,ampD.run())\n",
    "ampE.run()\n",
    "ampA.out, ampB.out, ampC.out, ampD.out, ampE.out"
   ]
  },
  {
   "cell_type": "code",
   "execution_count": 12,
   "metadata": {},
   "outputs": [],
   "source": [
    "FEEDBACK_SETTINGS = list(permutations('56789', 5)) #all permutations of 56789"
   ]
  },
  {
   "cell_type": "code",
   "execution_count": 13,
   "metadata": {},
   "outputs": [],
   "source": [
    "def run_feedback(program, phase_setting, signal=0):\n",
    "    amps = [ Amp2(list(program), i, 0) for i in phase_setting ]\n",
    "    amp_num = 0\n",
    "    while not amps[-1].halt:\n",
    "        amps[(amp_num+1)%len(amps)].signal = amps[amp_num].run()\n",
    "        amp_num = (amp_num+1)%len(amps)\n",
    "    return amps[-1].out"
   ]
  },
  {
   "cell_type": "code",
   "execution_count": 14,
   "metadata": {},
   "outputs": [
    {
     "name": "stdout",
     "output_type": "stream",
     "text": [
      "Thruster signal: 139629729\n"
     ]
    }
   ],
   "source": [
    "#Max thruster signal 139629729 (from phase setting sequence 9,8,7,6,5):\n",
    "feed_ex1 = [ 3,26,1001,26,-4,26,3,27,1002,27,2,27,1,27,26,27,4,27,1001,28,-1,28,1005,28,6,99,0,0,5 ]\n",
    "\n",
    "print(f\"Thruster signal: {run_feedback(feed_ex1,'98765')}\")"
   ]
  },
  {
   "cell_type": "code",
   "execution_count": 15,
   "metadata": {},
   "outputs": [
    {
     "name": "stdout",
     "output_type": "stream",
     "text": [
      "Thruster signal: 18216\n"
     ]
    }
   ],
   "source": [
    "#Max thruster signal 18216 (from phase setting sequence 9,7,8,5,6):\n",
    "\n",
    "feed_ex2 = [3,52,1001,52,-5,52,3,53,1,52,56,54,1007,54,5,55,1005,55,26,1001,54, \\\n",
    "            -5,54,1105,1,12,1,53,54,53,1008,54,0,55,1001,55,1,55,2,53,55,53,4, \\\n",
    "            53,1001,56,-1,56,1005,56,6,99,0,0,0,0,10]\n",
    "\n",
    "print(f\"Thruster signal: {run_feedback(feed_ex2,'97856')}\")"
   ]
  },
  {
   "cell_type": "code",
   "execution_count": 16,
   "metadata": {},
   "outputs": [],
   "source": [
    "def get_max_thrust(program, phase_settings, signal=0, get_phase=False):\n",
    "    if get_phase:\n",
    "        thrusts = [ run_feedback(program, phase, signal) for phase in phase_settings ]\n",
    "        max_thrust = max(thrusts)\n",
    "        return max_thrust, phase_settings[thrusts.index(max_thrust)]\n",
    "    return max([ run_feedback(program, phase, signal) for phase in phase_settings ])"
   ]
  },
  {
   "cell_type": "code",
   "execution_count": 17,
   "metadata": {},
   "outputs": [
    {
     "name": "stdout",
     "output_type": "stream",
     "text": [
      "feed_ex1: (139629729, ('9', '8', '7', '6', '5'))\n",
      "feed_ex2: 18216\n"
     ]
    }
   ],
   "source": [
    "print(f'feed_ex1: {get_max_thrust(feed_ex1,FEEDBACK_SETTINGS, get_phase=True)}')\n",
    "print(f'feed_ex2: {get_max_thrust(feed_ex2,FEEDBACK_SETTINGS)}')"
   ]
  },
  {
   "cell_type": "code",
   "execution_count": 18,
   "metadata": {},
   "outputs": [
    {
     "name": "stdout",
     "output_type": "stream",
     "text": [
      "(7818398, ('5', '8', '7', '9', '6'))\n"
     ]
    }
   ],
   "source": [
    "with open('day7.txt') as f:\n",
    "    program = [ int(i) for i in f.read().split(',') ]\n",
    "    print(get_max_thrust(program, FEEDBACK_SETTINGS,get_phase=True))"
   ]
  }
 ],
 "metadata": {
  "kernelspec": {
   "display_name": "Python 3",
   "language": "python",
   "name": "python3"
  },
  "language_info": {
   "codemirror_mode": {
    "name": "ipython",
    "version": 3
   },
   "file_extension": ".py",
   "mimetype": "text/x-python",
   "name": "python",
   "nbconvert_exporter": "python",
   "pygments_lexer": "ipython3",
   "version": "3.8.1"
  }
 },
 "nbformat": 4,
 "nbformat_minor": 4
}
